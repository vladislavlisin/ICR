{
  "nbformat": 4,
  "nbformat_minor": 0,
  "metadata": {
    "colab": {
      "provenance": [],
      "authorship_tag": "ABX9TyMYNkWuHGalMe98wP0J5Ggp",
      "include_colab_link": true
    },
    "kernelspec": {
      "name": "python3",
      "display_name": "Python 3"
    },
    "language_info": {
      "name": "python"
    }
  },
  "cells": [
    {
      "cell_type": "markdown",
      "metadata": {
        "id": "view-in-github",
        "colab_type": "text"
      },
      "source": [
        "<a href=\"https://colab.research.google.com/github/vladislavlisin/ICR/blob/main/ICR.ipynb\" target=\"_parent\"><img src=\"https://colab.research.google.com/assets/colab-badge.svg\" alt=\"Open In Colab\"/></a>"
      ]
    },
    {
      "cell_type": "markdown",
      "source": [
        "**Данная тетрадка посвещена соревнованию на kaggle:** https://www.kaggle.com/competitions/icr-identify-age-related-conditions\n",
        "\n",
        "Задача бинарной классификации: У пациента есть одно из трёх заболеваний (1 класс) или нет ни одного заболевания (класс 0)\n",
        "\n",
        "В настоящее время такие модели, как XGBoost и случайный лес, используются для прогнозирования заболеваний, но производительность моделей недостаточно высока. Имея дело с критическими проблемами, когда на карту поставлены жизни, модели должны надежно и последовательно делать правильные прогнозы для разных случаев.\n",
        "\n",
        "Представления оцениваются с использованием сбалансированного логарифмического проигрыша . Общий эффект таков, что каждый класс примерно одинаково важен для окончательного результата.\n",
        "\n",
        "![image.png](data:image/png;base64,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)\n",
        "\n",
        "где (N_{c}) — количество наблюдений класса (c), (\\ log) — натуральный логарифм, (y_{ci}) равно 1, если наблюдение (i) принадлежит классу (c), и 0 в противном случае, (p_{ci}) — прогнозируемая вероятность того, что наблюдение (i) принадлежит классу (c).\n",
        "\n",
        "Представленные вероятности для данной строки не обязаны суммироваться до единицы, потому что они масштабируются до подсчета очков (каждая строка делится на сумму строки). Чтобы избежать крайностей логарифмической функции, каждая прогнозируемая вероятность\n",
        "заменяется на\n",
        "\n",
        "Lisin Vladislav"
      ],
      "metadata": {
        "id": "0-IgBAUlRBxm"
      }
    },
    {
      "cell_type": "code",
      "source": [
        "def balanced_log_loss(y1, y0, p1, p0, N0, N1):\n",
        "\n",
        "  sum1 = (y1 * np.log(p1)).sum()\n",
        "  sum0 = (y0 * np.log(p0)).sum()\n",
        "\n",
        "  if N0 != 0:\n",
        "    LogLoss0 = ( (1/N0)*sum0 )\n",
        "  else:\n",
        "    LogLoss0 = 0\n",
        "\n",
        "  if N1 != 0:\n",
        "    LogLoss1 = ( (1/N1)*sum1 )\n",
        "  else:\n",
        "    LogLoss1 = 0\n",
        "\n",
        "  return -0.5*(LogLoss1 + LogLoss0)"
      ],
      "metadata": {
        "id": "uTnKFG-7koII"
      },
      "execution_count": 2,
      "outputs": []
    },
    {
      "cell_type": "markdown",
      "source": [
        "**Требования к коду**\n",
        "\n",
        "Заявки на участие в этом конкурсе должны подаваться через Notebooks. Чтобы кнопка «Отправить» была активна после коммита, должны быть выполнены следующие условия:\n",
        "\n",
        "1. Ноутбук с процессором <= 9 часов работы\n",
        "2. Ноутбук с графическим процессором <= 9 часов работы\n",
        "3. Доступ в Интернет отключен\n",
        "4. Файл отправки должен быть названsubmission.csv"
      ],
      "metadata": {
        "id": "eAjTI9lATGvV"
      }
    },
    {
      "cell_type": "markdown",
      "source": [
        "Информация по данным:\n",
        "\n",
        "train.csv — тренировочный набор.\n",
        "Id Уникальный идентификатор для каждого наблюдения.\n",
        "\n",
        "AB- GL Пятьдесят шесть анонимных характеристик здоровья. Все числовые, за исключением EJ, который является категориальным."
      ],
      "metadata": {
        "id": "lBFmGiJ7Td1m"
      }
    },
    {
      "cell_type": "code",
      "source": [
        "!pip install optuna"
      ],
      "metadata": {
        "colab": {
          "base_uri": "https://localhost:8080/"
        },
        "id": "OeWCOQtGQyPs",
        "outputId": "9857a30b-075f-422c-e87f-ad3305e98731"
      },
      "execution_count": 3,
      "outputs": [
        {
          "output_type": "stream",
          "name": "stdout",
          "text": [
            "Collecting optuna\n",
            "  Downloading optuna-3.2.0-py3-none-any.whl (390 kB)\n",
            "\u001b[2K     \u001b[90m━━━━━━━━━━━━━━━━━━━━━━━━━━━━━━━━━━━━━━\u001b[0m \u001b[32m390.6/390.6 kB\u001b[0m \u001b[31m10.1 MB/s\u001b[0m eta \u001b[36m0:00:00\u001b[0m\n",
            "\u001b[?25hCollecting alembic>=1.5.0 (from optuna)\n",
            "  Downloading alembic-1.11.1-py3-none-any.whl (224 kB)\n",
            "\u001b[2K     \u001b[90m━━━━━━━━━━━━━━━━━━━━━━━━━━━━━━━━━━━━━━\u001b[0m \u001b[32m224.5/224.5 kB\u001b[0m \u001b[31m19.9 MB/s\u001b[0m eta \u001b[36m0:00:00\u001b[0m\n",
            "\u001b[?25hCollecting cmaes>=0.9.1 (from optuna)\n",
            "  Downloading cmaes-0.9.1-py3-none-any.whl (21 kB)\n",
            "Collecting colorlog (from optuna)\n",
            "  Downloading colorlog-6.7.0-py2.py3-none-any.whl (11 kB)\n",
            "Requirement already satisfied: numpy in /usr/local/lib/python3.10/dist-packages (from optuna) (1.22.4)\n",
            "Requirement already satisfied: packaging>=20.0 in /usr/local/lib/python3.10/dist-packages (from optuna) (23.1)\n",
            "Requirement already satisfied: sqlalchemy>=1.3.0 in /usr/local/lib/python3.10/dist-packages (from optuna) (2.0.18)\n",
            "Requirement already satisfied: tqdm in /usr/local/lib/python3.10/dist-packages (from optuna) (4.65.0)\n",
            "Requirement already satisfied: PyYAML in /usr/local/lib/python3.10/dist-packages (from optuna) (6.0)\n",
            "Collecting Mako (from alembic>=1.5.0->optuna)\n",
            "  Downloading Mako-1.2.4-py3-none-any.whl (78 kB)\n",
            "\u001b[2K     \u001b[90m━━━━━━━━━━━━━━━━━━━━━━━━━━━━━━━━━━━━━━━━\u001b[0m \u001b[32m78.7/78.7 kB\u001b[0m \u001b[31m9.1 MB/s\u001b[0m eta \u001b[36m0:00:00\u001b[0m\n",
            "\u001b[?25hRequirement already satisfied: typing-extensions>=4 in /usr/local/lib/python3.10/dist-packages (from alembic>=1.5.0->optuna) (4.7.1)\n",
            "Requirement already satisfied: greenlet!=0.4.17 in /usr/local/lib/python3.10/dist-packages (from sqlalchemy>=1.3.0->optuna) (2.0.2)\n",
            "Requirement already satisfied: MarkupSafe>=0.9.2 in /usr/local/lib/python3.10/dist-packages (from Mako->alembic>=1.5.0->optuna) (2.1.3)\n",
            "Installing collected packages: Mako, colorlog, cmaes, alembic, optuna\n",
            "Successfully installed Mako-1.2.4 alembic-1.11.1 cmaes-0.9.1 colorlog-6.7.0 optuna-3.2.0\n"
          ]
        }
      ]
    },
    {
      "cell_type": "code",
      "execution_count": 4,
      "metadata": {
        "id": "gL2e4WbBCxQN",
        "colab": {
          "base_uri": "https://localhost:8080/"
        },
        "outputId": "6fb73a86-8ce8-4adc-f268-3d13c5c8a287"
      },
      "outputs": [
        {
          "output_type": "stream",
          "name": "stdout",
          "text": [
            "Mounted at /content/drive/\n"
          ]
        }
      ],
      "source": [
        "import sklearn\n",
        "import pandas as pd\n",
        "import seaborn as sbn\n",
        "import numpy as np\n",
        "\n",
        "\n",
        "from google.colab import drive\n",
        "drive.mount('/content/drive/')"
      ]
    },
    {
      "cell_type": "code",
      "source": [
        "df_train = pd.read_csv(\"/content/drive/MyDrive/ICR - Identifying Age-Related Conditions/train.csv\")\n",
        "df_test = pd.read_csv(\"/content/drive/MyDrive/ICR - Identifying Age-Related Conditions/test.csv\")"
      ],
      "metadata": {
        "id": "ewTL0zUgRBT3"
      },
      "execution_count": 5,
      "outputs": []
    },
    {
      "cell_type": "markdown",
      "source": [
        "have a look at data\n",
        "\n",
        "1. describe\n",
        "2."
      ],
      "metadata": {
        "id": "3-hmXU5CRkKv"
      }
    },
    {
      "cell_type": "code",
      "source": [
        "df_train"
      ],
      "metadata": {
        "id": "huKxd72MRhAq",
        "colab": {
          "base_uri": "https://localhost:8080/",
          "height": 487
        },
        "outputId": "f57b39b8-88e7-40da-866a-c1159dce5834"
      },
      "execution_count": 6,
      "outputs": [
        {
          "output_type": "execute_result",
          "data": {
            "text/plain": [
              "               Id        AB          AF          AH          AM         AR  \\\n",
              "0    000ff2bfdfe9  0.209377  3109.03329   85.200147   22.394407   8.138688   \n",
              "1    007255e47698  0.145282   978.76416   85.200147   36.968889   8.138688   \n",
              "2    013f2bd269f5  0.470030  2635.10654   85.200147   32.360553   8.138688   \n",
              "3    043ac50845d5  0.252107  3819.65177  120.201618   77.112203   8.138688   \n",
              "4    044fb8a146ec  0.380297  3733.04844   85.200147   14.103738   8.138688   \n",
              "..            ...       ...         ...         ...         ...        ...   \n",
              "612  fd3dafe738fd  0.149555  3130.05946  123.763599    9.513984  13.020852   \n",
              "613  fd895603f071  0.435846  5462.03438   85.200147   46.551007  15.973224   \n",
              "614  fd8ef6377f76  0.427300  2459.10720  130.138587   55.355778  10.005552   \n",
              "615  fe1942975e40  0.363205  1263.53524   85.200147   23.685856   8.138688   \n",
              "616  ffcca4ded3bb  0.482849  2672.53426  546.663930  112.006102   8.138688   \n",
              "\n",
              "           AX        AY         AZ          BC  ...         FL        FR  \\\n",
              "0    0.699861  0.025578   9.812214    5.555634  ...   7.298162   1.73855   \n",
              "1    3.632190  0.025578  13.517790    1.229900  ...   0.173229   0.49706   \n",
              "2    6.732840  0.025578  12.824570    1.229900  ...   7.709560   0.97556   \n",
              "3    3.685344  0.025578  11.053708    1.229900  ...   6.122162   0.49706   \n",
              "4    3.942255  0.054810   3.396778  102.151980  ...   8.153058  48.50134   \n",
              "..        ...       ...        ...         ...  ...        ...       ...   \n",
              "612  3.499305  0.077343   8.545512    2.804172  ...   0.173229   1.26092   \n",
              "613  5.979825  0.025882  12.622906    3.777550  ...  10.223150   1.24236   \n",
              "614  8.070549  0.025578  15.408390    1.229900  ...   0.173229   0.49706   \n",
              "615  7.981959  0.025578   7.524588    1.229900  ...   9.256996   0.78764   \n",
              "616  3.198099  0.116928   3.396778    7.948668  ...   0.173229   1.14492   \n",
              "\n",
              "           FS         GB          GE            GF         GH          GI  \\\n",
              "0    0.094822  11.339138   72.611063   2003.810319  22.136229   69.834944   \n",
              "1    0.568932   9.292698   72.611063  27981.562750  29.135430   32.131996   \n",
              "2    1.198821  37.077772   88.609437  13676.957810  28.022851   35.192676   \n",
              "3    0.284466  18.529584   82.416803   2094.262452  39.948656   90.493248   \n",
              "4    0.121914  16.408728  146.109943   8524.370502  45.381316   36.262628   \n",
              "..        ...        ...         ...           ...        ...         ...   \n",
              "612  0.067730   8.967128  217.148554   8095.932828  24.640462   69.191944   \n",
              "613  0.426699  35.896418  496.994214   3085.308063  29.648928  124.808872   \n",
              "614  0.067730  19.962092  128.896894   6474.652866  26.166072  119.559420   \n",
              "615  0.670527  24.594488   72.611063   1965.343176  25.116750   37.155112   \n",
              "616  0.149006  13.673940   72.611063   6850.484442  45.745974  114.842372   \n",
              "\n",
              "            GL  Class  \n",
              "0     0.120343      1  \n",
              "1    21.978000      0  \n",
              "2     0.196941      0  \n",
              "3     0.155829      0  \n",
              "4     0.096614      1  \n",
              "..         ...    ...  \n",
              "612  21.978000      0  \n",
              "613   0.145340      0  \n",
              "614  21.978000      0  \n",
              "615   0.184622      0  \n",
              "616  21.978000      0  \n",
              "\n",
              "[617 rows x 58 columns]"
            ],
            "text/html": [
              "\n",
              "\n",
              "  <div id=\"df-d311e22a-87b4-4d26-94bc-74c371a82eae\">\n",
              "    <div class=\"colab-df-container\">\n",
              "      <div>\n",
              "<style scoped>\n",
              "    .dataframe tbody tr th:only-of-type {\n",
              "        vertical-align: middle;\n",
              "    }\n",
              "\n",
              "    .dataframe tbody tr th {\n",
              "        vertical-align: top;\n",
              "    }\n",
              "\n",
              "    .dataframe thead th {\n",
              "        text-align: right;\n",
              "    }\n",
              "</style>\n",
              "<table border=\"1\" class=\"dataframe\">\n",
              "  <thead>\n",
              "    <tr style=\"text-align: right;\">\n",
              "      <th></th>\n",
              "      <th>Id</th>\n",
              "      <th>AB</th>\n",
              "      <th>AF</th>\n",
              "      <th>AH</th>\n",
              "      <th>AM</th>\n",
              "      <th>AR</th>\n",
              "      <th>AX</th>\n",
              "      <th>AY</th>\n",
              "      <th>AZ</th>\n",
              "      <th>BC</th>\n",
              "      <th>...</th>\n",
              "      <th>FL</th>\n",
              "      <th>FR</th>\n",
              "      <th>FS</th>\n",
              "      <th>GB</th>\n",
              "      <th>GE</th>\n",
              "      <th>GF</th>\n",
              "      <th>GH</th>\n",
              "      <th>GI</th>\n",
              "      <th>GL</th>\n",
              "      <th>Class</th>\n",
              "    </tr>\n",
              "  </thead>\n",
              "  <tbody>\n",
              "    <tr>\n",
              "      <th>0</th>\n",
              "      <td>000ff2bfdfe9</td>\n",
              "      <td>0.209377</td>\n",
              "      <td>3109.03329</td>\n",
              "      <td>85.200147</td>\n",
              "      <td>22.394407</td>\n",
              "      <td>8.138688</td>\n",
              "      <td>0.699861</td>\n",
              "      <td>0.025578</td>\n",
              "      <td>9.812214</td>\n",
              "      <td>5.555634</td>\n",
              "      <td>...</td>\n",
              "      <td>7.298162</td>\n",
              "      <td>1.73855</td>\n",
              "      <td>0.094822</td>\n",
              "      <td>11.339138</td>\n",
              "      <td>72.611063</td>\n",
              "      <td>2003.810319</td>\n",
              "      <td>22.136229</td>\n",
              "      <td>69.834944</td>\n",
              "      <td>0.120343</td>\n",
              "      <td>1</td>\n",
              "    </tr>\n",
              "    <tr>\n",
              "      <th>1</th>\n",
              "      <td>007255e47698</td>\n",
              "      <td>0.145282</td>\n",
              "      <td>978.76416</td>\n",
              "      <td>85.200147</td>\n",
              "      <td>36.968889</td>\n",
              "      <td>8.138688</td>\n",
              "      <td>3.632190</td>\n",
              "      <td>0.025578</td>\n",
              "      <td>13.517790</td>\n",
              "      <td>1.229900</td>\n",
              "      <td>...</td>\n",
              "      <td>0.173229</td>\n",
              "      <td>0.49706</td>\n",
              "      <td>0.568932</td>\n",
              "      <td>9.292698</td>\n",
              "      <td>72.611063</td>\n",
              "      <td>27981.562750</td>\n",
              "      <td>29.135430</td>\n",
              "      <td>32.131996</td>\n",
              "      <td>21.978000</td>\n",
              "      <td>0</td>\n",
              "    </tr>\n",
              "    <tr>\n",
              "      <th>2</th>\n",
              "      <td>013f2bd269f5</td>\n",
              "      <td>0.470030</td>\n",
              "      <td>2635.10654</td>\n",
              "      <td>85.200147</td>\n",
              "      <td>32.360553</td>\n",
              "      <td>8.138688</td>\n",
              "      <td>6.732840</td>\n",
              "      <td>0.025578</td>\n",
              "      <td>12.824570</td>\n",
              "      <td>1.229900</td>\n",
              "      <td>...</td>\n",
              "      <td>7.709560</td>\n",
              "      <td>0.97556</td>\n",
              "      <td>1.198821</td>\n",
              "      <td>37.077772</td>\n",
              "      <td>88.609437</td>\n",
              "      <td>13676.957810</td>\n",
              "      <td>28.022851</td>\n",
              "      <td>35.192676</td>\n",
              "      <td>0.196941</td>\n",
              "      <td>0</td>\n",
              "    </tr>\n",
              "    <tr>\n",
              "      <th>3</th>\n",
              "      <td>043ac50845d5</td>\n",
              "      <td>0.252107</td>\n",
              "      <td>3819.65177</td>\n",
              "      <td>120.201618</td>\n",
              "      <td>77.112203</td>\n",
              "      <td>8.138688</td>\n",
              "      <td>3.685344</td>\n",
              "      <td>0.025578</td>\n",
              "      <td>11.053708</td>\n",
              "      <td>1.229900</td>\n",
              "      <td>...</td>\n",
              "      <td>6.122162</td>\n",
              "      <td>0.49706</td>\n",
              "      <td>0.284466</td>\n",
              "      <td>18.529584</td>\n",
              "      <td>82.416803</td>\n",
              "      <td>2094.262452</td>\n",
              "      <td>39.948656</td>\n",
              "      <td>90.493248</td>\n",
              "      <td>0.155829</td>\n",
              "      <td>0</td>\n",
              "    </tr>\n",
              "    <tr>\n",
              "      <th>4</th>\n",
              "      <td>044fb8a146ec</td>\n",
              "      <td>0.380297</td>\n",
              "      <td>3733.04844</td>\n",
              "      <td>85.200147</td>\n",
              "      <td>14.103738</td>\n",
              "      <td>8.138688</td>\n",
              "      <td>3.942255</td>\n",
              "      <td>0.054810</td>\n",
              "      <td>3.396778</td>\n",
              "      <td>102.151980</td>\n",
              "      <td>...</td>\n",
              "      <td>8.153058</td>\n",
              "      <td>48.50134</td>\n",
              "      <td>0.121914</td>\n",
              "      <td>16.408728</td>\n",
              "      <td>146.109943</td>\n",
              "      <td>8524.370502</td>\n",
              "      <td>45.381316</td>\n",
              "      <td>36.262628</td>\n",
              "      <td>0.096614</td>\n",
              "      <td>1</td>\n",
              "    </tr>\n",
              "    <tr>\n",
              "      <th>...</th>\n",
              "      <td>...</td>\n",
              "      <td>...</td>\n",
              "      <td>...</td>\n",
              "      <td>...</td>\n",
              "      <td>...</td>\n",
              "      <td>...</td>\n",
              "      <td>...</td>\n",
              "      <td>...</td>\n",
              "      <td>...</td>\n",
              "      <td>...</td>\n",
              "      <td>...</td>\n",
              "      <td>...</td>\n",
              "      <td>...</td>\n",
              "      <td>...</td>\n",
              "      <td>...</td>\n",
              "      <td>...</td>\n",
              "      <td>...</td>\n",
              "      <td>...</td>\n",
              "      <td>...</td>\n",
              "      <td>...</td>\n",
              "      <td>...</td>\n",
              "    </tr>\n",
              "    <tr>\n",
              "      <th>612</th>\n",
              "      <td>fd3dafe738fd</td>\n",
              "      <td>0.149555</td>\n",
              "      <td>3130.05946</td>\n",
              "      <td>123.763599</td>\n",
              "      <td>9.513984</td>\n",
              "      <td>13.020852</td>\n",
              "      <td>3.499305</td>\n",
              "      <td>0.077343</td>\n",
              "      <td>8.545512</td>\n",
              "      <td>2.804172</td>\n",
              "      <td>...</td>\n",
              "      <td>0.173229</td>\n",
              "      <td>1.26092</td>\n",
              "      <td>0.067730</td>\n",
              "      <td>8.967128</td>\n",
              "      <td>217.148554</td>\n",
              "      <td>8095.932828</td>\n",
              "      <td>24.640462</td>\n",
              "      <td>69.191944</td>\n",
              "      <td>21.978000</td>\n",
              "      <td>0</td>\n",
              "    </tr>\n",
              "    <tr>\n",
              "      <th>613</th>\n",
              "      <td>fd895603f071</td>\n",
              "      <td>0.435846</td>\n",
              "      <td>5462.03438</td>\n",
              "      <td>85.200147</td>\n",
              "      <td>46.551007</td>\n",
              "      <td>15.973224</td>\n",
              "      <td>5.979825</td>\n",
              "      <td>0.025882</td>\n",
              "      <td>12.622906</td>\n",
              "      <td>3.777550</td>\n",
              "      <td>...</td>\n",
              "      <td>10.223150</td>\n",
              "      <td>1.24236</td>\n",
              "      <td>0.426699</td>\n",
              "      <td>35.896418</td>\n",
              "      <td>496.994214</td>\n",
              "      <td>3085.308063</td>\n",
              "      <td>29.648928</td>\n",
              "      <td>124.808872</td>\n",
              "      <td>0.145340</td>\n",
              "      <td>0</td>\n",
              "    </tr>\n",
              "    <tr>\n",
              "      <th>614</th>\n",
              "      <td>fd8ef6377f76</td>\n",
              "      <td>0.427300</td>\n",
              "      <td>2459.10720</td>\n",
              "      <td>130.138587</td>\n",
              "      <td>55.355778</td>\n",
              "      <td>10.005552</td>\n",
              "      <td>8.070549</td>\n",
              "      <td>0.025578</td>\n",
              "      <td>15.408390</td>\n",
              "      <td>1.229900</td>\n",
              "      <td>...</td>\n",
              "      <td>0.173229</td>\n",
              "      <td>0.49706</td>\n",
              "      <td>0.067730</td>\n",
              "      <td>19.962092</td>\n",
              "      <td>128.896894</td>\n",
              "      <td>6474.652866</td>\n",
              "      <td>26.166072</td>\n",
              "      <td>119.559420</td>\n",
              "      <td>21.978000</td>\n",
              "      <td>0</td>\n",
              "    </tr>\n",
              "    <tr>\n",
              "      <th>615</th>\n",
              "      <td>fe1942975e40</td>\n",
              "      <td>0.363205</td>\n",
              "      <td>1263.53524</td>\n",
              "      <td>85.200147</td>\n",
              "      <td>23.685856</td>\n",
              "      <td>8.138688</td>\n",
              "      <td>7.981959</td>\n",
              "      <td>0.025578</td>\n",
              "      <td>7.524588</td>\n",
              "      <td>1.229900</td>\n",
              "      <td>...</td>\n",
              "      <td>9.256996</td>\n",
              "      <td>0.78764</td>\n",
              "      <td>0.670527</td>\n",
              "      <td>24.594488</td>\n",
              "      <td>72.611063</td>\n",
              "      <td>1965.343176</td>\n",
              "      <td>25.116750</td>\n",
              "      <td>37.155112</td>\n",
              "      <td>0.184622</td>\n",
              "      <td>0</td>\n",
              "    </tr>\n",
              "    <tr>\n",
              "      <th>616</th>\n",
              "      <td>ffcca4ded3bb</td>\n",
              "      <td>0.482849</td>\n",
              "      <td>2672.53426</td>\n",
              "      <td>546.663930</td>\n",
              "      <td>112.006102</td>\n",
              "      <td>8.138688</td>\n",
              "      <td>3.198099</td>\n",
              "      <td>0.116928</td>\n",
              "      <td>3.396778</td>\n",
              "      <td>7.948668</td>\n",
              "      <td>...</td>\n",
              "      <td>0.173229</td>\n",
              "      <td>1.14492</td>\n",
              "      <td>0.149006</td>\n",
              "      <td>13.673940</td>\n",
              "      <td>72.611063</td>\n",
              "      <td>6850.484442</td>\n",
              "      <td>45.745974</td>\n",
              "      <td>114.842372</td>\n",
              "      <td>21.978000</td>\n",
              "      <td>0</td>\n",
              "    </tr>\n",
              "  </tbody>\n",
              "</table>\n",
              "<p>617 rows × 58 columns</p>\n",
              "</div>\n",
              "      <button class=\"colab-df-convert\" onclick=\"convertToInteractive('df-d311e22a-87b4-4d26-94bc-74c371a82eae')\"\n",
              "              title=\"Convert this dataframe to an interactive table.\"\n",
              "              style=\"display:none;\">\n",
              "\n",
              "  <svg xmlns=\"http://www.w3.org/2000/svg\" height=\"24px\"viewBox=\"0 0 24 24\"\n",
              "       width=\"24px\">\n",
              "    <path d=\"M0 0h24v24H0V0z\" fill=\"none\"/>\n",
              "    <path d=\"M18.56 5.44l.94 2.06.94-2.06 2.06-.94-2.06-.94-.94-2.06-.94 2.06-2.06.94zm-11 1L8.5 8.5l.94-2.06 2.06-.94-2.06-.94L8.5 2.5l-.94 2.06-2.06.94zm10 10l.94 2.06.94-2.06 2.06-.94-2.06-.94-.94-2.06-.94 2.06-2.06.94z\"/><path d=\"M17.41 7.96l-1.37-1.37c-.4-.4-.92-.59-1.43-.59-.52 0-1.04.2-1.43.59L10.3 9.45l-7.72 7.72c-.78.78-.78 2.05 0 2.83L4 21.41c.39.39.9.59 1.41.59.51 0 1.02-.2 1.41-.59l7.78-7.78 2.81-2.81c.8-.78.8-2.07 0-2.86zM5.41 20L4 18.59l7.72-7.72 1.47 1.35L5.41 20z\"/>\n",
              "  </svg>\n",
              "      </button>\n",
              "\n",
              "\n",
              "\n",
              "    <div id=\"df-004bf69b-b8f9-477b-aedb-bd21b6c6891a\">\n",
              "      <button class=\"colab-df-quickchart\" onclick=\"quickchart('df-004bf69b-b8f9-477b-aedb-bd21b6c6891a')\"\n",
              "              title=\"Suggest charts.\"\n",
              "              style=\"display:none;\">\n",
              "\n",
              "<svg xmlns=\"http://www.w3.org/2000/svg\" height=\"24px\"viewBox=\"0 0 24 24\"\n",
              "     width=\"24px\">\n",
              "    <g>\n",
              "        <path d=\"M19 3H5c-1.1 0-2 .9-2 2v14c0 1.1.9 2 2 2h14c1.1 0 2-.9 2-2V5c0-1.1-.9-2-2-2zM9 17H7v-7h2v7zm4 0h-2V7h2v10zm4 0h-2v-4h2v4z\"/>\n",
              "    </g>\n",
              "</svg>\n",
              "      </button>\n",
              "    </div>\n",
              "\n",
              "<style>\n",
              "  .colab-df-quickchart {\n",
              "    background-color: #E8F0FE;\n",
              "    border: none;\n",
              "    border-radius: 50%;\n",
              "    cursor: pointer;\n",
              "    display: none;\n",
              "    fill: #1967D2;\n",
              "    height: 32px;\n",
              "    padding: 0 0 0 0;\n",
              "    width: 32px;\n",
              "  }\n",
              "\n",
              "  .colab-df-quickchart:hover {\n",
              "    background-color: #E2EBFA;\n",
              "    box-shadow: 0px 1px 2px rgba(60, 64, 67, 0.3), 0px 1px 3px 1px rgba(60, 64, 67, 0.15);\n",
              "    fill: #174EA6;\n",
              "  }\n",
              "\n",
              "  [theme=dark] .colab-df-quickchart {\n",
              "    background-color: #3B4455;\n",
              "    fill: #D2E3FC;\n",
              "  }\n",
              "\n",
              "  [theme=dark] .colab-df-quickchart:hover {\n",
              "    background-color: #434B5C;\n",
              "    box-shadow: 0px 1px 3px 1px rgba(0, 0, 0, 0.15);\n",
              "    filter: drop-shadow(0px 1px 2px rgba(0, 0, 0, 0.3));\n",
              "    fill: #FFFFFF;\n",
              "  }\n",
              "</style>\n",
              "\n",
              "    <script>\n",
              "      async function quickchart(key) {\n",
              "        const containerElement = document.querySelector('#' + key);\n",
              "        const charts = await google.colab.kernel.invokeFunction(\n",
              "            'suggestCharts', [key], {});\n",
              "      }\n",
              "    </script>\n",
              "\n",
              "      <script>\n",
              "\n",
              "function displayQuickchartButton(domScope) {\n",
              "  let quickchartButtonEl =\n",
              "    domScope.querySelector('#df-004bf69b-b8f9-477b-aedb-bd21b6c6891a button.colab-df-quickchart');\n",
              "  quickchartButtonEl.style.display =\n",
              "    google.colab.kernel.accessAllowed ? 'block' : 'none';\n",
              "}\n",
              "\n",
              "        displayQuickchartButton(document);\n",
              "      </script>\n",
              "      <style>\n",
              "    .colab-df-container {\n",
              "      display:flex;\n",
              "      flex-wrap:wrap;\n",
              "      gap: 12px;\n",
              "    }\n",
              "\n",
              "    .colab-df-convert {\n",
              "      background-color: #E8F0FE;\n",
              "      border: none;\n",
              "      border-radius: 50%;\n",
              "      cursor: pointer;\n",
              "      display: none;\n",
              "      fill: #1967D2;\n",
              "      height: 32px;\n",
              "      padding: 0 0 0 0;\n",
              "      width: 32px;\n",
              "    }\n",
              "\n",
              "    .colab-df-convert:hover {\n",
              "      background-color: #E2EBFA;\n",
              "      box-shadow: 0px 1px 2px rgba(60, 64, 67, 0.3), 0px 1px 3px 1px rgba(60, 64, 67, 0.15);\n",
              "      fill: #174EA6;\n",
              "    }\n",
              "\n",
              "    [theme=dark] .colab-df-convert {\n",
              "      background-color: #3B4455;\n",
              "      fill: #D2E3FC;\n",
              "    }\n",
              "\n",
              "    [theme=dark] .colab-df-convert:hover {\n",
              "      background-color: #434B5C;\n",
              "      box-shadow: 0px 1px 3px 1px rgba(0, 0, 0, 0.15);\n",
              "      filter: drop-shadow(0px 1px 2px rgba(0, 0, 0, 0.3));\n",
              "      fill: #FFFFFF;\n",
              "    }\n",
              "  </style>\n",
              "\n",
              "      <script>\n",
              "        const buttonEl =\n",
              "          document.querySelector('#df-d311e22a-87b4-4d26-94bc-74c371a82eae button.colab-df-convert');\n",
              "        buttonEl.style.display =\n",
              "          google.colab.kernel.accessAllowed ? 'block' : 'none';\n",
              "\n",
              "        async function convertToInteractive(key) {\n",
              "          const element = document.querySelector('#df-d311e22a-87b4-4d26-94bc-74c371a82eae');\n",
              "          const dataTable =\n",
              "            await google.colab.kernel.invokeFunction('convertToInteractive',\n",
              "                                                     [key], {});\n",
              "          if (!dataTable) return;\n",
              "\n",
              "          const docLinkHtml = 'Like what you see? Visit the ' +\n",
              "            '<a target=\"_blank\" href=https://colab.research.google.com/notebooks/data_table.ipynb>data table notebook</a>'\n",
              "            + ' to learn more about interactive tables.';\n",
              "          element.innerHTML = '';\n",
              "          dataTable['output_type'] = 'display_data';\n",
              "          await google.colab.output.renderOutput(dataTable, element);\n",
              "          const docLink = document.createElement('div');\n",
              "          docLink.innerHTML = docLinkHtml;\n",
              "          element.appendChild(docLink);\n",
              "        }\n",
              "      </script>\n",
              "    </div>\n",
              "  </div>\n"
            ]
          },
          "metadata": {},
          "execution_count": 6
        }
      ]
    },
    {
      "cell_type": "code",
      "source": [
        "df_test"
      ],
      "metadata": {
        "id": "KMWivzcRGtHs",
        "colab": {
          "base_uri": "https://localhost:8080/",
          "height": 235
        },
        "outputId": "4a69299c-2f55-4a2c-ab00-867f629a4683"
      },
      "execution_count": 7,
      "outputs": [
        {
          "output_type": "execute_result",
          "data": {
            "text/plain": [
              "             Id   AB   AF   AH   AM   AR   AX   AY   AZ   BC  ...   FI   FL  \\\n",
              "0  00eed32682bb  0.0  0.0  0.0  0.0  0.0  0.0  0.0  0.0  0.0  ...  0.0  0.0   \n",
              "1  010ebe33f668  0.0  0.0  0.0  0.0  0.0  0.0  0.0  0.0  0.0  ...  0.0  0.0   \n",
              "2  02fa521e1838  0.0  0.0  0.0  0.0  0.0  0.0  0.0  0.0  0.0  ...  0.0  0.0   \n",
              "3  040e15f562a2  0.0  0.0  0.0  0.0  0.0  0.0  0.0  0.0  0.0  ...  0.0  0.0   \n",
              "4  046e85c7cc7f  0.0  0.0  0.0  0.0  0.0  0.0  0.0  0.0  0.0  ...  0.0  0.0   \n",
              "\n",
              "    FR   FS   GB   GE   GF   GH   GI   GL  \n",
              "0  0.0  0.0  0.0  0.0  0.0  0.0  0.0  0.0  \n",
              "1  0.0  0.0  0.0  0.0  0.0  0.0  0.0  0.0  \n",
              "2  0.0  0.0  0.0  0.0  0.0  0.0  0.0  0.0  \n",
              "3  0.0  0.0  0.0  0.0  0.0  0.0  0.0  0.0  \n",
              "4  0.0  0.0  0.0  0.0  0.0  0.0  0.0  0.0  \n",
              "\n",
              "[5 rows x 57 columns]"
            ],
            "text/html": [
              "\n",
              "\n",
              "  <div id=\"df-db24e782-7c22-4033-ba20-367c247c2d51\">\n",
              "    <div class=\"colab-df-container\">\n",
              "      <div>\n",
              "<style scoped>\n",
              "    .dataframe tbody tr th:only-of-type {\n",
              "        vertical-align: middle;\n",
              "    }\n",
              "\n",
              "    .dataframe tbody tr th {\n",
              "        vertical-align: top;\n",
              "    }\n",
              "\n",
              "    .dataframe thead th {\n",
              "        text-align: right;\n",
              "    }\n",
              "</style>\n",
              "<table border=\"1\" class=\"dataframe\">\n",
              "  <thead>\n",
              "    <tr style=\"text-align: right;\">\n",
              "      <th></th>\n",
              "      <th>Id</th>\n",
              "      <th>AB</th>\n",
              "      <th>AF</th>\n",
              "      <th>AH</th>\n",
              "      <th>AM</th>\n",
              "      <th>AR</th>\n",
              "      <th>AX</th>\n",
              "      <th>AY</th>\n",
              "      <th>AZ</th>\n",
              "      <th>BC</th>\n",
              "      <th>...</th>\n",
              "      <th>FI</th>\n",
              "      <th>FL</th>\n",
              "      <th>FR</th>\n",
              "      <th>FS</th>\n",
              "      <th>GB</th>\n",
              "      <th>GE</th>\n",
              "      <th>GF</th>\n",
              "      <th>GH</th>\n",
              "      <th>GI</th>\n",
              "      <th>GL</th>\n",
              "    </tr>\n",
              "  </thead>\n",
              "  <tbody>\n",
              "    <tr>\n",
              "      <th>0</th>\n",
              "      <td>00eed32682bb</td>\n",
              "      <td>0.0</td>\n",
              "      <td>0.0</td>\n",
              "      <td>0.0</td>\n",
              "      <td>0.0</td>\n",
              "      <td>0.0</td>\n",
              "      <td>0.0</td>\n",
              "      <td>0.0</td>\n",
              "      <td>0.0</td>\n",
              "      <td>0.0</td>\n",
              "      <td>...</td>\n",
              "      <td>0.0</td>\n",
              "      <td>0.0</td>\n",
              "      <td>0.0</td>\n",
              "      <td>0.0</td>\n",
              "      <td>0.0</td>\n",
              "      <td>0.0</td>\n",
              "      <td>0.0</td>\n",
              "      <td>0.0</td>\n",
              "      <td>0.0</td>\n",
              "      <td>0.0</td>\n",
              "    </tr>\n",
              "    <tr>\n",
              "      <th>1</th>\n",
              "      <td>010ebe33f668</td>\n",
              "      <td>0.0</td>\n",
              "      <td>0.0</td>\n",
              "      <td>0.0</td>\n",
              "      <td>0.0</td>\n",
              "      <td>0.0</td>\n",
              "      <td>0.0</td>\n",
              "      <td>0.0</td>\n",
              "      <td>0.0</td>\n",
              "      <td>0.0</td>\n",
              "      <td>...</td>\n",
              "      <td>0.0</td>\n",
              "      <td>0.0</td>\n",
              "      <td>0.0</td>\n",
              "      <td>0.0</td>\n",
              "      <td>0.0</td>\n",
              "      <td>0.0</td>\n",
              "      <td>0.0</td>\n",
              "      <td>0.0</td>\n",
              "      <td>0.0</td>\n",
              "      <td>0.0</td>\n",
              "    </tr>\n",
              "    <tr>\n",
              "      <th>2</th>\n",
              "      <td>02fa521e1838</td>\n",
              "      <td>0.0</td>\n",
              "      <td>0.0</td>\n",
              "      <td>0.0</td>\n",
              "      <td>0.0</td>\n",
              "      <td>0.0</td>\n",
              "      <td>0.0</td>\n",
              "      <td>0.0</td>\n",
              "      <td>0.0</td>\n",
              "      <td>0.0</td>\n",
              "      <td>...</td>\n",
              "      <td>0.0</td>\n",
              "      <td>0.0</td>\n",
              "      <td>0.0</td>\n",
              "      <td>0.0</td>\n",
              "      <td>0.0</td>\n",
              "      <td>0.0</td>\n",
              "      <td>0.0</td>\n",
              "      <td>0.0</td>\n",
              "      <td>0.0</td>\n",
              "      <td>0.0</td>\n",
              "    </tr>\n",
              "    <tr>\n",
              "      <th>3</th>\n",
              "      <td>040e15f562a2</td>\n",
              "      <td>0.0</td>\n",
              "      <td>0.0</td>\n",
              "      <td>0.0</td>\n",
              "      <td>0.0</td>\n",
              "      <td>0.0</td>\n",
              "      <td>0.0</td>\n",
              "      <td>0.0</td>\n",
              "      <td>0.0</td>\n",
              "      <td>0.0</td>\n",
              "      <td>...</td>\n",
              "      <td>0.0</td>\n",
              "      <td>0.0</td>\n",
              "      <td>0.0</td>\n",
              "      <td>0.0</td>\n",
              "      <td>0.0</td>\n",
              "      <td>0.0</td>\n",
              "      <td>0.0</td>\n",
              "      <td>0.0</td>\n",
              "      <td>0.0</td>\n",
              "      <td>0.0</td>\n",
              "    </tr>\n",
              "    <tr>\n",
              "      <th>4</th>\n",
              "      <td>046e85c7cc7f</td>\n",
              "      <td>0.0</td>\n",
              "      <td>0.0</td>\n",
              "      <td>0.0</td>\n",
              "      <td>0.0</td>\n",
              "      <td>0.0</td>\n",
              "      <td>0.0</td>\n",
              "      <td>0.0</td>\n",
              "      <td>0.0</td>\n",
              "      <td>0.0</td>\n",
              "      <td>...</td>\n",
              "      <td>0.0</td>\n",
              "      <td>0.0</td>\n",
              "      <td>0.0</td>\n",
              "      <td>0.0</td>\n",
              "      <td>0.0</td>\n",
              "      <td>0.0</td>\n",
              "      <td>0.0</td>\n",
              "      <td>0.0</td>\n",
              "      <td>0.0</td>\n",
              "      <td>0.0</td>\n",
              "    </tr>\n",
              "  </tbody>\n",
              "</table>\n",
              "<p>5 rows × 57 columns</p>\n",
              "</div>\n",
              "      <button class=\"colab-df-convert\" onclick=\"convertToInteractive('df-db24e782-7c22-4033-ba20-367c247c2d51')\"\n",
              "              title=\"Convert this dataframe to an interactive table.\"\n",
              "              style=\"display:none;\">\n",
              "\n",
              "  <svg xmlns=\"http://www.w3.org/2000/svg\" height=\"24px\"viewBox=\"0 0 24 24\"\n",
              "       width=\"24px\">\n",
              "    <path d=\"M0 0h24v24H0V0z\" fill=\"none\"/>\n",
              "    <path d=\"M18.56 5.44l.94 2.06.94-2.06 2.06-.94-2.06-.94-.94-2.06-.94 2.06-2.06.94zm-11 1L8.5 8.5l.94-2.06 2.06-.94-2.06-.94L8.5 2.5l-.94 2.06-2.06.94zm10 10l.94 2.06.94-2.06 2.06-.94-2.06-.94-.94-2.06-.94 2.06-2.06.94z\"/><path d=\"M17.41 7.96l-1.37-1.37c-.4-.4-.92-.59-1.43-.59-.52 0-1.04.2-1.43.59L10.3 9.45l-7.72 7.72c-.78.78-.78 2.05 0 2.83L4 21.41c.39.39.9.59 1.41.59.51 0 1.02-.2 1.41-.59l7.78-7.78 2.81-2.81c.8-.78.8-2.07 0-2.86zM5.41 20L4 18.59l7.72-7.72 1.47 1.35L5.41 20z\"/>\n",
              "  </svg>\n",
              "      </button>\n",
              "\n",
              "\n",
              "\n",
              "    <div id=\"df-723ece59-f552-434a-bf89-276c69f80cda\">\n",
              "      <button class=\"colab-df-quickchart\" onclick=\"quickchart('df-723ece59-f552-434a-bf89-276c69f80cda')\"\n",
              "              title=\"Suggest charts.\"\n",
              "              style=\"display:none;\">\n",
              "\n",
              "<svg xmlns=\"http://www.w3.org/2000/svg\" height=\"24px\"viewBox=\"0 0 24 24\"\n",
              "     width=\"24px\">\n",
              "    <g>\n",
              "        <path d=\"M19 3H5c-1.1 0-2 .9-2 2v14c0 1.1.9 2 2 2h14c1.1 0 2-.9 2-2V5c0-1.1-.9-2-2-2zM9 17H7v-7h2v7zm4 0h-2V7h2v10zm4 0h-2v-4h2v4z\"/>\n",
              "    </g>\n",
              "</svg>\n",
              "      </button>\n",
              "    </div>\n",
              "\n",
              "<style>\n",
              "  .colab-df-quickchart {\n",
              "    background-color: #E8F0FE;\n",
              "    border: none;\n",
              "    border-radius: 50%;\n",
              "    cursor: pointer;\n",
              "    display: none;\n",
              "    fill: #1967D2;\n",
              "    height: 32px;\n",
              "    padding: 0 0 0 0;\n",
              "    width: 32px;\n",
              "  }\n",
              "\n",
              "  .colab-df-quickchart:hover {\n",
              "    background-color: #E2EBFA;\n",
              "    box-shadow: 0px 1px 2px rgba(60, 64, 67, 0.3), 0px 1px 3px 1px rgba(60, 64, 67, 0.15);\n",
              "    fill: #174EA6;\n",
              "  }\n",
              "\n",
              "  [theme=dark] .colab-df-quickchart {\n",
              "    background-color: #3B4455;\n",
              "    fill: #D2E3FC;\n",
              "  }\n",
              "\n",
              "  [theme=dark] .colab-df-quickchart:hover {\n",
              "    background-color: #434B5C;\n",
              "    box-shadow: 0px 1px 3px 1px rgba(0, 0, 0, 0.15);\n",
              "    filter: drop-shadow(0px 1px 2px rgba(0, 0, 0, 0.3));\n",
              "    fill: #FFFFFF;\n",
              "  }\n",
              "</style>\n",
              "\n",
              "    <script>\n",
              "      async function quickchart(key) {\n",
              "        const containerElement = document.querySelector('#' + key);\n",
              "        const charts = await google.colab.kernel.invokeFunction(\n",
              "            'suggestCharts', [key], {});\n",
              "      }\n",
              "    </script>\n",
              "\n",
              "      <script>\n",
              "\n",
              "function displayQuickchartButton(domScope) {\n",
              "  let quickchartButtonEl =\n",
              "    domScope.querySelector('#df-723ece59-f552-434a-bf89-276c69f80cda button.colab-df-quickchart');\n",
              "  quickchartButtonEl.style.display =\n",
              "    google.colab.kernel.accessAllowed ? 'block' : 'none';\n",
              "}\n",
              "\n",
              "        displayQuickchartButton(document);\n",
              "      </script>\n",
              "      <style>\n",
              "    .colab-df-container {\n",
              "      display:flex;\n",
              "      flex-wrap:wrap;\n",
              "      gap: 12px;\n",
              "    }\n",
              "\n",
              "    .colab-df-convert {\n",
              "      background-color: #E8F0FE;\n",
              "      border: none;\n",
              "      border-radius: 50%;\n",
              "      cursor: pointer;\n",
              "      display: none;\n",
              "      fill: #1967D2;\n",
              "      height: 32px;\n",
              "      padding: 0 0 0 0;\n",
              "      width: 32px;\n",
              "    }\n",
              "\n",
              "    .colab-df-convert:hover {\n",
              "      background-color: #E2EBFA;\n",
              "      box-shadow: 0px 1px 2px rgba(60, 64, 67, 0.3), 0px 1px 3px 1px rgba(60, 64, 67, 0.15);\n",
              "      fill: #174EA6;\n",
              "    }\n",
              "\n",
              "    [theme=dark] .colab-df-convert {\n",
              "      background-color: #3B4455;\n",
              "      fill: #D2E3FC;\n",
              "    }\n",
              "\n",
              "    [theme=dark] .colab-df-convert:hover {\n",
              "      background-color: #434B5C;\n",
              "      box-shadow: 0px 1px 3px 1px rgba(0, 0, 0, 0.15);\n",
              "      filter: drop-shadow(0px 1px 2px rgba(0, 0, 0, 0.3));\n",
              "      fill: #FFFFFF;\n",
              "    }\n",
              "  </style>\n",
              "\n",
              "      <script>\n",
              "        const buttonEl =\n",
              "          document.querySelector('#df-db24e782-7c22-4033-ba20-367c247c2d51 button.colab-df-convert');\n",
              "        buttonEl.style.display =\n",
              "          google.colab.kernel.accessAllowed ? 'block' : 'none';\n",
              "\n",
              "        async function convertToInteractive(key) {\n",
              "          const element = document.querySelector('#df-db24e782-7c22-4033-ba20-367c247c2d51');\n",
              "          const dataTable =\n",
              "            await google.colab.kernel.invokeFunction('convertToInteractive',\n",
              "                                                     [key], {});\n",
              "          if (!dataTable) return;\n",
              "\n",
              "          const docLinkHtml = 'Like what you see? Visit the ' +\n",
              "            '<a target=\"_blank\" href=https://colab.research.google.com/notebooks/data_table.ipynb>data table notebook</a>'\n",
              "            + ' to learn more about interactive tables.';\n",
              "          element.innerHTML = '';\n",
              "          dataTable['output_type'] = 'display_data';\n",
              "          await google.colab.output.renderOutput(dataTable, element);\n",
              "          const docLink = document.createElement('div');\n",
              "          docLink.innerHTML = docLinkHtml;\n",
              "          element.appendChild(docLink);\n",
              "        }\n",
              "      </script>\n",
              "    </div>\n",
              "  </div>\n"
            ]
          },
          "metadata": {},
          "execution_count": 7
        }
      ]
    },
    {
      "cell_type": "code",
      "source": [
        "y = df_train.Class\n",
        "\n",
        "df_test = df_test.drop([\"Id\"], axis=1)\n",
        "ds_train = df_train.drop([\"Id\", \"Class\"], axis=1)"
      ],
      "metadata": {
        "id": "lRtZSreSWi8P"
      },
      "execution_count": 8,
      "outputs": []
    },
    {
      "cell_type": "code",
      "source": [
        "ds_train.describe()"
      ],
      "metadata": {
        "id": "TXTu9uGeUnTF",
        "colab": {
          "base_uri": "https://localhost:8080/",
          "height": 393
        },
        "outputId": "3d317634-3ba0-4cd1-9d4e-7ed6cbb9b444"
      },
      "execution_count": 9,
      "outputs": [
        {
          "output_type": "execute_result",
          "data": {
            "text/plain": [
              "               AB            AF           AH          AM          AR  \\\n",
              "count  617.000000    617.000000   617.000000  617.000000  617.000000   \n",
              "mean     0.477149   3502.013221   118.624513   38.968552   10.128242   \n",
              "std      0.468388   2300.322717   127.838950   69.728226   10.518877   \n",
              "min      0.081187    192.593280    85.200147    3.177522    8.138688   \n",
              "25%      0.252107   2197.345480    85.200147   12.270314    8.138688   \n",
              "50%      0.354659   3120.318960    85.200147   20.533110    8.138688   \n",
              "75%      0.559763   4361.637390   113.739540   39.139886    8.138688   \n",
              "max      6.161666  28688.187660  1910.123198  630.518230  178.943634   \n",
              "\n",
              "               AX          AY          AZ           BC           BD   ...  \\\n",
              "count  617.000000  617.000000  617.000000   617.000000    617.000000  ...   \n",
              "mean     5.545576    0.060320   10.566447     8.053012   5350.388655  ...   \n",
              "std      2.551696    0.416817    4.350645    65.166943   3021.326641  ...   \n",
              "min      0.699861    0.025578    3.396778     1.229900   1693.624320  ...   \n",
              "25%      4.128294    0.025578    8.129580     1.229900   4155.702870  ...   \n",
              "50%      5.031912    0.025578   10.461320     1.229900   4997.960730  ...   \n",
              "75%      6.431634    0.036845   12.969516     5.081244   6035.885700  ...   \n",
              "max     38.270880   10.315851   38.971568  1463.693448  53060.599240  ...   \n",
              "\n",
              "               FI          FL           FR          FS          GB  \\\n",
              "count  617.000000  616.000000   617.000000  615.000000  617.000000   \n",
              "mean    10.111079    5.433199     3.533905    0.421501   20.724856   \n",
              "std      2.934025   11.496257    50.181948    1.305365    9.991907   \n",
              "min      3.583450    0.173229     0.497060    0.067730    4.102182   \n",
              "25%      8.523098    0.173229     0.497060    0.067730   14.036718   \n",
              "50%      9.945452    3.028141     1.131000    0.250601   18.771436   \n",
              "75%     11.516657    6.238814     1.512060    0.535067   25.608406   \n",
              "max     35.851039  137.932739  1244.227020   31.365763  135.781294   \n",
              "\n",
              "                GE             GF          GH          GI          GL  \n",
              "count   617.000000     617.000000  617.000000  617.000000  616.000000  \n",
              "mean    131.714987   14679.595398   31.489716   50.584437    8.530961  \n",
              "std     144.181524   19352.959387    9.864239   36.266251   10.327010  \n",
              "min      72.611063      13.038894    9.432735    0.897628    0.001129  \n",
              "25%      72.611063    2798.992584   25.034888   23.011684    0.124392  \n",
              "50%      72.611063    7838.273610   30.608946   41.007968    0.337827  \n",
              "75%     127.591671   19035.709240   36.863947   67.931664   21.978000  \n",
              "max    1497.351958  143790.071200   81.210825  191.194764   21.978000  \n",
              "\n",
              "[8 rows x 55 columns]"
            ],
            "text/html": [
              "\n",
              "\n",
              "  <div id=\"df-a3c3080b-aac1-4be1-aed4-55da8426658b\">\n",
              "    <div class=\"colab-df-container\">\n",
              "      <div>\n",
              "<style scoped>\n",
              "    .dataframe tbody tr th:only-of-type {\n",
              "        vertical-align: middle;\n",
              "    }\n",
              "\n",
              "    .dataframe tbody tr th {\n",
              "        vertical-align: top;\n",
              "    }\n",
              "\n",
              "    .dataframe thead th {\n",
              "        text-align: right;\n",
              "    }\n",
              "</style>\n",
              "<table border=\"1\" class=\"dataframe\">\n",
              "  <thead>\n",
              "    <tr style=\"text-align: right;\">\n",
              "      <th></th>\n",
              "      <th>AB</th>\n",
              "      <th>AF</th>\n",
              "      <th>AH</th>\n",
              "      <th>AM</th>\n",
              "      <th>AR</th>\n",
              "      <th>AX</th>\n",
              "      <th>AY</th>\n",
              "      <th>AZ</th>\n",
              "      <th>BC</th>\n",
              "      <th>BD</th>\n",
              "      <th>...</th>\n",
              "      <th>FI</th>\n",
              "      <th>FL</th>\n",
              "      <th>FR</th>\n",
              "      <th>FS</th>\n",
              "      <th>GB</th>\n",
              "      <th>GE</th>\n",
              "      <th>GF</th>\n",
              "      <th>GH</th>\n",
              "      <th>GI</th>\n",
              "      <th>GL</th>\n",
              "    </tr>\n",
              "  </thead>\n",
              "  <tbody>\n",
              "    <tr>\n",
              "      <th>count</th>\n",
              "      <td>617.000000</td>\n",
              "      <td>617.000000</td>\n",
              "      <td>617.000000</td>\n",
              "      <td>617.000000</td>\n",
              "      <td>617.000000</td>\n",
              "      <td>617.000000</td>\n",
              "      <td>617.000000</td>\n",
              "      <td>617.000000</td>\n",
              "      <td>617.000000</td>\n",
              "      <td>617.000000</td>\n",
              "      <td>...</td>\n",
              "      <td>617.000000</td>\n",
              "      <td>616.000000</td>\n",
              "      <td>617.000000</td>\n",
              "      <td>615.000000</td>\n",
              "      <td>617.000000</td>\n",
              "      <td>617.000000</td>\n",
              "      <td>617.000000</td>\n",
              "      <td>617.000000</td>\n",
              "      <td>617.000000</td>\n",
              "      <td>616.000000</td>\n",
              "    </tr>\n",
              "    <tr>\n",
              "      <th>mean</th>\n",
              "      <td>0.477149</td>\n",
              "      <td>3502.013221</td>\n",
              "      <td>118.624513</td>\n",
              "      <td>38.968552</td>\n",
              "      <td>10.128242</td>\n",
              "      <td>5.545576</td>\n",
              "      <td>0.060320</td>\n",
              "      <td>10.566447</td>\n",
              "      <td>8.053012</td>\n",
              "      <td>5350.388655</td>\n",
              "      <td>...</td>\n",
              "      <td>10.111079</td>\n",
              "      <td>5.433199</td>\n",
              "      <td>3.533905</td>\n",
              "      <td>0.421501</td>\n",
              "      <td>20.724856</td>\n",
              "      <td>131.714987</td>\n",
              "      <td>14679.595398</td>\n",
              "      <td>31.489716</td>\n",
              "      <td>50.584437</td>\n",
              "      <td>8.530961</td>\n",
              "    </tr>\n",
              "    <tr>\n",
              "      <th>std</th>\n",
              "      <td>0.468388</td>\n",
              "      <td>2300.322717</td>\n",
              "      <td>127.838950</td>\n",
              "      <td>69.728226</td>\n",
              "      <td>10.518877</td>\n",
              "      <td>2.551696</td>\n",
              "      <td>0.416817</td>\n",
              "      <td>4.350645</td>\n",
              "      <td>65.166943</td>\n",
              "      <td>3021.326641</td>\n",
              "      <td>...</td>\n",
              "      <td>2.934025</td>\n",
              "      <td>11.496257</td>\n",
              "      <td>50.181948</td>\n",
              "      <td>1.305365</td>\n",
              "      <td>9.991907</td>\n",
              "      <td>144.181524</td>\n",
              "      <td>19352.959387</td>\n",
              "      <td>9.864239</td>\n",
              "      <td>36.266251</td>\n",
              "      <td>10.327010</td>\n",
              "    </tr>\n",
              "    <tr>\n",
              "      <th>min</th>\n",
              "      <td>0.081187</td>\n",
              "      <td>192.593280</td>\n",
              "      <td>85.200147</td>\n",
              "      <td>3.177522</td>\n",
              "      <td>8.138688</td>\n",
              "      <td>0.699861</td>\n",
              "      <td>0.025578</td>\n",
              "      <td>3.396778</td>\n",
              "      <td>1.229900</td>\n",
              "      <td>1693.624320</td>\n",
              "      <td>...</td>\n",
              "      <td>3.583450</td>\n",
              "      <td>0.173229</td>\n",
              "      <td>0.497060</td>\n",
              "      <td>0.067730</td>\n",
              "      <td>4.102182</td>\n",
              "      <td>72.611063</td>\n",
              "      <td>13.038894</td>\n",
              "      <td>9.432735</td>\n",
              "      <td>0.897628</td>\n",
              "      <td>0.001129</td>\n",
              "    </tr>\n",
              "    <tr>\n",
              "      <th>25%</th>\n",
              "      <td>0.252107</td>\n",
              "      <td>2197.345480</td>\n",
              "      <td>85.200147</td>\n",
              "      <td>12.270314</td>\n",
              "      <td>8.138688</td>\n",
              "      <td>4.128294</td>\n",
              "      <td>0.025578</td>\n",
              "      <td>8.129580</td>\n",
              "      <td>1.229900</td>\n",
              "      <td>4155.702870</td>\n",
              "      <td>...</td>\n",
              "      <td>8.523098</td>\n",
              "      <td>0.173229</td>\n",
              "      <td>0.497060</td>\n",
              "      <td>0.067730</td>\n",
              "      <td>14.036718</td>\n",
              "      <td>72.611063</td>\n",
              "      <td>2798.992584</td>\n",
              "      <td>25.034888</td>\n",
              "      <td>23.011684</td>\n",
              "      <td>0.124392</td>\n",
              "    </tr>\n",
              "    <tr>\n",
              "      <th>50%</th>\n",
              "      <td>0.354659</td>\n",
              "      <td>3120.318960</td>\n",
              "      <td>85.200147</td>\n",
              "      <td>20.533110</td>\n",
              "      <td>8.138688</td>\n",
              "      <td>5.031912</td>\n",
              "      <td>0.025578</td>\n",
              "      <td>10.461320</td>\n",
              "      <td>1.229900</td>\n",
              "      <td>4997.960730</td>\n",
              "      <td>...</td>\n",
              "      <td>9.945452</td>\n",
              "      <td>3.028141</td>\n",
              "      <td>1.131000</td>\n",
              "      <td>0.250601</td>\n",
              "      <td>18.771436</td>\n",
              "      <td>72.611063</td>\n",
              "      <td>7838.273610</td>\n",
              "      <td>30.608946</td>\n",
              "      <td>41.007968</td>\n",
              "      <td>0.337827</td>\n",
              "    </tr>\n",
              "    <tr>\n",
              "      <th>75%</th>\n",
              "      <td>0.559763</td>\n",
              "      <td>4361.637390</td>\n",
              "      <td>113.739540</td>\n",
              "      <td>39.139886</td>\n",
              "      <td>8.138688</td>\n",
              "      <td>6.431634</td>\n",
              "      <td>0.036845</td>\n",
              "      <td>12.969516</td>\n",
              "      <td>5.081244</td>\n",
              "      <td>6035.885700</td>\n",
              "      <td>...</td>\n",
              "      <td>11.516657</td>\n",
              "      <td>6.238814</td>\n",
              "      <td>1.512060</td>\n",
              "      <td>0.535067</td>\n",
              "      <td>25.608406</td>\n",
              "      <td>127.591671</td>\n",
              "      <td>19035.709240</td>\n",
              "      <td>36.863947</td>\n",
              "      <td>67.931664</td>\n",
              "      <td>21.978000</td>\n",
              "    </tr>\n",
              "    <tr>\n",
              "      <th>max</th>\n",
              "      <td>6.161666</td>\n",
              "      <td>28688.187660</td>\n",
              "      <td>1910.123198</td>\n",
              "      <td>630.518230</td>\n",
              "      <td>178.943634</td>\n",
              "      <td>38.270880</td>\n",
              "      <td>10.315851</td>\n",
              "      <td>38.971568</td>\n",
              "      <td>1463.693448</td>\n",
              "      <td>53060.599240</td>\n",
              "      <td>...</td>\n",
              "      <td>35.851039</td>\n",
              "      <td>137.932739</td>\n",
              "      <td>1244.227020</td>\n",
              "      <td>31.365763</td>\n",
              "      <td>135.781294</td>\n",
              "      <td>1497.351958</td>\n",
              "      <td>143790.071200</td>\n",
              "      <td>81.210825</td>\n",
              "      <td>191.194764</td>\n",
              "      <td>21.978000</td>\n",
              "    </tr>\n",
              "  </tbody>\n",
              "</table>\n",
              "<p>8 rows × 55 columns</p>\n",
              "</div>\n",
              "      <button class=\"colab-df-convert\" onclick=\"convertToInteractive('df-a3c3080b-aac1-4be1-aed4-55da8426658b')\"\n",
              "              title=\"Convert this dataframe to an interactive table.\"\n",
              "              style=\"display:none;\">\n",
              "\n",
              "  <svg xmlns=\"http://www.w3.org/2000/svg\" height=\"24px\"viewBox=\"0 0 24 24\"\n",
              "       width=\"24px\">\n",
              "    <path d=\"M0 0h24v24H0V0z\" fill=\"none\"/>\n",
              "    <path d=\"M18.56 5.44l.94 2.06.94-2.06 2.06-.94-2.06-.94-.94-2.06-.94 2.06-2.06.94zm-11 1L8.5 8.5l.94-2.06 2.06-.94-2.06-.94L8.5 2.5l-.94 2.06-2.06.94zm10 10l.94 2.06.94-2.06 2.06-.94-2.06-.94-.94-2.06-.94 2.06-2.06.94z\"/><path d=\"M17.41 7.96l-1.37-1.37c-.4-.4-.92-.59-1.43-.59-.52 0-1.04.2-1.43.59L10.3 9.45l-7.72 7.72c-.78.78-.78 2.05 0 2.83L4 21.41c.39.39.9.59 1.41.59.51 0 1.02-.2 1.41-.59l7.78-7.78 2.81-2.81c.8-.78.8-2.07 0-2.86zM5.41 20L4 18.59l7.72-7.72 1.47 1.35L5.41 20z\"/>\n",
              "  </svg>\n",
              "      </button>\n",
              "\n",
              "\n",
              "\n",
              "    <div id=\"df-fa71ef66-0bce-48c5-9149-d4d890098f82\">\n",
              "      <button class=\"colab-df-quickchart\" onclick=\"quickchart('df-fa71ef66-0bce-48c5-9149-d4d890098f82')\"\n",
              "              title=\"Suggest charts.\"\n",
              "              style=\"display:none;\">\n",
              "\n",
              "<svg xmlns=\"http://www.w3.org/2000/svg\" height=\"24px\"viewBox=\"0 0 24 24\"\n",
              "     width=\"24px\">\n",
              "    <g>\n",
              "        <path d=\"M19 3H5c-1.1 0-2 .9-2 2v14c0 1.1.9 2 2 2h14c1.1 0 2-.9 2-2V5c0-1.1-.9-2-2-2zM9 17H7v-7h2v7zm4 0h-2V7h2v10zm4 0h-2v-4h2v4z\"/>\n",
              "    </g>\n",
              "</svg>\n",
              "      </button>\n",
              "    </div>\n",
              "\n",
              "<style>\n",
              "  .colab-df-quickchart {\n",
              "    background-color: #E8F0FE;\n",
              "    border: none;\n",
              "    border-radius: 50%;\n",
              "    cursor: pointer;\n",
              "    display: none;\n",
              "    fill: #1967D2;\n",
              "    height: 32px;\n",
              "    padding: 0 0 0 0;\n",
              "    width: 32px;\n",
              "  }\n",
              "\n",
              "  .colab-df-quickchart:hover {\n",
              "    background-color: #E2EBFA;\n",
              "    box-shadow: 0px 1px 2px rgba(60, 64, 67, 0.3), 0px 1px 3px 1px rgba(60, 64, 67, 0.15);\n",
              "    fill: #174EA6;\n",
              "  }\n",
              "\n",
              "  [theme=dark] .colab-df-quickchart {\n",
              "    background-color: #3B4455;\n",
              "    fill: #D2E3FC;\n",
              "  }\n",
              "\n",
              "  [theme=dark] .colab-df-quickchart:hover {\n",
              "    background-color: #434B5C;\n",
              "    box-shadow: 0px 1px 3px 1px rgba(0, 0, 0, 0.15);\n",
              "    filter: drop-shadow(0px 1px 2px rgba(0, 0, 0, 0.3));\n",
              "    fill: #FFFFFF;\n",
              "  }\n",
              "</style>\n",
              "\n",
              "    <script>\n",
              "      async function quickchart(key) {\n",
              "        const containerElement = document.querySelector('#' + key);\n",
              "        const charts = await google.colab.kernel.invokeFunction(\n",
              "            'suggestCharts', [key], {});\n",
              "      }\n",
              "    </script>\n",
              "\n",
              "      <script>\n",
              "\n",
              "function displayQuickchartButton(domScope) {\n",
              "  let quickchartButtonEl =\n",
              "    domScope.querySelector('#df-fa71ef66-0bce-48c5-9149-d4d890098f82 button.colab-df-quickchart');\n",
              "  quickchartButtonEl.style.display =\n",
              "    google.colab.kernel.accessAllowed ? 'block' : 'none';\n",
              "}\n",
              "\n",
              "        displayQuickchartButton(document);\n",
              "      </script>\n",
              "      <style>\n",
              "    .colab-df-container {\n",
              "      display:flex;\n",
              "      flex-wrap:wrap;\n",
              "      gap: 12px;\n",
              "    }\n",
              "\n",
              "    .colab-df-convert {\n",
              "      background-color: #E8F0FE;\n",
              "      border: none;\n",
              "      border-radius: 50%;\n",
              "      cursor: pointer;\n",
              "      display: none;\n",
              "      fill: #1967D2;\n",
              "      height: 32px;\n",
              "      padding: 0 0 0 0;\n",
              "      width: 32px;\n",
              "    }\n",
              "\n",
              "    .colab-df-convert:hover {\n",
              "      background-color: #E2EBFA;\n",
              "      box-shadow: 0px 1px 2px rgba(60, 64, 67, 0.3), 0px 1px 3px 1px rgba(60, 64, 67, 0.15);\n",
              "      fill: #174EA6;\n",
              "    }\n",
              "\n",
              "    [theme=dark] .colab-df-convert {\n",
              "      background-color: #3B4455;\n",
              "      fill: #D2E3FC;\n",
              "    }\n",
              "\n",
              "    [theme=dark] .colab-df-convert:hover {\n",
              "      background-color: #434B5C;\n",
              "      box-shadow: 0px 1px 3px 1px rgba(0, 0, 0, 0.15);\n",
              "      filter: drop-shadow(0px 1px 2px rgba(0, 0, 0, 0.3));\n",
              "      fill: #FFFFFF;\n",
              "    }\n",
              "  </style>\n",
              "\n",
              "      <script>\n",
              "        const buttonEl =\n",
              "          document.querySelector('#df-a3c3080b-aac1-4be1-aed4-55da8426658b button.colab-df-convert');\n",
              "        buttonEl.style.display =\n",
              "          google.colab.kernel.accessAllowed ? 'block' : 'none';\n",
              "\n",
              "        async function convertToInteractive(key) {\n",
              "          const element = document.querySelector('#df-a3c3080b-aac1-4be1-aed4-55da8426658b');\n",
              "          const dataTable =\n",
              "            await google.colab.kernel.invokeFunction('convertToInteractive',\n",
              "                                                     [key], {});\n",
              "          if (!dataTable) return;\n",
              "\n",
              "          const docLinkHtml = 'Like what you see? Visit the ' +\n",
              "            '<a target=\"_blank\" href=https://colab.research.google.com/notebooks/data_table.ipynb>data table notebook</a>'\n",
              "            + ' to learn more about interactive tables.';\n",
              "          element.innerHTML = '';\n",
              "          dataTable['output_type'] = 'display_data';\n",
              "          await google.colab.output.renderOutput(dataTable, element);\n",
              "          const docLink = document.createElement('div');\n",
              "          docLink.innerHTML = docLinkHtml;\n",
              "          element.appendChild(docLink);\n",
              "        }\n",
              "      </script>\n",
              "    </div>\n",
              "  </div>\n"
            ]
          },
          "metadata": {},
          "execution_count": 9
        }
      ]
    },
    {
      "cell_type": "code",
      "source": [
        "ds_train.info()"
      ],
      "metadata": {
        "id": "ecuRBEIhYzX1",
        "colab": {
          "base_uri": "https://localhost:8080/"
        },
        "outputId": "5c3c066e-2a07-440a-dbff-d592077e24ad"
      },
      "execution_count": 10,
      "outputs": [
        {
          "output_type": "stream",
          "name": "stdout",
          "text": [
            "<class 'pandas.core.frame.DataFrame'>\n",
            "RangeIndex: 617 entries, 0 to 616\n",
            "Data columns (total 56 columns):\n",
            " #   Column  Non-Null Count  Dtype  \n",
            "---  ------  --------------  -----  \n",
            " 0   AB      617 non-null    float64\n",
            " 1   AF      617 non-null    float64\n",
            " 2   AH      617 non-null    float64\n",
            " 3   AM      617 non-null    float64\n",
            " 4   AR      617 non-null    float64\n",
            " 5   AX      617 non-null    float64\n",
            " 6   AY      617 non-null    float64\n",
            " 7   AZ      617 non-null    float64\n",
            " 8   BC      617 non-null    float64\n",
            " 9   BD      617 non-null    float64\n",
            " 10  BN      617 non-null    float64\n",
            " 11  BP      617 non-null    float64\n",
            " 12  BQ      557 non-null    float64\n",
            " 13  BR      617 non-null    float64\n",
            " 14  BZ      617 non-null    float64\n",
            " 15  CB      615 non-null    float64\n",
            " 16  CC      614 non-null    float64\n",
            " 17  CD      617 non-null    float64\n",
            " 18  CF      617 non-null    float64\n",
            " 19  CH      617 non-null    float64\n",
            " 20  CL      617 non-null    float64\n",
            " 21  CR      617 non-null    float64\n",
            " 22  CS      617 non-null    float64\n",
            " 23  CU      617 non-null    float64\n",
            " 24  CW      617 non-null    float64\n",
            " 25  DA      617 non-null    float64\n",
            " 26  DE      617 non-null    float64\n",
            " 27  DF      617 non-null    float64\n",
            " 28  DH      617 non-null    float64\n",
            " 29  DI      617 non-null    float64\n",
            " 30  DL      617 non-null    float64\n",
            " 31  DN      617 non-null    float64\n",
            " 32  DU      616 non-null    float64\n",
            " 33  DV      617 non-null    float64\n",
            " 34  DY      617 non-null    float64\n",
            " 35  EB      617 non-null    float64\n",
            " 36  EE      617 non-null    float64\n",
            " 37  EG      617 non-null    float64\n",
            " 38  EH      617 non-null    float64\n",
            " 39  EJ      617 non-null    object \n",
            " 40  EL      557 non-null    float64\n",
            " 41  EP      617 non-null    float64\n",
            " 42  EU      617 non-null    float64\n",
            " 43  FC      616 non-null    float64\n",
            " 44  FD      617 non-null    float64\n",
            " 45  FE      617 non-null    float64\n",
            " 46  FI      617 non-null    float64\n",
            " 47  FL      616 non-null    float64\n",
            " 48  FR      617 non-null    float64\n",
            " 49  FS      615 non-null    float64\n",
            " 50  GB      617 non-null    float64\n",
            " 51  GE      617 non-null    float64\n",
            " 52  GF      617 non-null    float64\n",
            " 53  GH      617 non-null    float64\n",
            " 54  GI      617 non-null    float64\n",
            " 55  GL      616 non-null    float64\n",
            "dtypes: float64(55), object(1)\n",
            "memory usage: 270.1+ KB\n"
          ]
        }
      ]
    },
    {
      "cell_type": "code",
      "source": [
        "# замэпим категориальные данные (она у нас одна, поэтому просто бинарно закодируем)\n",
        "\n",
        "mapping = {\"A\": 1,\n",
        "           \"B\": 0}\n",
        "\n",
        "map_train = ds_train.copy(deep=True)\n",
        "\n",
        "map_train['EJ'] = ds_train.EJ.map(mapping)\n",
        "df_test[\"EJ\"] = df_test.EJ.map(mapping)\n",
        "\n",
        "map_train.EJ"
      ],
      "metadata": {
        "id": "gmVhUc1Vblcp",
        "colab": {
          "base_uri": "https://localhost:8080/"
        },
        "outputId": "d3a1731f-b7f4-4ce5-f91f-a834d9b7387d"
      },
      "execution_count": 12,
      "outputs": [
        {
          "output_type": "execute_result",
          "data": {
            "text/plain": [
              "0      0\n",
              "1      1\n",
              "2      0\n",
              "3      0\n",
              "4      0\n",
              "      ..\n",
              "612    1\n",
              "613    0\n",
              "614    1\n",
              "615    0\n",
              "616    1\n",
              "Name: EJ, Length: 617, dtype: int64"
            ]
          },
          "metadata": {},
          "execution_count": 12
        }
      ]
    },
    {
      "cell_type": "code",
      "source": [
        "cols_list = df_train.isnull().sum()[lambda x: x != 0]\n",
        "cols_list"
      ],
      "metadata": {
        "colab": {
          "base_uri": "https://localhost:8080/"
        },
        "id": "GV0xZienvNDv",
        "outputId": "90491cf7-c6fa-43f6-fd95-7a21e5312ccf"
      },
      "execution_count": 25,
      "outputs": [
        {
          "output_type": "execute_result",
          "data": {
            "text/plain": [
              "BQ    60\n",
              "CB     2\n",
              "CC     3\n",
              "DU     1\n",
              "EL    60\n",
              "FC     1\n",
              "FL     1\n",
              "FS     2\n",
              "GL     1\n",
              "dtype: int64"
            ]
          },
          "metadata": {},
          "execution_count": 25
        }
      ]
    },
    {
      "cell_type": "code",
      "source": [
        "# посчитаем количество уникальных значений, в основном как оказалось признаки не дискретны\n",
        "\n",
        "def count_unique(df : pd.DataFrame):\n",
        "  for i in df.columns:\n",
        "    print(i, len(df[i].unique()))\n",
        "\n",
        "count_unique(ds_train)"
      ],
      "metadata": {
        "id": "D1L7wK2EeSiv",
        "colab": {
          "base_uri": "https://localhost:8080/"
        },
        "outputId": "6187d844-381b-4aea-928d-bd7e4cff9c0f"
      },
      "execution_count": 20,
      "outputs": [
        {
          "output_type": "stream",
          "name": "stdout",
          "text": [
            "AB 217\n",
            "AF 599\n",
            "AH 227\n",
            "AM 605\n",
            "AR 130\n",
            "AX 427\n",
            "AY 148\n",
            "AZ 484\n",
            "BC 259\n",
            "BD  617\n",
            "BN 53\n",
            "BP 612\n",
            "BQ 516\n",
            "BR 566\n",
            "BZ 115\n",
            "CB 554\n",
            "CC 603\n",
            "CD  584\n",
            "CF 586\n",
            "CH 135\n",
            "CL 123\n",
            "CR 595\n",
            "CS 576\n",
            "CU 307\n",
            "CW  426\n",
            "DA 611\n",
            "DE 616\n",
            "DF 137\n",
            "DH 191\n",
            "DI 571\n",
            "DL 604\n",
            "DN 576\n",
            "DU 254\n",
            "DV 39\n",
            "DY 590\n",
            "EB 439\n",
            "EE 513\n",
            "EG 610\n",
            "EH 127\n",
            "EJ 2\n",
            "EL 312\n",
            "EP 275\n",
            "EU 455\n",
            "FC 601\n",
            "FD  337\n",
            "FE 615\n",
            "FI 498\n",
            "FL 389\n",
            "FR 435\n",
            "FS 162\n",
            "GB 560\n",
            "GE 264\n",
            "GF 611\n",
            "GH 596\n",
            "GI 615\n",
            "GL 356\n"
          ]
        }
      ]
    },
    {
      "cell_type": "code",
      "source": [
        "from sklearn.impute import SimpleImputer\n",
        "\n",
        "# EJ - КАТЕГОРИАЛЬНЫЙ, БЕЗ ПРОПУЩЕННЫХ ЗНАЧЕНИЙ, ОСТАЛЬНЫЕ ЧИСЛОВЫЕ\n",
        "\n",
        "imp_med = SimpleImputer(missing_values=np.nan, strategy='median')\n",
        "\n",
        "imp_med.fit(map_train)\n",
        "\n",
        "df_test = pd.DataFrame(imp_med.transform(df_test), columns=df_test.columns)\n",
        "imp_ds_train = pd.DataFrame(imp_med.transform(map_train), columns=map_train.columns)"
      ],
      "metadata": {
        "id": "UkDlb6weVdal"
      },
      "execution_count": 26,
      "outputs": []
    },
    {
      "cell_type": "code",
      "source": [
        "imp_ds_train.isnull().sum()[lambda x: x != 0]"
      ],
      "metadata": {
        "id": "Pjon2Sf3WPaM",
        "colab": {
          "base_uri": "https://localhost:8080/"
        },
        "outputId": "002795cd-f645-4d17-fe6b-8b3e65e2695d"
      },
      "execution_count": 27,
      "outputs": [
        {
          "output_type": "execute_result",
          "data": {
            "text/plain": [
              "Series([], dtype: int64)"
            ]
          },
          "metadata": {},
          "execution_count": 27
        }
      ]
    },
    {
      "cell_type": "code",
      "source": [
        "imp_ds_train.head(10)"
      ],
      "metadata": {
        "id": "4kamk5SYhv9z",
        "colab": {
          "base_uri": "https://localhost:8080/",
          "height": 456
        },
        "outputId": "d8bb68fb-2829-4acb-bed4-28b35293e0a5"
      },
      "execution_count": 28,
      "outputs": [
        {
          "output_type": "execute_result",
          "data": {
            "text/plain": [
              "         AB          AF          AH         AM         AR        AX        AY  \\\n",
              "0  0.209377  3109.03329   85.200147  22.394407   8.138688  0.699861  0.025578   \n",
              "1  0.145282   978.76416   85.200147  36.968889   8.138688  3.632190  0.025578   \n",
              "2  0.470030  2635.10654   85.200147  32.360553   8.138688  6.732840  0.025578   \n",
              "3  0.252107  3819.65177  120.201618  77.112203   8.138688  3.685344  0.025578   \n",
              "4  0.380297  3733.04844   85.200147  14.103738   8.138688  3.942255  0.054810   \n",
              "5  0.209377  2615.81430   85.200147   8.541526   8.138688  4.013127  0.025578   \n",
              "6  0.348249  1733.65412   85.200147   8.377385  15.312480  1.913544  0.025578   \n",
              "7  0.269199   966.45483   85.200147  21.174189   8.138688  4.987617  0.025578   \n",
              "8  0.346113  3238.43674   85.200147  28.888816   8.138688  4.021986  0.025578   \n",
              "9  0.324748  5188.68207   85.200147  12.968687   8.138688  4.593392  0.025578   \n",
              "\n",
              "          AZ          BC         BD   ...         FI        FL        FR  \\\n",
              "0   9.812214    5.555634  4126.58731  ...   3.583450  7.298162   1.73855   \n",
              "1  13.517790    1.229900  5496.92824  ...  10.358927  0.173229   0.49706   \n",
              "2  12.824570    1.229900  5135.78024  ...  11.626917  7.709560   0.97556   \n",
              "3  11.053708    1.229900  4169.67738  ...  14.852022  6.122162   0.49706   \n",
              "4   3.396778  102.151980  5728.73412  ...  13.666727  8.153058  48.50134   \n",
              "5  12.547282    1.229900  5237.54088  ...  10.981896  0.173229   0.49706   \n",
              "6   6.547778    1.229900  5710.46099  ...  10.777915  4.408484   0.86130   \n",
              "7   9.408886    1.229900  5040.77914  ...  10.342388  6.591896   0.49706   \n",
              "8   8.243016    3.626448  6569.37001  ...  11.450501  4.762291   1.18262   \n",
              "9  10.685041    1.229900  4951.69863  ...  12.329825  0.173229   1.57151   \n",
              "\n",
              "         FS         GB          GE            GF         GH          GI  \\\n",
              "0  0.094822  11.339138   72.611063   2003.810319  22.136229   69.834944   \n",
              "1  0.568932   9.292698   72.611063  27981.562750  29.135430   32.131996   \n",
              "2  1.198821  37.077772   88.609437  13676.957810  28.022851   35.192676   \n",
              "3  0.284466  18.529584   82.416803   2094.262452  39.948656   90.493248   \n",
              "4  0.121914  16.408728  146.109943   8524.370502  45.381316   36.262628   \n",
              "5  1.164956  21.915512   72.611063  24177.595550  28.525186   82.527764   \n",
              "6  0.467337  17.878444  192.453107   3332.467494  34.166222  100.086808   \n",
              "7  0.277693  18.445866  109.693986  21371.759850  35.208102   31.424696   \n",
              "8  0.067730  17.245908  147.218610   4589.611956  29.771721   54.675576   \n",
              "9  0.318331  24.515421   98.929757   5563.130949  21.994831   33.300970   \n",
              "\n",
              "          GL  \n",
              "0   0.120343  \n",
              "1  21.978000  \n",
              "2   0.196941  \n",
              "3   0.155829  \n",
              "4   0.096614  \n",
              "5  21.978000  \n",
              "6   0.065096  \n",
              "7   0.092873  \n",
              "8   0.073416  \n",
              "9  21.978000  \n",
              "\n",
              "[10 rows x 56 columns]"
            ],
            "text/html": [
              "\n",
              "\n",
              "  <div id=\"df-713b88e3-3310-419a-a68a-2eddf44587e0\">\n",
              "    <div class=\"colab-df-container\">\n",
              "      <div>\n",
              "<style scoped>\n",
              "    .dataframe tbody tr th:only-of-type {\n",
              "        vertical-align: middle;\n",
              "    }\n",
              "\n",
              "    .dataframe tbody tr th {\n",
              "        vertical-align: top;\n",
              "    }\n",
              "\n",
              "    .dataframe thead th {\n",
              "        text-align: right;\n",
              "    }\n",
              "</style>\n",
              "<table border=\"1\" class=\"dataframe\">\n",
              "  <thead>\n",
              "    <tr style=\"text-align: right;\">\n",
              "      <th></th>\n",
              "      <th>AB</th>\n",
              "      <th>AF</th>\n",
              "      <th>AH</th>\n",
              "      <th>AM</th>\n",
              "      <th>AR</th>\n",
              "      <th>AX</th>\n",
              "      <th>AY</th>\n",
              "      <th>AZ</th>\n",
              "      <th>BC</th>\n",
              "      <th>BD</th>\n",
              "      <th>...</th>\n",
              "      <th>FI</th>\n",
              "      <th>FL</th>\n",
              "      <th>FR</th>\n",
              "      <th>FS</th>\n",
              "      <th>GB</th>\n",
              "      <th>GE</th>\n",
              "      <th>GF</th>\n",
              "      <th>GH</th>\n",
              "      <th>GI</th>\n",
              "      <th>GL</th>\n",
              "    </tr>\n",
              "  </thead>\n",
              "  <tbody>\n",
              "    <tr>\n",
              "      <th>0</th>\n",
              "      <td>0.209377</td>\n",
              "      <td>3109.03329</td>\n",
              "      <td>85.200147</td>\n",
              "      <td>22.394407</td>\n",
              "      <td>8.138688</td>\n",
              "      <td>0.699861</td>\n",
              "      <td>0.025578</td>\n",
              "      <td>9.812214</td>\n",
              "      <td>5.555634</td>\n",
              "      <td>4126.58731</td>\n",
              "      <td>...</td>\n",
              "      <td>3.583450</td>\n",
              "      <td>7.298162</td>\n",
              "      <td>1.73855</td>\n",
              "      <td>0.094822</td>\n",
              "      <td>11.339138</td>\n",
              "      <td>72.611063</td>\n",
              "      <td>2003.810319</td>\n",
              "      <td>22.136229</td>\n",
              "      <td>69.834944</td>\n",
              "      <td>0.120343</td>\n",
              "    </tr>\n",
              "    <tr>\n",
              "      <th>1</th>\n",
              "      <td>0.145282</td>\n",
              "      <td>978.76416</td>\n",
              "      <td>85.200147</td>\n",
              "      <td>36.968889</td>\n",
              "      <td>8.138688</td>\n",
              "      <td>3.632190</td>\n",
              "      <td>0.025578</td>\n",
              "      <td>13.517790</td>\n",
              "      <td>1.229900</td>\n",
              "      <td>5496.92824</td>\n",
              "      <td>...</td>\n",
              "      <td>10.358927</td>\n",
              "      <td>0.173229</td>\n",
              "      <td>0.49706</td>\n",
              "      <td>0.568932</td>\n",
              "      <td>9.292698</td>\n",
              "      <td>72.611063</td>\n",
              "      <td>27981.562750</td>\n",
              "      <td>29.135430</td>\n",
              "      <td>32.131996</td>\n",
              "      <td>21.978000</td>\n",
              "    </tr>\n",
              "    <tr>\n",
              "      <th>2</th>\n",
              "      <td>0.470030</td>\n",
              "      <td>2635.10654</td>\n",
              "      <td>85.200147</td>\n",
              "      <td>32.360553</td>\n",
              "      <td>8.138688</td>\n",
              "      <td>6.732840</td>\n",
              "      <td>0.025578</td>\n",
              "      <td>12.824570</td>\n",
              "      <td>1.229900</td>\n",
              "      <td>5135.78024</td>\n",
              "      <td>...</td>\n",
              "      <td>11.626917</td>\n",
              "      <td>7.709560</td>\n",
              "      <td>0.97556</td>\n",
              "      <td>1.198821</td>\n",
              "      <td>37.077772</td>\n",
              "      <td>88.609437</td>\n",
              "      <td>13676.957810</td>\n",
              "      <td>28.022851</td>\n",
              "      <td>35.192676</td>\n",
              "      <td>0.196941</td>\n",
              "    </tr>\n",
              "    <tr>\n",
              "      <th>3</th>\n",
              "      <td>0.252107</td>\n",
              "      <td>3819.65177</td>\n",
              "      <td>120.201618</td>\n",
              "      <td>77.112203</td>\n",
              "      <td>8.138688</td>\n",
              "      <td>3.685344</td>\n",
              "      <td>0.025578</td>\n",
              "      <td>11.053708</td>\n",
              "      <td>1.229900</td>\n",
              "      <td>4169.67738</td>\n",
              "      <td>...</td>\n",
              "      <td>14.852022</td>\n",
              "      <td>6.122162</td>\n",
              "      <td>0.49706</td>\n",
              "      <td>0.284466</td>\n",
              "      <td>18.529584</td>\n",
              "      <td>82.416803</td>\n",
              "      <td>2094.262452</td>\n",
              "      <td>39.948656</td>\n",
              "      <td>90.493248</td>\n",
              "      <td>0.155829</td>\n",
              "    </tr>\n",
              "    <tr>\n",
              "      <th>4</th>\n",
              "      <td>0.380297</td>\n",
              "      <td>3733.04844</td>\n",
              "      <td>85.200147</td>\n",
              "      <td>14.103738</td>\n",
              "      <td>8.138688</td>\n",
              "      <td>3.942255</td>\n",
              "      <td>0.054810</td>\n",
              "      <td>3.396778</td>\n",
              "      <td>102.151980</td>\n",
              "      <td>5728.73412</td>\n",
              "      <td>...</td>\n",
              "      <td>13.666727</td>\n",
              "      <td>8.153058</td>\n",
              "      <td>48.50134</td>\n",
              "      <td>0.121914</td>\n",
              "      <td>16.408728</td>\n",
              "      <td>146.109943</td>\n",
              "      <td>8524.370502</td>\n",
              "      <td>45.381316</td>\n",
              "      <td>36.262628</td>\n",
              "      <td>0.096614</td>\n",
              "    </tr>\n",
              "    <tr>\n",
              "      <th>5</th>\n",
              "      <td>0.209377</td>\n",
              "      <td>2615.81430</td>\n",
              "      <td>85.200147</td>\n",
              "      <td>8.541526</td>\n",
              "      <td>8.138688</td>\n",
              "      <td>4.013127</td>\n",
              "      <td>0.025578</td>\n",
              "      <td>12.547282</td>\n",
              "      <td>1.229900</td>\n",
              "      <td>5237.54088</td>\n",
              "      <td>...</td>\n",
              "      <td>10.981896</td>\n",
              "      <td>0.173229</td>\n",
              "      <td>0.49706</td>\n",
              "      <td>1.164956</td>\n",
              "      <td>21.915512</td>\n",
              "      <td>72.611063</td>\n",
              "      <td>24177.595550</td>\n",
              "      <td>28.525186</td>\n",
              "      <td>82.527764</td>\n",
              "      <td>21.978000</td>\n",
              "    </tr>\n",
              "    <tr>\n",
              "      <th>6</th>\n",
              "      <td>0.348249</td>\n",
              "      <td>1733.65412</td>\n",
              "      <td>85.200147</td>\n",
              "      <td>8.377385</td>\n",
              "      <td>15.312480</td>\n",
              "      <td>1.913544</td>\n",
              "      <td>0.025578</td>\n",
              "      <td>6.547778</td>\n",
              "      <td>1.229900</td>\n",
              "      <td>5710.46099</td>\n",
              "      <td>...</td>\n",
              "      <td>10.777915</td>\n",
              "      <td>4.408484</td>\n",
              "      <td>0.86130</td>\n",
              "      <td>0.467337</td>\n",
              "      <td>17.878444</td>\n",
              "      <td>192.453107</td>\n",
              "      <td>3332.467494</td>\n",
              "      <td>34.166222</td>\n",
              "      <td>100.086808</td>\n",
              "      <td>0.065096</td>\n",
              "    </tr>\n",
              "    <tr>\n",
              "      <th>7</th>\n",
              "      <td>0.269199</td>\n",
              "      <td>966.45483</td>\n",
              "      <td>85.200147</td>\n",
              "      <td>21.174189</td>\n",
              "      <td>8.138688</td>\n",
              "      <td>4.987617</td>\n",
              "      <td>0.025578</td>\n",
              "      <td>9.408886</td>\n",
              "      <td>1.229900</td>\n",
              "      <td>5040.77914</td>\n",
              "      <td>...</td>\n",
              "      <td>10.342388</td>\n",
              "      <td>6.591896</td>\n",
              "      <td>0.49706</td>\n",
              "      <td>0.277693</td>\n",
              "      <td>18.445866</td>\n",
              "      <td>109.693986</td>\n",
              "      <td>21371.759850</td>\n",
              "      <td>35.208102</td>\n",
              "      <td>31.424696</td>\n",
              "      <td>0.092873</td>\n",
              "    </tr>\n",
              "    <tr>\n",
              "      <th>8</th>\n",
              "      <td>0.346113</td>\n",
              "      <td>3238.43674</td>\n",
              "      <td>85.200147</td>\n",
              "      <td>28.888816</td>\n",
              "      <td>8.138688</td>\n",
              "      <td>4.021986</td>\n",
              "      <td>0.025578</td>\n",
              "      <td>8.243016</td>\n",
              "      <td>3.626448</td>\n",
              "      <td>6569.37001</td>\n",
              "      <td>...</td>\n",
              "      <td>11.450501</td>\n",
              "      <td>4.762291</td>\n",
              "      <td>1.18262</td>\n",
              "      <td>0.067730</td>\n",
              "      <td>17.245908</td>\n",
              "      <td>147.218610</td>\n",
              "      <td>4589.611956</td>\n",
              "      <td>29.771721</td>\n",
              "      <td>54.675576</td>\n",
              "      <td>0.073416</td>\n",
              "    </tr>\n",
              "    <tr>\n",
              "      <th>9</th>\n",
              "      <td>0.324748</td>\n",
              "      <td>5188.68207</td>\n",
              "      <td>85.200147</td>\n",
              "      <td>12.968687</td>\n",
              "      <td>8.138688</td>\n",
              "      <td>4.593392</td>\n",
              "      <td>0.025578</td>\n",
              "      <td>10.685041</td>\n",
              "      <td>1.229900</td>\n",
              "      <td>4951.69863</td>\n",
              "      <td>...</td>\n",
              "      <td>12.329825</td>\n",
              "      <td>0.173229</td>\n",
              "      <td>1.57151</td>\n",
              "      <td>0.318331</td>\n",
              "      <td>24.515421</td>\n",
              "      <td>98.929757</td>\n",
              "      <td>5563.130949</td>\n",
              "      <td>21.994831</td>\n",
              "      <td>33.300970</td>\n",
              "      <td>21.978000</td>\n",
              "    </tr>\n",
              "  </tbody>\n",
              "</table>\n",
              "<p>10 rows × 56 columns</p>\n",
              "</div>\n",
              "      <button class=\"colab-df-convert\" onclick=\"convertToInteractive('df-713b88e3-3310-419a-a68a-2eddf44587e0')\"\n",
              "              title=\"Convert this dataframe to an interactive table.\"\n",
              "              style=\"display:none;\">\n",
              "\n",
              "  <svg xmlns=\"http://www.w3.org/2000/svg\" height=\"24px\"viewBox=\"0 0 24 24\"\n",
              "       width=\"24px\">\n",
              "    <path d=\"M0 0h24v24H0V0z\" fill=\"none\"/>\n",
              "    <path d=\"M18.56 5.44l.94 2.06.94-2.06 2.06-.94-2.06-.94-.94-2.06-.94 2.06-2.06.94zm-11 1L8.5 8.5l.94-2.06 2.06-.94-2.06-.94L8.5 2.5l-.94 2.06-2.06.94zm10 10l.94 2.06.94-2.06 2.06-.94-2.06-.94-.94-2.06-.94 2.06-2.06.94z\"/><path d=\"M17.41 7.96l-1.37-1.37c-.4-.4-.92-.59-1.43-.59-.52 0-1.04.2-1.43.59L10.3 9.45l-7.72 7.72c-.78.78-.78 2.05 0 2.83L4 21.41c.39.39.9.59 1.41.59.51 0 1.02-.2 1.41-.59l7.78-7.78 2.81-2.81c.8-.78.8-2.07 0-2.86zM5.41 20L4 18.59l7.72-7.72 1.47 1.35L5.41 20z\"/>\n",
              "  </svg>\n",
              "      </button>\n",
              "\n",
              "\n",
              "\n",
              "    <div id=\"df-b67792d4-5cbc-418a-9d28-06f565c12ed2\">\n",
              "      <button class=\"colab-df-quickchart\" onclick=\"quickchart('df-b67792d4-5cbc-418a-9d28-06f565c12ed2')\"\n",
              "              title=\"Suggest charts.\"\n",
              "              style=\"display:none;\">\n",
              "\n",
              "<svg xmlns=\"http://www.w3.org/2000/svg\" height=\"24px\"viewBox=\"0 0 24 24\"\n",
              "     width=\"24px\">\n",
              "    <g>\n",
              "        <path d=\"M19 3H5c-1.1 0-2 .9-2 2v14c0 1.1.9 2 2 2h14c1.1 0 2-.9 2-2V5c0-1.1-.9-2-2-2zM9 17H7v-7h2v7zm4 0h-2V7h2v10zm4 0h-2v-4h2v4z\"/>\n",
              "    </g>\n",
              "</svg>\n",
              "      </button>\n",
              "    </div>\n",
              "\n",
              "<style>\n",
              "  .colab-df-quickchart {\n",
              "    background-color: #E8F0FE;\n",
              "    border: none;\n",
              "    border-radius: 50%;\n",
              "    cursor: pointer;\n",
              "    display: none;\n",
              "    fill: #1967D2;\n",
              "    height: 32px;\n",
              "    padding: 0 0 0 0;\n",
              "    width: 32px;\n",
              "  }\n",
              "\n",
              "  .colab-df-quickchart:hover {\n",
              "    background-color: #E2EBFA;\n",
              "    box-shadow: 0px 1px 2px rgba(60, 64, 67, 0.3), 0px 1px 3px 1px rgba(60, 64, 67, 0.15);\n",
              "    fill: #174EA6;\n",
              "  }\n",
              "\n",
              "  [theme=dark] .colab-df-quickchart {\n",
              "    background-color: #3B4455;\n",
              "    fill: #D2E3FC;\n",
              "  }\n",
              "\n",
              "  [theme=dark] .colab-df-quickchart:hover {\n",
              "    background-color: #434B5C;\n",
              "    box-shadow: 0px 1px 3px 1px rgba(0, 0, 0, 0.15);\n",
              "    filter: drop-shadow(0px 1px 2px rgba(0, 0, 0, 0.3));\n",
              "    fill: #FFFFFF;\n",
              "  }\n",
              "</style>\n",
              "\n",
              "    <script>\n",
              "      async function quickchart(key) {\n",
              "        const containerElement = document.querySelector('#' + key);\n",
              "        const charts = await google.colab.kernel.invokeFunction(\n",
              "            'suggestCharts', [key], {});\n",
              "      }\n",
              "    </script>\n",
              "\n",
              "      <script>\n",
              "\n",
              "function displayQuickchartButton(domScope) {\n",
              "  let quickchartButtonEl =\n",
              "    domScope.querySelector('#df-b67792d4-5cbc-418a-9d28-06f565c12ed2 button.colab-df-quickchart');\n",
              "  quickchartButtonEl.style.display =\n",
              "    google.colab.kernel.accessAllowed ? 'block' : 'none';\n",
              "}\n",
              "\n",
              "        displayQuickchartButton(document);\n",
              "      </script>\n",
              "      <style>\n",
              "    .colab-df-container {\n",
              "      display:flex;\n",
              "      flex-wrap:wrap;\n",
              "      gap: 12px;\n",
              "    }\n",
              "\n",
              "    .colab-df-convert {\n",
              "      background-color: #E8F0FE;\n",
              "      border: none;\n",
              "      border-radius: 50%;\n",
              "      cursor: pointer;\n",
              "      display: none;\n",
              "      fill: #1967D2;\n",
              "      height: 32px;\n",
              "      padding: 0 0 0 0;\n",
              "      width: 32px;\n",
              "    }\n",
              "\n",
              "    .colab-df-convert:hover {\n",
              "      background-color: #E2EBFA;\n",
              "      box-shadow: 0px 1px 2px rgba(60, 64, 67, 0.3), 0px 1px 3px 1px rgba(60, 64, 67, 0.15);\n",
              "      fill: #174EA6;\n",
              "    }\n",
              "\n",
              "    [theme=dark] .colab-df-convert {\n",
              "      background-color: #3B4455;\n",
              "      fill: #D2E3FC;\n",
              "    }\n",
              "\n",
              "    [theme=dark] .colab-df-convert:hover {\n",
              "      background-color: #434B5C;\n",
              "      box-shadow: 0px 1px 3px 1px rgba(0, 0, 0, 0.15);\n",
              "      filter: drop-shadow(0px 1px 2px rgba(0, 0, 0, 0.3));\n",
              "      fill: #FFFFFF;\n",
              "    }\n",
              "  </style>\n",
              "\n",
              "      <script>\n",
              "        const buttonEl =\n",
              "          document.querySelector('#df-713b88e3-3310-419a-a68a-2eddf44587e0 button.colab-df-convert');\n",
              "        buttonEl.style.display =\n",
              "          google.colab.kernel.accessAllowed ? 'block' : 'none';\n",
              "\n",
              "        async function convertToInteractive(key) {\n",
              "          const element = document.querySelector('#df-713b88e3-3310-419a-a68a-2eddf44587e0');\n",
              "          const dataTable =\n",
              "            await google.colab.kernel.invokeFunction('convertToInteractive',\n",
              "                                                     [key], {});\n",
              "          if (!dataTable) return;\n",
              "\n",
              "          const docLinkHtml = 'Like what you see? Visit the ' +\n",
              "            '<a target=\"_blank\" href=https://colab.research.google.com/notebooks/data_table.ipynb>data table notebook</a>'\n",
              "            + ' to learn more about interactive tables.';\n",
              "          element.innerHTML = '';\n",
              "          dataTable['output_type'] = 'display_data';\n",
              "          await google.colab.output.renderOutput(dataTable, element);\n",
              "          const docLink = document.createElement('div');\n",
              "          docLink.innerHTML = docLinkHtml;\n",
              "          element.appendChild(docLink);\n",
              "        }\n",
              "      </script>\n",
              "    </div>\n",
              "  </div>\n"
            ]
          },
          "metadata": {},
          "execution_count": 28
        }
      ]
    },
    {
      "cell_type": "markdown",
      "source": [
        "# **SEARCH**"
      ],
      "metadata": {
        "id": "kERkHCUsSf4O"
      }
    },
    {
      "cell_type": "code",
      "source": [
        "# lets try pandas_profiling\n",
        "\n",
        "# !pip install ydata-profiling"
      ],
      "metadata": {
        "id": "o908R9gSnk_l"
      },
      "execution_count": 29,
      "outputs": []
    },
    {
      "cell_type": "code",
      "source": [
        "!python3 -m PIL | grep -i type"
      ],
      "metadata": {
        "colab": {
          "base_uri": "https://localhost:8080/"
        },
        "id": "xb0A9z9RJnhU",
        "outputId": "59aa7737-9316-4985-93ab-e0e5c18beaef"
      },
      "execution_count": 30,
      "outputs": [
        {
          "output_type": "stream",
          "name": "stdout",
          "text": [
            "--- FREETYPE2 support ok, loaded 2.11.0\n"
          ]
        }
      ]
    },
    {
      "cell_type": "code",
      "source": [
        "#!pip install --upgrade Pillow"
      ],
      "metadata": {
        "colab": {
          "base_uri": "https://localhost:8080/",
          "height": 289
        },
        "id": "2G8iEO_WOCmz",
        "outputId": "426eab50-5ac0-4686-b8ed-574165ded27d"
      },
      "execution_count": 31,
      "outputs": [
        {
          "output_type": "stream",
          "name": "stdout",
          "text": [
            "Requirement already satisfied: Pillow in /usr/local/lib/python3.10/dist-packages (8.4.0)\n",
            "Collecting Pillow\n",
            "  Downloading Pillow-10.0.0-cp310-cp310-manylinux_2_28_x86_64.whl (3.4 MB)\n",
            "\u001b[2K     \u001b[90m━━━━━━━━━━━━━━━━━━━━━━━━━━━━━━━━━━━━━━━━\u001b[0m \u001b[32m3.4/3.4 MB\u001b[0m \u001b[31m34.3 MB/s\u001b[0m eta \u001b[36m0:00:00\u001b[0m\n",
            "\u001b[?25hInstalling collected packages: Pillow\n",
            "  Attempting uninstall: Pillow\n",
            "    Found existing installation: Pillow 8.4.0\n",
            "    Uninstalling Pillow-8.4.0:\n",
            "      Successfully uninstalled Pillow-8.4.0\n",
            "Successfully installed Pillow-10.0.0\n"
          ]
        },
        {
          "output_type": "display_data",
          "data": {
            "application/vnd.colab-display-data+json": {
              "pip_warning": {
                "packages": [
                  "PIL"
                ]
              }
            }
          },
          "metadata": {}
        }
      ]
    },
    {
      "cell_type": "code",
      "source": [
        "#!pip install --upgrade pip"
      ],
      "metadata": {
        "colab": {
          "base_uri": "https://localhost:8080/"
        },
        "id": "aRcZ-TGtN-yg",
        "outputId": "3570a2cb-3562-4230-f3a7-16909a9e7884"
      },
      "execution_count": 32,
      "outputs": [
        {
          "output_type": "stream",
          "name": "stdout",
          "text": [
            "Requirement already satisfied: pip in /usr/local/lib/python3.10/dist-packages (23.1.2)\n"
          ]
        }
      ]
    },
    {
      "cell_type": "code",
      "source": [
        "# from ydata_profiling import ProfileReport\n",
        "\n",
        "# profile = ProfileReport(df_train, title=\"Profiling Report\")"
      ],
      "metadata": {
        "id": "Jq8-MvBDpRiC"
      },
      "execution_count": 33,
      "outputs": []
    },
    {
      "cell_type": "code",
      "source": [
        "# a lot of mistakes\n",
        "# profile"
      ],
      "metadata": {
        "id": "EIjNQDy4vtDi"
      },
      "execution_count": 34,
      "outputs": []
    },
    {
      "cell_type": "markdown",
      "source": [
        "# **Модельная часть**"
      ],
      "metadata": {
        "id": "ehw4On17nZOu"
      }
    },
    {
      "cell_type": "code",
      "source": [
        "from sklearn.metrics import confusion_matrix, classification_report, balanced_accuracy_score as bas, accuracy_score\n",
        "from sklearn.metrics import roc_curve, auc\n",
        "from sklearn.metrics import roc_auc_score\n",
        "from matplotlib import pyplot as plt\n",
        "\n",
        "def evaluate_metrics(model, X, y):\n",
        "\n",
        "  print(\"!\")\n",
        "  preds = model.predict(X)\n",
        "  prob_preds = model.predict_proba(X)\n",
        "\n",
        "  # conf mat and balanced acc\n",
        "\n",
        "  print(\"Сбалансированная точность\", bas(y, preds))\n",
        "  print(\"Матрица неточностей \\n\", confusion_matrix(y, preds))\n",
        "\n",
        "  # base metrica\n",
        "  # threshold\n",
        "\n",
        "  preds1 = preds\n",
        "  preds0 = 1 - preds1\n",
        "  N0 = preds0.sum()\n",
        "  N1 = preds1.sum()\n",
        "\n",
        "  ll = balanced_log_loss(y1 = preds1, y0 = preds0 , p1 = prob_preds[:, 1], p0 = prob_preds[:, 0], N0=N0, N1=N1)\n",
        "  print(\"Сбалансированный LogLoss\", ll)\n",
        "\n",
        "  # all in all\n",
        "\n",
        "  print(classification_report(y, preds))\n",
        "\n",
        "  # AUC ROC\n",
        "\n",
        "  lr_probs = prob_preds[:, 1]\n",
        "  # рассчитываем ROC AUC\n",
        "  lr_auc = roc_auc_score(y, lr_probs)\n",
        "  print('ROC AUC=%.3f' % (lr_auc))\n",
        "\n",
        "  \"\"\"\n",
        "  # рассчитываем roc-кривую\n",
        "  fpr, tpr, treshold = roc_curve(y_test, lr_probs)\n",
        "  roc_auc = auc(fpr, tpr)\n",
        "  # строим график\n",
        "  plt.plot(fpr, tpr, color='darkorange',\n",
        "           label='ROC кривая (area = %0.2f)' % roc_auc)\n",
        "  plt.plot([0, 1], [0, 1], color='navy', linestyle='--')\n",
        "  plt.xlim([0.0, 1.0])\n",
        "  plt.ylim([0.0, 1.05])\n",
        "  plt.xlabel('False Positive Rate')\n",
        "  plt.ylabel('True Positive Rate')\n",
        "  plt.title('Пример ROC-кривой')\n",
        "  plt.legend(loc=\"lower right\")\n",
        "  plt.show()\n",
        "  \"\"\"\n",
        "\n",
        "  return ll"
      ],
      "metadata": {
        "id": "aY6DYQew2RWh"
      },
      "execution_count": 35,
      "outputs": []
    },
    {
      "cell_type": "markdown",
      "source": [
        "# **fight with disbalance**"
      ],
      "metadata": {
        "id": "9P3XCXFC9sWj"
      }
    },
    {
      "cell_type": "code",
      "source": [
        "from imblearn.combine import SMOTETomek\n",
        "\n",
        "smt = SMOTETomek(sampling_strategy=\"not majority\" , random_state=42)\n",
        "X_res, y_res = smt.fit_resample(imp_ds_train, y)\n"
      ],
      "metadata": {
        "id": "yuthATP79rW4"
      },
      "execution_count": 37,
      "outputs": []
    },
    {
      "cell_type": "code",
      "source": [
        "s = y_res.value_counts()\n",
        "all = y_res.value_counts().sum()\n",
        "print(s)\n",
        "print(s[0]/all, s[1]/all)"
      ],
      "metadata": {
        "colab": {
          "base_uri": "https://localhost:8080/"
        },
        "id": "_zGiQtz3T7Iu",
        "outputId": "f4b685cb-7e57-4fc4-c383-15d8ef605750"
      },
      "execution_count": 38,
      "outputs": [
        {
          "output_type": "stream",
          "name": "stdout",
          "text": [
            "1    488\n",
            "0    488\n",
            "Name: Class, dtype: int64\n",
            "0.5 0.5\n"
          ]
        }
      ]
    },
    {
      "cell_type": "code",
      "source": [
        "from sklearn.model_selection import train_test_split\n",
        "\n",
        "x_train, x_test, y_train, y_test = train_test_split(X_res, y_res, random_state=1, stratify=y_res, test_size=0.15)"
      ],
      "metadata": {
        "id": "F3GOITLXXjeb"
      },
      "execution_count": 39,
      "outputs": []
    },
    {
      "cell_type": "code",
      "source": [
        "# Как распределены классы\n",
        "\n",
        "s = y.value_counts()\n",
        "all = y.value_counts().sum()\n",
        "print(s)\n",
        "print(s[0]/all, s[1]/all)\n",
        "\n",
        "# зверский дисбаланс\n",
        "#  делаем чтонибуть с этим\n",
        "\n",
        "from sklearn.utils.class_weight import compute_class_weight\n",
        "\n",
        "class_weights = compute_class_weight(class_weight='balanced', classes=np.unique(y), y=y)\n",
        "print(class_weights)\n",
        "class_weight = {0: class_weights[0], 1: class_weights[1]}\n",
        "\n",
        "reset_x_train = x_train.reset_index()\n",
        "reset_y_train = y_train.reset_index().drop([\"index\"], axis=1)\n",
        "X = imp_ds_train"
      ],
      "metadata": {
        "colab": {
          "base_uri": "https://localhost:8080/"
        },
        "id": "XqPS3rpO1E9e",
        "outputId": "11a7ef14-c08d-4c85-b681-72163ae23101"
      },
      "execution_count": 40,
      "outputs": [
        {
          "output_type": "stream",
          "name": "stdout",
          "text": [
            "0    509\n",
            "1    108\n",
            "Name: Class, dtype: int64\n",
            "0.8249594813614263 0.17504051863857376\n",
            "[0.60609037 2.85648148]\n"
          ]
        }
      ]
    },
    {
      "cell_type": "markdown",
      "source": [
        "# **Optuna**"
      ],
      "metadata": {
        "id": "jsawRBcvWGc-"
      }
    },
    {
      "cell_type": "code",
      "source": [
        "from sklearn.svm import SVC\n",
        "from statistics import mean\n",
        "import optuna as o\n",
        "from sklearn.model_selection import cross_val_score, StratifiedKFold\n",
        "from sklearn.feature_selection import RFECV\n",
        "\n",
        "# 1. Define an objective function to be maximized.\n",
        "def objective_svc(trial):\n",
        "\n",
        "    reg_C_param = trial.suggest_float(\"C\", 0.00001, 2.0, log=True)\n",
        "    kernel_type_param = trial.suggest_categorical('kernel', ['poly', 'rbf', 'sigmoid'])\n",
        "\n",
        "    svc = SVC(C=reg_C_param,\n",
        "              kernel=kernel_type_param,\n",
        "              gamma='scale',\n",
        "              probability=True,\n",
        "              tol=0.001,\n",
        "              class_weight=class_weight,\n",
        "              random_state=1)\n",
        "\n",
        "    scores = cross_val_score(svc, reset_x_train, y=reset_y_train, scoring=evaluate_metrics, cv=5, n_jobs=-1)\n",
        "\n",
        "    print(scores)\n",
        "    return mean(scores)\n",
        "\n",
        "# 3. Create a study object and optimize the objective function.\n",
        "study = o.create_study(direction='minimize')\n",
        "study.optimize(objective_svc, n_trials=50)\n",
        "\n",
        "#get best parameters\n",
        "print(\"\\n\\nBEST PARAMETERS : \\n\", study.best_params)\n",
        "\n",
        "print(\"\\n\\nBEST VALUES : \\n\", study.best_value)\n",
        "\n",
        "print(\"\\n\\nBEST TRIAL : \\n\", study.best_trial)\n",
        "\n",
        "#  0.5398932209183075 with optuna + class_weight"
      ],
      "metadata": {
        "colab": {
          "base_uri": "https://localhost:8080/"
        },
        "id": "FMJjHquuUMZv",
        "outputId": "412bb52b-7dd2-4fd9-cb47-cd418cdbda4b"
      },
      "execution_count": 41,
      "outputs": [
        {
          "output_type": "stream",
          "name": "stderr",
          "text": [
            "[I 2023-07-13 10:38:09,464] A new study created in memory with name: no-name-7431cb44-a048-47e8-a7cd-8ef1af51bdb7\n",
            "[I 2023-07-13 10:38:14,122] Trial 0 finished with value: 0.4163713106797232 and parameters: {'C': 4.522896888093156e-05, 'kernel': 'rbf'}. Best is trial 0 with value: 0.4163713106797232.\n"
          ]
        },
        {
          "output_type": "stream",
          "name": "stdout",
          "text": [
            "[0.43799732 0.39924155 0.41606169 0.3941456  0.4344104 ]\n"
          ]
        },
        {
          "output_type": "stream",
          "name": "stderr",
          "text": [
            "[I 2023-07-13 10:38:15,233] Trial 1 finished with value: 0.3841921938859549 and parameters: {'C': 0.0022431927780220506, 'kernel': 'poly'}. Best is trial 1 with value: 0.3841921938859549.\n"
          ]
        },
        {
          "output_type": "stream",
          "name": "stdout",
          "text": [
            "[0.35203805 0.33607807 0.36814501 0.34134972 0.52335012]\n"
          ]
        },
        {
          "output_type": "stream",
          "name": "stderr",
          "text": [
            "[I 2023-07-13 10:38:17,881] Trial 2 finished with value: 0.7149758065768188 and parameters: {'C': 0.6864113437880722, 'kernel': 'sigmoid'}. Best is trial 1 with value: 0.3841921938859549.\n"
          ]
        },
        {
          "output_type": "stream",
          "name": "stdout",
          "text": [
            "[0.82356401 0.82887605 0.63762772 0.7818737  0.50293755]\n"
          ]
        },
        {
          "output_type": "stream",
          "name": "stderr",
          "text": [
            "[I 2023-07-13 10:38:21,166] Trial 3 finished with value: 0.34687826877176176 and parameters: {'C': 1.6362465218569865e-05, 'kernel': 'sigmoid'}. Best is trial 3 with value: 0.34687826877176176.\n"
          ]
        },
        {
          "output_type": "stream",
          "name": "stdout",
          "text": [
            "[0.33504176 0.33794395 0.34816708 0.33945725 0.3737813 ]\n"
          ]
        },
        {
          "output_type": "stream",
          "name": "stderr",
          "text": [
            "[I 2023-07-13 10:38:22,629] Trial 4 finished with value: 0.3781689602418873 and parameters: {'C': 0.0012167659439770637, 'kernel': 'poly'}. Best is trial 3 with value: 0.34687826877176176.\n"
          ]
        },
        {
          "output_type": "stream",
          "name": "stdout",
          "text": [
            "[0.35708515 0.34685345 0.35900986 0.34991436 0.47798198]\n"
          ]
        },
        {
          "output_type": "stream",
          "name": "stderr",
          "text": [
            "[I 2023-07-13 10:38:23,579] Trial 5 finished with value: 0.38792643483775746 and parameters: {'C': 0.00018380992408770246, 'kernel': 'poly'}. Best is trial 3 with value: 0.34687826877176176.\n"
          ]
        },
        {
          "output_type": "stream",
          "name": "stdout",
          "text": [
            "[0.38265404 0.35704759 0.37908758 0.35556539 0.46527757]\n"
          ]
        },
        {
          "output_type": "stream",
          "name": "stderr",
          "text": [
            "[I 2023-07-13 10:38:25,068] Trial 6 finished with value: 0.3524988668493068 and parameters: {'C': 0.012842004028643838, 'kernel': 'sigmoid'}. Best is trial 3 with value: 0.34687826877176176.\n"
          ]
        },
        {
          "output_type": "stream",
          "name": "stdout",
          "text": [
            "[0.37188371 0.37185615 0.34657359 0.35366952 0.31851136]\n"
          ]
        },
        {
          "output_type": "stream",
          "name": "stderr",
          "text": [
            "[I 2023-07-13 10:38:25,777] Trial 7 finished with value: 0.3789457677231284 and parameters: {'C': 0.0003653707722062649, 'kernel': 'poly'}. Best is trial 3 with value: 0.34687826877176176.\n"
          ]
        },
        {
          "output_type": "stream",
          "name": "stdout",
          "text": [
            "[0.37849905 0.35569723 0.35637464 0.35527233 0.44888559]\n"
          ]
        },
        {
          "output_type": "stream",
          "name": "stderr",
          "text": [
            "[I 2023-07-13 10:38:26,659] Trial 8 finished with value: 0.7170791978033884 and parameters: {'C': 0.11044249859268959, 'kernel': 'sigmoid'}. Best is trial 3 with value: 0.34687826877176176.\n"
          ]
        },
        {
          "output_type": "stream",
          "name": "stdout",
          "text": [
            "[0.86668045 0.87724353 0.34657359 0.81542293 0.67947549]\n"
          ]
        },
        {
          "output_type": "stream",
          "name": "stderr",
          "text": [
            "[I 2023-07-13 10:38:27,578] Trial 9 finished with value: 0.3540464817982826 and parameters: {'C': 0.025490397481538, 'kernel': 'sigmoid'}. Best is trial 3 with value: 0.34687826877176176.\n"
          ]
        },
        {
          "output_type": "stream",
          "name": "stdout",
          "text": [
            "[0.3716153  0.37164729 0.34657359 0.35358752 0.32680872]\n"
          ]
        },
        {
          "output_type": "stream",
          "name": "stderr",
          "text": [
            "[I 2023-07-13 10:38:28,373] Trial 10 finished with value: 0.4166794473072801 and parameters: {'C': 1.239716089855251e-05, 'kernel': 'rbf'}. Best is trial 3 with value: 0.34687826877176176.\n"
          ]
        },
        {
          "output_type": "stream",
          "name": "stdout",
          "text": [
            "[0.42953559 0.40442191 0.41606169 0.39896764 0.4344104 ]\n"
          ]
        },
        {
          "output_type": "stream",
          "name": "stderr",
          "text": [
            "[I 2023-07-13 10:38:29,258] Trial 11 finished with value: 0.3525959530173294 and parameters: {'C': 0.007987071238699383, 'kernel': 'sigmoid'}. Best is trial 3 with value: 0.34687826877176176.\n"
          ]
        },
        {
          "output_type": "stream",
          "name": "stdout",
          "text": [
            "[0.37317584 0.37242527 0.34657359 0.35350831 0.31729675]\n"
          ]
        },
        {
          "output_type": "stream",
          "name": "stderr",
          "text": [
            "[I 2023-07-13 10:38:30,097] Trial 12 finished with value: 0.35250123648870674 and parameters: {'C': 0.012951862087660197, 'kernel': 'sigmoid'}. Best is trial 3 with value: 0.34687826877176176.\n"
          ]
        },
        {
          "output_type": "stream",
          "name": "stdout",
          "text": [
            "[0.37188371 0.371868   0.34657359 0.35366952 0.31851136]\n"
          ]
        },
        {
          "output_type": "stream",
          "name": "stderr",
          "text": [
            "[I 2023-07-13 10:38:30,914] Trial 13 finished with value: 0.3459691245831571 and parameters: {'C': 0.00010652983670838305, 'kernel': 'sigmoid'}. Best is trial 13 with value: 0.3459691245831571.\n"
          ]
        },
        {
          "output_type": "stream",
          "name": "stdout",
          "text": [
            "[0.34619182 0.34459673 0.34362233 0.3433948  0.35203994]\n"
          ]
        },
        {
          "output_type": "stream",
          "name": "stderr",
          "text": [
            "[I 2023-07-13 10:38:31,713] Trial 14 finished with value: 0.34741431240423626 and parameters: {'C': 2.1811182901422833e-05, 'kernel': 'sigmoid'}. Best is trial 13 with value: 0.3459691245831571.\n"
          ]
        },
        {
          "output_type": "stream",
          "name": "stdout",
          "text": [
            "[0.33505615 0.3387052  0.34818294 0.33894023 0.37618703]\n"
          ]
        },
        {
          "output_type": "stream",
          "name": "stderr",
          "text": [
            "[I 2023-07-13 10:38:32,782] Trial 15 finished with value: 0.3458004259276005 and parameters: {'C': 0.0001118311707898453, 'kernel': 'sigmoid'}. Best is trial 15 with value: 0.3458004259276005.\n"
          ]
        },
        {
          "output_type": "stream",
          "name": "stdout",
          "text": [
            "[0.34619182 0.34525631 0.34362233 0.34189172 0.35203994]\n"
          ]
        },
        {
          "output_type": "stream",
          "name": "stderr",
          "text": [
            "[I 2023-07-13 10:38:34,042] Trial 16 finished with value: 0.41674525701850573 and parameters: {'C': 9.527098925279283e-05, 'kernel': 'rbf'}. Best is trial 15 with value: 0.3458004259276005.\n"
          ]
        },
        {
          "output_type": "stream",
          "name": "stdout",
          "text": [
            "[0.43799732 0.39924155 0.41606169 0.39588038 0.43454535]\n"
          ]
        },
        {
          "output_type": "stream",
          "name": "stderr",
          "text": [
            "[I 2023-07-13 10:38:35,409] Trial 17 finished with value: 0.3424851363774707 and parameters: {'C': 0.0006279523727215832, 'kernel': 'sigmoid'}. Best is trial 17 with value: 0.3424851363774707.\n"
          ]
        },
        {
          "output_type": "stream",
          "name": "stdout",
          "text": [
            "[0.36273966 0.36619601 0.33617792 0.35450004 0.29281206]\n"
          ]
        },
        {
          "output_type": "stream",
          "name": "stderr",
          "text": [
            "[I 2023-07-13 10:38:36,799] Trial 18 finished with value: 0.34387918874784035 and parameters: {'C': 0.0007654985805435667, 'kernel': 'sigmoid'}. Best is trial 17 with value: 0.3424851363774707.\n"
          ]
        },
        {
          "output_type": "stream",
          "name": "stdout",
          "text": [
            "[0.36229803 0.36600473 0.33498037 0.35349828 0.30261454]\n"
          ]
        },
        {
          "output_type": "stream",
          "name": "stderr",
          "text": [
            "[I 2023-07-13 10:38:38,020] Trial 19 finished with value: 0.3693611761387153 and parameters: {'C': 0.0007654908738236314, 'kernel': 'rbf'}. Best is trial 17 with value: 0.3424851363774707.\n"
          ]
        },
        {
          "output_type": "stream",
          "name": "stdout",
          "text": [
            "[0.37066369 0.36142079 0.36535349 0.35855885 0.39080906]\n"
          ]
        },
        {
          "output_type": "stream",
          "name": "stderr",
          "text": [
            "[I 2023-07-13 10:38:38,861] Trial 20 finished with value: 0.34513394062100083 and parameters: {'C': 0.002393186787358482, 'kernel': 'sigmoid'}. Best is trial 17 with value: 0.3424851363774707.\n"
          ]
        },
        {
          "output_type": "stream",
          "name": "stdout",
          "text": [
            "[0.36678247 0.37155873 0.34657359 0.35372865 0.28702626]\n"
          ]
        },
        {
          "output_type": "stream",
          "name": "stderr",
          "text": [
            "[I 2023-07-13 10:38:39,708] Trial 21 finished with value: 0.3462966700257158 and parameters: {'C': 0.0026042548164221507, 'kernel': 'sigmoid'}. Best is trial 17 with value: 0.3424851363774707.\n"
          ]
        },
        {
          "output_type": "stream",
          "name": "stdout",
          "text": [
            "[0.36687827 0.3718706  0.34657359 0.35442328 0.29173762]\n"
          ]
        },
        {
          "output_type": "stream",
          "name": "stderr",
          "text": [
            "[I 2023-07-13 10:38:40,532] Trial 22 finished with value: 0.34307929141384824 and parameters: {'C': 0.0005451038602436386, 'kernel': 'sigmoid'}. Best is trial 17 with value: 0.3424851363774707.\n"
          ]
        },
        {
          "output_type": "stream",
          "name": "stdout",
          "text": [
            "[0.35904885 0.36321968 0.3369437  0.35450004 0.30168419]\n"
          ]
        },
        {
          "output_type": "stream",
          "name": "stderr",
          "text": [
            "[I 2023-07-13 10:38:41,356] Trial 23 finished with value: 0.34599133033492074 and parameters: {'C': 0.00041788115442067193, 'kernel': 'sigmoid'}. Best is trial 17 with value: 0.3424851363774707.\n"
          ]
        },
        {
          "output_type": "stream",
          "name": "stdout",
          "text": [
            "[0.3590894  0.35644635 0.33435911 0.35654652 0.32351526]\n"
          ]
        },
        {
          "output_type": "stream",
          "name": "stderr",
          "text": [
            "[I 2023-07-13 10:38:42,202] Trial 24 finished with value: 0.3424227482287687 and parameters: {'C': 0.0006440635287200875, 'kernel': 'sigmoid'}. Best is trial 24 with value: 0.3424227482287687.\n"
          ]
        },
        {
          "output_type": "stream",
          "name": "stdout",
          "text": [
            "[0.36317504 0.36619601 0.33617792 0.35375272 0.29281206]\n"
          ]
        },
        {
          "output_type": "stream",
          "name": "stderr",
          "text": [
            "[I 2023-07-13 10:38:43,019] Trial 25 finished with value: 0.349830160066991 and parameters: {'C': 0.00023210857817534174, 'kernel': 'sigmoid'}. Best is trial 24 with value: 0.3424227482287687.\n"
          ]
        },
        {
          "output_type": "stream",
          "name": "stdout",
          "text": [
            "[0.35535057 0.35713822 0.33857852 0.36142181 0.33666169]\n"
          ]
        },
        {
          "output_type": "stream",
          "name": "stderr",
          "text": [
            "[I 2023-07-13 10:38:43,855] Trial 26 finished with value: 0.3429998005417633 and parameters: {'C': 0.0005683942077912881, 'kernel': 'sigmoid'}. Best is trial 24 with value: 0.3424227482287687.\n"
          ]
        },
        {
          "output_type": "stream",
          "name": "stdout",
          "text": [
            "[0.35904885 0.36282222 0.3369437  0.35450004 0.30168419]\n"
          ]
        },
        {
          "output_type": "stream",
          "name": "stderr",
          "text": [
            "[I 2023-07-13 10:38:44,675] Trial 27 finished with value: 0.3526334330096304 and parameters: {'C': 0.004399564002257323, 'kernel': 'sigmoid'}. Best is trial 24 with value: 0.3424227482287687.\n"
          ]
        },
        {
          "output_type": "stream",
          "name": "stdout",
          "text": [
            "[0.37411349 0.37230899 0.34657359 0.35311161 0.31705948]\n"
          ]
        },
        {
          "output_type": "stream",
          "name": "stderr",
          "text": [
            "[I 2023-07-13 10:38:45,302] Trial 28 finished with value: 0.37802261946948973 and parameters: {'C': 0.0012347045477393544, 'kernel': 'poly'}. Best is trial 24 with value: 0.3424227482287687.\n"
          ]
        },
        {
          "output_type": "stream",
          "name": "stdout",
          "text": [
            "[0.35767812 0.34541191 0.35913681 0.34948113 0.47840513]\n"
          ]
        },
        {
          "output_type": "stream",
          "name": "stderr",
          "text": [
            "[I 2023-07-13 10:38:46,091] Trial 29 finished with value: 0.416371310632932 and parameters: {'C': 4.4781529499906666e-05, 'kernel': 'rbf'}. Best is trial 24 with value: 0.3424227482287687.\n"
          ]
        },
        {
          "output_type": "stream",
          "name": "stdout",
          "text": [
            "[0.43799732 0.39924155 0.41606169 0.3941456  0.4344104 ]\n"
          ]
        },
        {
          "output_type": "stream",
          "name": "stderr",
          "text": [
            "[I 2023-07-13 10:38:46,842] Trial 30 finished with value: 0.3751197225385781 and parameters: {'C': 0.00031361182652379037, 'kernel': 'rbf'}. Best is trial 24 with value: 0.3424227482287687.\n"
          ]
        },
        {
          "output_type": "stream",
          "name": "stdout",
          "text": [
            "[0.39195991 0.37696138 0.37465793 0.36340062 0.36861878]\n"
          ]
        },
        {
          "output_type": "stream",
          "name": "stderr",
          "text": [
            "[I 2023-07-13 10:38:47,671] Trial 31 finished with value: 0.3419669993548464 and parameters: {'C': 0.0006611228349996661, 'kernel': 'sigmoid'}. Best is trial 31 with value: 0.3419669993548464.\n"
          ]
        },
        {
          "output_type": "stream",
          "name": "stdout",
          "text": [
            "[0.36238778 0.36532234 0.3355601  0.35375272 0.29281206]\n"
          ]
        },
        {
          "output_type": "stream",
          "name": "stderr",
          "text": [
            "[I 2023-07-13 10:38:48,834] Trial 32 finished with value: 0.344310999228781 and parameters: {'C': 0.0012916415257463636, 'kernel': 'sigmoid'}. Best is trial 31 with value: 0.3419669993548464.\n"
          ]
        },
        {
          "output_type": "stream",
          "name": "stdout",
          "text": [
            "[0.3624205  0.37285912 0.33505019 0.35374665 0.29747854]\n"
          ]
        },
        {
          "output_type": "stream",
          "name": "stderr",
          "text": [
            "[I 2023-07-13 10:38:50,182] Trial 33 finished with value: 0.34262324823112184 and parameters: {'C': 0.0006241829362292622, 'kernel': 'sigmoid'}. Best is trial 31 with value: 0.3419669993548464.\n"
          ]
        },
        {
          "output_type": "stream",
          "name": "stdout",
          "text": [
            "[0.36273966 0.36619601 0.33686848 0.35450004 0.29281206]\n"
          ]
        },
        {
          "output_type": "stream",
          "name": "stderr",
          "text": [
            "[I 2023-07-13 10:38:51,512] Trial 34 finished with value: 0.3502426963111101 and parameters: {'C': 0.00023392136904672886, 'kernel': 'sigmoid'}. Best is trial 31 with value: 0.3419669993548464.\n"
          ]
        },
        {
          "output_type": "stream",
          "name": "stdout",
          "text": [
            "[0.35711532 0.35713822 0.33857852 0.36171974 0.33666169]\n"
          ]
        },
        {
          "output_type": "stream",
          "name": "stderr",
          "text": [
            "[I 2023-07-13 10:38:52,940] Trial 35 finished with value: 0.34445300089234265 and parameters: {'C': 0.00107197753224845, 'kernel': 'sigmoid'}. Best is trial 31 with value: 0.3419669993548464.\n"
          ]
        },
        {
          "output_type": "stream",
          "name": "stdout",
          "text": [
            "[0.36275119 0.37203944 0.33696116 0.35405368 0.29645953]\n"
          ]
        },
        {
          "output_type": "stream",
          "name": "stderr",
          "text": [
            "[I 2023-07-13 10:38:53,869] Trial 36 finished with value: 0.38344944354139293 and parameters: {'C': 0.0018242755398741365, 'kernel': 'poly'}. Best is trial 31 with value: 0.3419669993548464.\n"
          ]
        },
        {
          "output_type": "stream",
          "name": "stdout",
          "text": [
            "[0.3563938  0.33821915 0.36046848 0.34312856 0.51903723]\n"
          ]
        },
        {
          "output_type": "stream",
          "name": "stderr",
          "text": [
            "[I 2023-07-13 10:38:54,734] Trial 37 finished with value: 0.3460142654360349 and parameters: {'C': 0.0029861176309366874, 'kernel': 'sigmoid'}. Best is trial 31 with value: 0.3419669993548464.\n"
          ]
        },
        {
          "output_type": "stream",
          "name": "stdout",
          "text": [
            "[0.36630416 0.37155055 0.34657359 0.35401585 0.29162719]\n"
          ]
        },
        {
          "output_type": "stream",
          "name": "stderr",
          "text": [
            "[I 2023-07-13 10:38:55,373] Trial 38 finished with value: 0.3762801215729946 and parameters: {'C': 0.0005774885312409707, 'kernel': 'poly'}. Best is trial 31 with value: 0.3419669993548464.\n"
          ]
        },
        {
          "output_type": "stream",
          "name": "stdout",
          "text": [
            "[0.35449775 0.34485475 0.36820649 0.35109689 0.46274473]\n"
          ]
        },
        {
          "output_type": "stream",
          "name": "stderr",
          "text": [
            "[I 2023-07-13 10:38:56,224] Trial 39 finished with value: 0.34980191205242267 and parameters: {'C': 0.00017027755801128693, 'kernel': 'sigmoid'}. Best is trial 31 with value: 0.3419669993548464.\n"
          ]
        },
        {
          "output_type": "stream",
          "name": "stdout",
          "text": [
            "[0.34980969 0.36034723 0.34213507 0.35065584 0.34606173]\n"
          ]
        },
        {
          "output_type": "stream",
          "name": "stderr",
          "text": [
            "[I 2023-07-13 10:38:57,053] Trial 40 finished with value: 0.3465896580912169 and parameters: {'C': 0.0003351307780624116, 'kernel': 'sigmoid'}. Best is trial 31 with value: 0.3419669993548464.\n"
          ]
        },
        {
          "output_type": "stream",
          "name": "stdout",
          "text": [
            "[0.35764632 0.3546093  0.33732255 0.3634204  0.31994972]\n"
          ]
        },
        {
          "output_type": "stream",
          "name": "stderr",
          "text": [
            "[I 2023-07-13 10:38:57,930] Trial 41 finished with value: 0.3446491694356714 and parameters: {'C': 0.0006015392601935466, 'kernel': 'sigmoid'}. Best is trial 31 with value: 0.3419669993548464.\n"
          ]
        },
        {
          "output_type": "stream",
          "name": "stdout",
          "text": [
            "[0.36273966 0.36382741 0.33709207 0.35450004 0.30508667]\n"
          ]
        },
        {
          "output_type": "stream",
          "name": "stderr",
          "text": [
            "[I 2023-07-13 10:38:58,751] Trial 42 finished with value: 0.34819632528758665 and parameters: {'C': 0.001534096653844603, 'kernel': 'sigmoid'}. Best is trial 31 with value: 0.3419669993548464.\n"
          ]
        },
        {
          "output_type": "stream",
          "name": "stdout",
          "text": [
            "[0.36425543 0.37397846 0.34650173 0.35543307 0.30081294]\n"
          ]
        },
        {
          "output_type": "stream",
          "name": "stderr",
          "text": [
            "[I 2023-07-13 10:38:59,551] Trial 43 finished with value: 0.34440877136235637 and parameters: {'C': 0.0008785298186378344, 'kernel': 'sigmoid'}. Best is trial 31 with value: 0.3419669993548464.\n"
          ]
        },
        {
          "output_type": "stream",
          "name": "stdout",
          "text": [
            "[0.36340796 0.36747668 0.33454968 0.35399501 0.30261454]\n"
          ]
        },
        {
          "output_type": "stream",
          "name": "stderr",
          "text": [
            "[I 2023-07-13 10:39:00,385] Trial 44 finished with value: 0.34225326967560493 and parameters: {'C': 0.00046487321140253174, 'kernel': 'sigmoid'}. Best is trial 31 with value: 0.3419669993548464.\n"
          ]
        },
        {
          "output_type": "stream",
          "name": "stdout",
          "text": [
            "[0.35835866 0.35738428 0.33472501 0.35568826 0.30511014]\n"
          ]
        },
        {
          "output_type": "stream",
          "name": "stderr",
          "text": [
            "[I 2023-07-13 10:39:01,198] Trial 45 finished with value: 0.35053924958789245 and parameters: {'C': 0.003976504863404937, 'kernel': 'sigmoid'}. Best is trial 31 with value: 0.3419669993548464.\n"
          ]
        },
        {
          "output_type": "stream",
          "name": "stdout",
          "text": [
            "[0.37440218 0.37180055 0.34657359 0.35417386 0.30574606]\n"
          ]
        },
        {
          "output_type": "stream",
          "name": "stderr",
          "text": [
            "[I 2023-07-13 10:39:01,790] Trial 46 finished with value: 0.3837745461083167 and parameters: {'C': 0.001973936880143628, 'kernel': 'poly'}. Best is trial 31 with value: 0.3419669993548464.\n"
          ]
        },
        {
          "output_type": "stream",
          "name": "stdout",
          "text": [
            "[0.35480295 0.3373919  0.36424341 0.34266713 0.51976734]\n"
          ]
        },
        {
          "output_type": "stream",
          "name": "stderr",
          "text": [
            "[I 2023-07-13 10:39:02,590] Trial 47 finished with value: 0.3488917440913207 and parameters: {'C': 0.00014939183653320552, 'kernel': 'sigmoid'}. Best is trial 31 with value: 0.3419669993548464.\n"
          ]
        },
        {
          "output_type": "stream",
          "name": "stdout",
          "text": [
            "[0.35363288 0.36103648 0.3411199  0.34985379 0.33881567]\n"
          ]
        },
        {
          "output_type": "stream",
          "name": "stderr",
          "text": [
            "[I 2023-07-13 10:39:03,430] Trial 48 finished with value: 0.34710792229421966 and parameters: {'C': 0.00035261421416949454, 'kernel': 'sigmoid'}. Best is trial 31 with value: 0.3419669993548464.\n"
          ]
        },
        {
          "output_type": "stream",
          "name": "stdout",
          "text": [
            "[0.36025834 0.35419438 0.33684095 0.36027466 0.32397128]\n"
          ]
        },
        {
          "output_type": "stream",
          "name": "stderr",
          "text": [
            "[I 2023-07-13 10:39:04,644] Trial 49 finished with value: 0.3467140236155672 and parameters: {'C': 7.181223543170507e-05, 'kernel': 'sigmoid'}. Best is trial 31 with value: 0.3419669993548464.\n"
          ]
        },
        {
          "output_type": "stream",
          "name": "stdout",
          "text": [
            "[0.33507484 0.33665278 0.34842827 0.34108225 0.37233199]\n",
            "\n",
            "\n",
            "BEST PARAMETERS : \n",
            " {'C': 0.0006611228349996661, 'kernel': 'sigmoid'}\n",
            "\n",
            "\n",
            "BEST VALUES : \n",
            " 0.3419669993548464\n",
            "\n",
            "\n",
            "BEST TRIAL : \n",
            " FrozenTrial(number=31, state=TrialState.COMPLETE, values=[0.3419669993548464], datetime_start=datetime.datetime(2023, 7, 13, 10, 38, 46, 843687), datetime_complete=datetime.datetime(2023, 7, 13, 10, 38, 47, 671281), params={'C': 0.0006611228349996661, 'kernel': 'sigmoid'}, user_attrs={}, system_attrs={}, intermediate_values={}, distributions={'C': FloatDistribution(high=2.0, log=True, low=1e-05, step=None), 'kernel': CategoricalDistribution(choices=('poly', 'rbf', 'sigmoid'))}, trial_id=31, value=None)\n"
          ]
        }
      ]
    },
    {
      "cell_type": "code",
      "source": [
        "# lets do some baseline model - linear model\n",
        "\n",
        "from sklearn.linear_model import LogisticRegression\n",
        "\n",
        "# Solver lbfgs supports only 'l2' or 'none' penalties, got l1 penalty.\n",
        "# elastic only for saga\n",
        "# Solver newton-cholesky supports only 'l2' or 'none' penalties, got l1 penalty.\n",
        "\n",
        "# 1. Define an objective function to be maximized.\n",
        "def objective_lr(trial):\n",
        "\n",
        "    C = trial.suggest_float(\"C\", 0.00001, 2.0, log=True)\n",
        "    solver = trial.suggest_categorical('solver', ['liblinear', \"lbfgs\", 'newton-cholesky'])\n",
        "\n",
        "    lr = LogisticRegression(penalty=\"l2\",\n",
        "                        C=C,\n",
        "                        n_jobs=-1,\n",
        "                        solver=solver,\n",
        "                        class_weight = class_weight\n",
        "                        )\n",
        "\n",
        "    scores = cross_val_score(lr, reset_x_train, y=reset_y_train, scoring=evaluate_metrics, cv=5, n_jobs=-1)\n",
        "\n",
        "    print(scores)\n",
        "    return mean(scores)\n",
        "\n",
        "# 3. Create a study object and optimize the objective function.\n",
        "study = o.create_study(direction='minimize')\n",
        "study.optimize(objective_lr, n_trials=50)\n",
        "\n",
        "#get best parameters\n",
        "print(\"\\n\\nBEST PARAMETERS : \\n\", study.best_params)\n",
        "\n",
        "print(\"\\n\\nBEST VALUES : \\n\", study.best_value)\n",
        "\n",
        "print(\"\\n\\nBEST TRIAL : \\n\", study.best_trial)\n",
        "\n",
        "# Сбалансированный LogLoss 0.28583871302404357 - без class_weight\n",
        "# Сбалансированный LogLoss 0.3558592211046744 - c class_weight\n",
        "# Сбалансированный LogLoss 0.28156789812722566 - c class_weight + optuna"
      ],
      "metadata": {
        "colab": {
          "base_uri": "https://localhost:8080/"
        },
        "id": "VQk4BSicxAwl",
        "outputId": "f0a4129e-f22b-4c71-d89f-bf3bc3a813e0"
      },
      "execution_count": 42,
      "outputs": [
        {
          "output_type": "stream",
          "name": "stderr",
          "text": [
            "[I 2023-07-13 10:39:04,682] A new study created in memory with name: no-name-69cab23e-a8ba-4e28-811d-052a3fc917d0\n",
            "[W 2023-07-13 10:39:05,150] Trial 0 failed with parameters: {'C': 0.00010402378029093247, 'solver': 'newton-cholesky'} because of the following error: The value nan is not acceptable..\n",
            "[W 2023-07-13 10:39:05,152] Trial 0 failed with value nan.\n"
          ]
        },
        {
          "output_type": "stream",
          "name": "stdout",
          "text": [
            "[0.16783331        nan 0.15652242 0.16075359 0.16532837]\n"
          ]
        },
        {
          "output_type": "stream",
          "name": "stderr",
          "text": [
            "[W 2023-07-13 10:39:05,633] Trial 1 failed with parameters: {'C': 1.2121195057966891e-05, 'solver': 'lbfgs'} because of the following error: The value nan is not acceptable..\n",
            "[W 2023-07-13 10:39:05,636] Trial 1 failed with value nan.\n"
          ]
        },
        {
          "output_type": "stream",
          "name": "stdout",
          "text": [
            "[       nan 0.19896656 0.19601471 0.19755391 0.19864044]\n"
          ]
        },
        {
          "output_type": "stream",
          "name": "stderr",
          "text": [
            "[W 2023-07-13 10:39:06,547] Trial 2 failed with parameters: {'C': 0.007065606591255725, 'solver': 'liblinear'} because of the following error: The value nan is not acceptable..\n",
            "[W 2023-07-13 10:39:06,550] Trial 2 failed with value nan.\n"
          ]
        },
        {
          "output_type": "stream",
          "name": "stdout",
          "text": [
            "[nan nan nan nan nan]\n"
          ]
        },
        {
          "output_type": "stream",
          "name": "stderr",
          "text": [
            "[W 2023-07-13 10:39:07,652] Trial 3 failed with parameters: {'C': 0.08079040142462063, 'solver': 'liblinear'} because of the following error: The value nan is not acceptable..\n",
            "[W 2023-07-13 10:39:07,654] Trial 3 failed with value nan.\n"
          ]
        },
        {
          "output_type": "stream",
          "name": "stdout",
          "text": [
            "[nan nan nan nan nan]\n"
          ]
        },
        {
          "output_type": "stream",
          "name": "stderr",
          "text": [
            "[W 2023-07-13 10:39:08,697] Trial 4 failed with parameters: {'C': 0.04661926304450059, 'solver': 'liblinear'} because of the following error: The value nan is not acceptable..\n",
            "[W 2023-07-13 10:39:08,703] Trial 4 failed with value nan.\n"
          ]
        },
        {
          "output_type": "stream",
          "name": "stdout",
          "text": [
            "[nan nan nan nan nan]\n"
          ]
        },
        {
          "output_type": "stream",
          "name": "stderr",
          "text": [
            "[W 2023-07-13 10:39:09,221] Trial 5 failed with parameters: {'C': 0.00015276266245108826, 'solver': 'liblinear'} because of the following error: The value nan is not acceptable..\n",
            "[W 2023-07-13 10:39:09,224] Trial 5 failed with value nan.\n"
          ]
        },
        {
          "output_type": "stream",
          "name": "stdout",
          "text": [
            "[0.16600379        nan 0.15052821 0.16368073 0.162052  ]\n"
          ]
        },
        {
          "output_type": "stream",
          "name": "stderr",
          "text": [
            "[W 2023-07-13 10:39:09,908] Trial 6 failed with parameters: {'C': 0.26877327467326445, 'solver': 'liblinear'} because of the following error: The value nan is not acceptable..\n",
            "[W 2023-07-13 10:39:09,910] Trial 6 failed with value nan.\n"
          ]
        },
        {
          "output_type": "stream",
          "name": "stdout",
          "text": [
            "[nan nan nan nan nan]\n"
          ]
        },
        {
          "output_type": "stream",
          "name": "stderr",
          "text": [
            "[W 2023-07-13 10:39:10,237] Trial 7 failed with parameters: {'C': 0.10739644946489708, 'solver': 'lbfgs'} because of the following error: The value nan is not acceptable..\n",
            "[W 2023-07-13 10:39:10,238] Trial 7 failed with value nan.\n"
          ]
        },
        {
          "output_type": "stream",
          "name": "stdout",
          "text": [
            "[       nan 0.17437458 0.17439178 0.18967172 0.18344895]\n"
          ]
        },
        {
          "output_type": "stream",
          "name": "stderr",
          "text": [
            "[W 2023-07-13 10:39:10,536] Trial 8 failed with parameters: {'C': 0.0006221450552095952, 'solver': 'lbfgs'} because of the following error: The value nan is not acceptable..\n",
            "[W 2023-07-13 10:39:10,538] Trial 8 failed with value nan.\n"
          ]
        },
        {
          "output_type": "stream",
          "name": "stdout",
          "text": [
            "[       nan 0.20779635 0.18244116 0.18816801 0.18246848]\n"
          ]
        },
        {
          "output_type": "stream",
          "name": "stderr",
          "text": [
            "[W 2023-07-13 10:39:10,770] Trial 9 failed with parameters: {'C': 0.011652260923768643, 'solver': 'newton-cholesky'} because of the following error: The value nan is not acceptable..\n",
            "[W 2023-07-13 10:39:10,773] Trial 9 failed with value nan.\n"
          ]
        },
        {
          "output_type": "stream",
          "name": "stdout",
          "text": [
            "[nan nan nan nan nan]\n"
          ]
        },
        {
          "output_type": "stream",
          "name": "stderr",
          "text": [
            "[I 2023-07-13 10:39:11,021] Trial 10 finished with value: 0.18053750451303174 and parameters: {'C': 2.3872685430737174e-05, 'solver': 'newton-cholesky'}. Best is trial 10 with value: 0.18053750451303174.\n"
          ]
        },
        {
          "output_type": "stream",
          "name": "stdout",
          "text": [
            "[0.18590202 0.18293551 0.17184471 0.17773508 0.18427021]\n"
          ]
        },
        {
          "output_type": "stream",
          "name": "stderr",
          "text": [
            "[I 2023-07-13 10:39:11,321] Trial 11 finished with value: 0.1889308611227488 and parameters: {'C': 9.406835758863762e-05, 'solver': 'lbfgs'}. Best is trial 10 with value: 0.18053750451303174.\n"
          ]
        },
        {
          "output_type": "stream",
          "name": "stdout",
          "text": [
            "[0.19576997 0.17987294 0.18843395 0.19095081 0.18962664]\n"
          ]
        },
        {
          "output_type": "stream",
          "name": "stderr",
          "text": [
            "[W 2023-07-13 10:39:11,549] Trial 12 failed with parameters: {'C': 0.011994917723810571, 'solver': 'newton-cholesky'} because of the following error: The value nan is not acceptable..\n",
            "[W 2023-07-13 10:39:11,550] Trial 12 failed with value nan.\n"
          ]
        },
        {
          "output_type": "stream",
          "name": "stdout",
          "text": [
            "[nan nan nan nan nan]\n"
          ]
        },
        {
          "output_type": "stream",
          "name": "stderr",
          "text": [
            "[W 2023-07-13 10:39:11,788] Trial 13 failed with parameters: {'C': 8.635403477409892e-05, 'solver': 'newton-cholesky'} because of the following error: The value nan is not acceptable..\n",
            "[W 2023-07-13 10:39:11,789] Trial 13 failed with value nan.\n"
          ]
        },
        {
          "output_type": "stream",
          "name": "stdout",
          "text": [
            "[0.16935671        nan 0.15908076 0.16208862 0.16799597]\n"
          ]
        },
        {
          "output_type": "stream",
          "name": "stderr",
          "text": [
            "[W 2023-07-13 10:39:12,199] Trial 14 failed with parameters: {'C': 0.001004501285362618, 'solver': 'liblinear'} because of the following error: The value nan is not acceptable..\n",
            "[W 2023-07-13 10:39:12,202] Trial 14 failed with value nan.\n"
          ]
        },
        {
          "output_type": "stream",
          "name": "stdout",
          "text": [
            "[       nan        nan        nan        nan 0.14577334]\n"
          ]
        },
        {
          "output_type": "stream",
          "name": "stderr",
          "text": [
            "[W 2023-07-13 10:39:12,448] Trial 15 failed with parameters: {'C': 0.8600729197914719, 'solver': 'newton-cholesky'} because of the following error: The value nan is not acceptable..\n",
            "[W 2023-07-13 10:39:12,451] Trial 15 failed with value nan.\n"
          ]
        },
        {
          "output_type": "stream",
          "name": "stdout",
          "text": [
            "[nan nan nan nan nan]\n"
          ]
        },
        {
          "output_type": "stream",
          "name": "stderr",
          "text": [
            "[I 2023-07-13 10:39:12,791] Trial 16 finished with value: 0.19085211311378797 and parameters: {'C': 0.8483203472334147, 'solver': 'lbfgs'}. Best is trial 10 with value: 0.18053750451303174.\n"
          ]
        },
        {
          "output_type": "stream",
          "name": "stdout",
          "text": [
            "[0.20290757 0.2014969  0.1649979  0.18977331 0.19508489]\n"
          ]
        },
        {
          "output_type": "stream",
          "name": "stderr",
          "text": [
            "[W 2023-07-13 10:39:13,030] Trial 17 failed with parameters: {'C': 0.061123097422396785, 'solver': 'newton-cholesky'} because of the following error: The value nan is not acceptable..\n",
            "[W 2023-07-13 10:39:13,032] Trial 17 failed with value nan.\n"
          ]
        },
        {
          "output_type": "stream",
          "name": "stdout",
          "text": [
            "[nan nan nan nan nan]\n"
          ]
        },
        {
          "output_type": "stream",
          "name": "stderr",
          "text": [
            "[W 2023-07-13 10:39:13,619] Trial 18 failed with parameters: {'C': 0.12112137485861091, 'solver': 'liblinear'} because of the following error: The value nan is not acceptable..\n",
            "[W 2023-07-13 10:39:13,621] Trial 18 failed with value nan.\n"
          ]
        },
        {
          "output_type": "stream",
          "name": "stdout",
          "text": [
            "[nan nan nan nan nan]\n"
          ]
        },
        {
          "output_type": "stream",
          "name": "stderr",
          "text": [
            "[W 2023-07-13 10:39:14,001] Trial 19 failed with parameters: {'C': 0.00013776773586062806, 'solver': 'lbfgs'} because of the following error: The value nan is not acceptable..\n",
            "[W 2023-07-13 10:39:14,005] Trial 19 failed with value nan.\n"
          ]
        },
        {
          "output_type": "stream",
          "name": "stdout",
          "text": [
            "[       nan 0.17347896 0.16356839 0.1949037  0.18506417]\n"
          ]
        },
        {
          "output_type": "stream",
          "name": "stderr",
          "text": [
            "[W 2023-07-13 10:39:14,634] Trial 20 failed with parameters: {'C': 7.185601263307598e-05, 'solver': 'newton-cholesky'} because of the following error: The value nan is not acceptable..\n",
            "[W 2023-07-13 10:39:14,637] Trial 20 failed with value nan.\n"
          ]
        },
        {
          "output_type": "stream",
          "name": "stdout",
          "text": [
            "[0.17100194        nan 0.16175808 0.16490613 0.16987213]\n"
          ]
        },
        {
          "output_type": "stream",
          "name": "stderr",
          "text": [
            "[W 2023-07-13 10:39:15,203] Trial 21 failed with parameters: {'C': 0.018035204358586854, 'solver': 'liblinear'} because of the following error: The value nan is not acceptable..\n",
            "[W 2023-07-13 10:39:15,205] Trial 21 failed with value nan.\n"
          ]
        },
        {
          "output_type": "stream",
          "name": "stdout",
          "text": [
            "[nan nan nan nan nan]\n"
          ]
        },
        {
          "output_type": "stream",
          "name": "stderr",
          "text": [
            "[W 2023-07-13 10:39:15,447] Trial 22 failed with parameters: {'C': 0.001572126412890593, 'solver': 'newton-cholesky'} because of the following error: The value nan is not acceptable..\n",
            "[W 2023-07-13 10:39:15,450] Trial 22 failed with value nan.\n"
          ]
        },
        {
          "output_type": "stream",
          "name": "stdout",
          "text": [
            "[       nan        nan        nan        nan 0.14103073]\n"
          ]
        },
        {
          "output_type": "stream",
          "name": "stderr",
          "text": [
            "[W 2023-07-13 10:39:15,709] Trial 23 failed with parameters: {'C': 0.5471396372435599, 'solver': 'newton-cholesky'} because of the following error: The value nan is not acceptable..\n",
            "[W 2023-07-13 10:39:15,711] Trial 23 failed with value nan.\n"
          ]
        },
        {
          "output_type": "stream",
          "name": "stdout",
          "text": [
            "[nan nan nan nan nan]\n"
          ]
        },
        {
          "output_type": "stream",
          "name": "stderr",
          "text": [
            "[W 2023-07-13 10:39:15,945] Trial 24 failed with parameters: {'C': 0.48770078704438624, 'solver': 'newton-cholesky'} because of the following error: The value nan is not acceptable..\n",
            "[W 2023-07-13 10:39:15,946] Trial 24 failed with value nan.\n"
          ]
        },
        {
          "output_type": "stream",
          "name": "stdout",
          "text": [
            "[nan nan nan nan nan]\n"
          ]
        },
        {
          "output_type": "stream",
          "name": "stderr",
          "text": [
            "[W 2023-07-13 10:39:16,474] Trial 25 failed with parameters: {'C': 0.002666285321975028, 'solver': 'liblinear'} because of the following error: The value nan is not acceptable..\n",
            "[W 2023-07-13 10:39:16,476] Trial 25 failed with value nan.\n"
          ]
        },
        {
          "output_type": "stream",
          "name": "stdout",
          "text": [
            "[nan nan nan nan nan]\n"
          ]
        },
        {
          "output_type": "stream",
          "name": "stderr",
          "text": [
            "[W 2023-07-13 10:39:16,701] Trial 26 failed with parameters: {'C': 0.09360350967163193, 'solver': 'newton-cholesky'} because of the following error: The value nan is not acceptable..\n",
            "[W 2023-07-13 10:39:16,704] Trial 26 failed with value nan.\n"
          ]
        },
        {
          "output_type": "stream",
          "name": "stdout",
          "text": [
            "[nan nan nan nan nan]\n"
          ]
        },
        {
          "output_type": "stream",
          "name": "stderr",
          "text": [
            "[W 2023-07-13 10:39:17,001] Trial 27 failed with parameters: {'C': 0.01256798525685622, 'solver': 'lbfgs'} because of the following error: The value nan is not acceptable..\n",
            "[W 2023-07-13 10:39:17,003] Trial 27 failed with value nan.\n"
          ]
        },
        {
          "output_type": "stream",
          "name": "stdout",
          "text": [
            "[0.19352097        nan 0.17220686 0.19142626 0.1917148 ]\n"
          ]
        },
        {
          "output_type": "stream",
          "name": "stderr",
          "text": [
            "[I 2023-07-13 10:39:17,289] Trial 28 finished with value: 0.17976109949590788 and parameters: {'C': 3.894354905494551e-05, 'solver': 'liblinear'}. Best is trial 28 with value: 0.17976109949590788.\n"
          ]
        },
        {
          "output_type": "stream",
          "name": "stdout",
          "text": [
            "[0.18819434 0.17839348 0.16834039 0.18065458 0.18322271]\n"
          ]
        },
        {
          "output_type": "stream",
          "name": "stderr",
          "text": [
            "[W 2023-07-13 10:39:17,818] Trial 29 failed with parameters: {'C': 0.002727198728249358, 'solver': 'liblinear'} because of the following error: The value nan is not acceptable..\n",
            "[W 2023-07-13 10:39:17,823] Trial 29 failed with value nan.\n"
          ]
        },
        {
          "output_type": "stream",
          "name": "stdout",
          "text": [
            "[nan nan nan nan nan]\n"
          ]
        },
        {
          "output_type": "stream",
          "name": "stderr",
          "text": [
            "[W 2023-07-13 10:39:18,094] Trial 30 failed with parameters: {'C': 7.034734551467293e-05, 'solver': 'newton-cholesky'} because of the following error: The value nan is not acceptable..\n",
            "[W 2023-07-13 10:39:18,096] Trial 30 failed with value nan.\n"
          ]
        },
        {
          "output_type": "stream",
          "name": "stdout",
          "text": [
            "[0.17120901        nan 0.16207665 0.16523653 0.17020308]\n"
          ]
        },
        {
          "output_type": "stream",
          "name": "stderr",
          "text": [
            "[W 2023-07-13 10:39:18,332] Trial 31 failed with parameters: {'C': 0.02017924079160531, 'solver': 'newton-cholesky'} because of the following error: The value nan is not acceptable..\n",
            "[W 2023-07-13 10:39:18,336] Trial 31 failed with value nan.\n"
          ]
        },
        {
          "output_type": "stream",
          "name": "stdout",
          "text": [
            "[nan nan nan nan nan]\n"
          ]
        },
        {
          "output_type": "stream",
          "name": "stderr",
          "text": [
            "[W 2023-07-13 10:39:18,700] Trial 32 failed with parameters: {'C': 0.00026790912685517744, 'solver': 'liblinear'} because of the following error: The value nan is not acceptable..\n",
            "[W 2023-07-13 10:39:18,705] Trial 32 failed with value nan.\n"
          ]
        },
        {
          "output_type": "stream",
          "name": "stdout",
          "text": [
            "[0.16251503        nan        nan        nan 0.1565611 ]\n"
          ]
        },
        {
          "output_type": "stream",
          "name": "stderr",
          "text": [
            "[I 2023-07-13 10:39:18,973] Trial 33 finished with value: 0.18430562578423304 and parameters: {'C': 2.7891070469694226e-05, 'solver': 'liblinear'}. Best is trial 28 with value: 0.17976109949590788.\n"
          ]
        },
        {
          "output_type": "stream",
          "name": "stdout",
          "text": [
            "[0.19142501 0.18174283 0.17297766 0.18462075 0.19076188]\n"
          ]
        },
        {
          "output_type": "stream",
          "name": "stderr",
          "text": [
            "[W 2023-07-13 10:39:19,631] Trial 34 failed with parameters: {'C': 0.046547706557592904, 'solver': 'liblinear'} because of the following error: The value nan is not acceptable..\n",
            "[W 2023-07-13 10:39:19,634] Trial 34 failed with value nan.\n"
          ]
        },
        {
          "output_type": "stream",
          "name": "stdout",
          "text": [
            "[nan nan nan nan nan]\n"
          ]
        },
        {
          "output_type": "stream",
          "name": "stderr",
          "text": [
            "[W 2023-07-13 10:39:19,964] Trial 35 failed with parameters: {'C': 0.16321162600650765, 'solver': 'newton-cholesky'} because of the following error: The value nan is not acceptable..\n",
            "[W 2023-07-13 10:39:19,969] Trial 35 failed with value nan.\n"
          ]
        },
        {
          "output_type": "stream",
          "name": "stdout",
          "text": [
            "[nan nan nan nan nan]\n"
          ]
        },
        {
          "output_type": "stream",
          "name": "stderr",
          "text": [
            "[W 2023-07-13 10:39:20,511] Trial 36 failed with parameters: {'C': 0.5279883931511226, 'solver': 'lbfgs'} because of the following error: The value nan is not acceptable..\n",
            "[W 2023-07-13 10:39:20,514] Trial 36 failed with value nan.\n"
          ]
        },
        {
          "output_type": "stream",
          "name": "stdout",
          "text": [
            "[       nan 0.1771262  0.17059696 0.18865708 0.18978528]\n"
          ]
        },
        {
          "output_type": "stream",
          "name": "stderr",
          "text": [
            "[W 2023-07-13 10:39:21,550] Trial 37 failed with parameters: {'C': 0.4300729834840502, 'solver': 'liblinear'} because of the following error: The value nan is not acceptable..\n",
            "[W 2023-07-13 10:39:21,553] Trial 37 failed with value nan.\n"
          ]
        },
        {
          "output_type": "stream",
          "name": "stdout",
          "text": [
            "[nan nan nan nan nan]\n"
          ]
        },
        {
          "output_type": "stream",
          "name": "stderr",
          "text": [
            "[W 2023-07-13 10:39:21,963] Trial 38 failed with parameters: {'C': 0.00016366990988781285, 'solver': 'newton-cholesky'} because of the following error: The value nan is not acceptable..\n",
            "[W 2023-07-13 10:39:21,968] Trial 38 failed with value nan.\n"
          ]
        },
        {
          "output_type": "stream",
          "name": "stdout",
          "text": [
            "[0.16416819        nan        nan        nan 0.15984362]\n"
          ]
        },
        {
          "output_type": "stream",
          "name": "stderr",
          "text": [
            "[W 2023-07-13 10:39:22,363] Trial 39 failed with parameters: {'C': 1.0593039350988783e-05, 'solver': 'newton-cholesky'} because of the following error: The value nan is not acceptable..\n",
            "[W 2023-07-13 10:39:22,369] Trial 39 failed with value nan.\n"
          ]
        },
        {
          "output_type": "stream",
          "name": "stdout",
          "text": [
            "[       nan 0.19130256 0.17958853 0.19162637 0.1954979 ]\n"
          ]
        },
        {
          "output_type": "stream",
          "name": "stderr",
          "text": [
            "[W 2023-07-13 10:39:22,767] Trial 40 failed with parameters: {'C': 0.12833326677769652, 'solver': 'newton-cholesky'} because of the following error: The value nan is not acceptable..\n",
            "[W 2023-07-13 10:39:22,772] Trial 40 failed with value nan.\n"
          ]
        },
        {
          "output_type": "stream",
          "name": "stdout",
          "text": [
            "[nan nan nan nan nan]\n"
          ]
        },
        {
          "output_type": "stream",
          "name": "stderr",
          "text": [
            "[W 2023-07-13 10:39:23,196] Trial 41 failed with parameters: {'C': 0.00011038653783976526, 'solver': 'lbfgs'} because of the following error: The value nan is not acceptable..\n",
            "[W 2023-07-13 10:39:23,198] Trial 41 failed with value nan.\n"
          ]
        },
        {
          "output_type": "stream",
          "name": "stdout",
          "text": [
            "[0.20189616        nan 0.19333758 0.19404356 0.1934972 ]\n"
          ]
        },
        {
          "output_type": "stream",
          "name": "stderr",
          "text": [
            "[W 2023-07-13 10:39:23,716] Trial 42 failed with parameters: {'C': 0.07696362298625599, 'solver': 'lbfgs'} because of the following error: The value nan is not acceptable..\n",
            "[W 2023-07-13 10:39:23,719] Trial 42 failed with value nan.\n"
          ]
        },
        {
          "output_type": "stream",
          "name": "stdout",
          "text": [
            "[       nan 0.19032708 0.18260523 0.18760058 0.18166342]\n"
          ]
        },
        {
          "output_type": "stream",
          "name": "stderr",
          "text": [
            "[W 2023-07-13 10:39:24,247] Trial 43 failed with parameters: {'C': 0.00016287038611803679, 'solver': 'liblinear'} because of the following error: The value nan is not acceptable..\n",
            "[W 2023-07-13 10:39:24,253] Trial 43 failed with value nan.\n"
          ]
        },
        {
          "output_type": "stream",
          "name": "stdout",
          "text": [
            "[0.16525184        nan        nan 0.16550314 0.16196914]\n"
          ]
        },
        {
          "output_type": "stream",
          "name": "stderr",
          "text": [
            "[W 2023-07-13 10:39:24,601] Trial 44 failed with parameters: {'C': 0.002501414326553367, 'solver': 'newton-cholesky'} because of the following error: The value nan is not acceptable..\n",
            "[W 2023-07-13 10:39:24,602] Trial 44 failed with value nan.\n"
          ]
        },
        {
          "output_type": "stream",
          "name": "stdout",
          "text": [
            "[nan nan nan nan nan]\n"
          ]
        },
        {
          "output_type": "stream",
          "name": "stderr",
          "text": [
            "[I 2023-07-13 10:39:25,051] Trial 45 finished with value: 0.18338335626167565 and parameters: {'C': 2.9686411671816536e-05, 'solver': 'liblinear'}. Best is trial 28 with value: 0.17976109949590788.\n"
          ]
        },
        {
          "output_type": "stream",
          "name": "stdout",
          "text": [
            "[0.19055012 0.18131166 0.1714068  0.18412466 0.18952353]\n"
          ]
        },
        {
          "output_type": "stream",
          "name": "stderr",
          "text": [
            "[W 2023-07-13 10:39:25,393] Trial 46 failed with parameters: {'C': 8.754895460892622e-05, 'solver': 'liblinear'} because of the following error: The value nan is not acceptable..\n",
            "[W 2023-07-13 10:39:25,395] Trial 46 failed with value nan.\n"
          ]
        },
        {
          "output_type": "stream",
          "name": "stdout",
          "text": [
            "[0.17183571        nan 0.15885409 0.1705333  0.17079536]\n"
          ]
        },
        {
          "output_type": "stream",
          "name": "stderr",
          "text": [
            "[I 2023-07-13 10:39:25,685] Trial 47 finished with value: 0.1863389133096361 and parameters: {'C': 0.023493510542491238, 'solver': 'lbfgs'}. Best is trial 28 with value: 0.17976109949590788.\n"
          ]
        },
        {
          "output_type": "stream",
          "name": "stdout",
          "text": [
            "[0.19578834 0.1912887  0.16445288 0.19769846 0.18246619]\n"
          ]
        },
        {
          "output_type": "stream",
          "name": "stderr",
          "text": [
            "[I 2023-07-13 10:39:26,008] Trial 48 finished with value: 0.19430149528697727 and parameters: {'C': 1.5910582150349545e-05, 'solver': 'lbfgs'}. Best is trial 28 with value: 0.17976109949590788.\n"
          ]
        },
        {
          "output_type": "stream",
          "name": "stdout",
          "text": [
            "[0.20485846 0.20466673 0.17685564 0.19754026 0.18758638]\n"
          ]
        },
        {
          "output_type": "stream",
          "name": "stderr",
          "text": [
            "[W 2023-07-13 10:39:26,381] Trial 49 failed with parameters: {'C': 0.0003669154271639307, 'solver': 'liblinear'} because of the following error: The value nan is not acceptable..\n",
            "[W 2023-07-13 10:39:26,383] Trial 49 failed with value nan.\n"
          ]
        },
        {
          "output_type": "stream",
          "name": "stdout",
          "text": [
            "[0.15982691        nan        nan        nan 0.15362561]\n",
            "\n",
            "\n",
            "BEST PARAMETERS : \n",
            " {'C': 3.894354905494551e-05, 'solver': 'liblinear'}\n",
            "\n",
            "\n",
            "BEST VALUES : \n",
            " 0.17976109949590788\n",
            "\n",
            "\n",
            "BEST TRIAL : \n",
            " FrozenTrial(number=28, state=TrialState.COMPLETE, values=[0.17976109949590788], datetime_start=datetime.datetime(2023, 7, 13, 10, 39, 17, 4662), datetime_complete=datetime.datetime(2023, 7, 13, 10, 39, 17, 289087), params={'C': 3.894354905494551e-05, 'solver': 'liblinear'}, user_attrs={}, system_attrs={}, intermediate_values={}, distributions={'C': FloatDistribution(high=2.0, log=True, low=1e-05, step=None), 'solver': CategoricalDistribution(choices=('liblinear', 'lbfgs', 'newton-cholesky'))}, trial_id=28, value=None)\n"
          ]
        }
      ]
    },
    {
      "cell_type": "code",
      "source": [
        "from lightgbm import LGBMClassifier\n",
        "\n",
        "# 1. Define an objective function to be maximized.\n",
        "def objective_lgbt(trial):\n",
        "\n",
        "    learning_rate  = trial.suggest_float(\"learning_rate \", 0.00001, 1.0, log=True)\n",
        "    boosting_type = trial.suggest_categorical('boosting_type', ['gbdt', \"dart\"])\n",
        "    n_estimators  = trial.suggest_int(\"n_estimators \", 50, 300, log=True)\n",
        "\n",
        "\n",
        "    lgbm = LGBMClassifier(boosting_type=boosting_type,\n",
        "                          num_leaves=31,\n",
        "                          max_depth=-1,\n",
        "                          learning_rate=learning_rate ,\n",
        "                          n_estimators=100,\n",
        "                          class_weight=None,\n",
        "                          n_jobs=-1,\n",
        "                          random_state=1\n",
        "                          )\n",
        "\n",
        "    scores = cross_val_score(lgbm, reset_x_train, y=reset_y_train, scoring=evaluate_metrics, cv=5, n_jobs=-1)\n",
        "\n",
        "    print(scores)\n",
        "    return mean(scores)\n",
        "\n",
        "# 3. Create a study object and optimize the objective function.\n",
        "study = o.create_study(direction='minimize')\n",
        "study.optimize(objective_lgbt, n_trials=50)\n",
        "\n",
        "#get best parameters\n",
        "print(\"\\n\\nBEST PARAMETERS : \\n\", study.best_params)\n",
        "\n",
        "print(\"\\n\\nBEST VALUES : \\n\", study.best_value)\n",
        "\n",
        "print(\"\\n\\nBEST TRIAL : \\n\", study.best_trial)\n",
        "\n",
        "# Сбалансированный LogLoss 0.10082225060556227 - без class_weight\n",
        "# Сбалансированный LogLoss 0.04439362317578613 - c class_weight\n",
        "# Сбалансированный LogLoss 0.04091652794195911 - c class_weight + optuna\n",
        "# Сбалансированный LogLoss 0.04037848405326154 - без class_weight + optuna\n",
        "# Сбалансированный LogLoss 0.04037848405326154 - без class_weight + opt + SMOTE and TOMEK Undersampling"
      ],
      "metadata": {
        "colab": {
          "base_uri": "https://localhost:8080/"
        },
        "id": "grKahjRF4uVL",
        "outputId": "669e95cd-be6a-40d0-f12f-e2766acfa9a0"
      },
      "execution_count": 48,
      "outputs": [
        {
          "output_type": "stream",
          "name": "stderr",
          "text": [
            "[I 2023-07-13 10:41:24,377] A new study created in memory with name: no-name-1faf1d87-5f47-4310-bcfe-c8114635bf95\n",
            "[I 2023-07-13 10:41:32,313] Trial 0 finished with value: 0.6864167166221166 and parameters: {'learning_rate ': 7.825463376287172e-05, 'boosting_type': 'gbdt', 'n_estimators ': 137}. Best is trial 0 with value: 0.6864167166221166.\n"
          ]
        },
        {
          "output_type": "stream",
          "name": "stdout",
          "text": [
            "[0.68651478 0.68639556 0.68662286 0.68645583 0.68609456]\n"
          ]
        },
        {
          "output_type": "stream",
          "name": "stderr",
          "text": [
            "[I 2023-07-13 10:41:34,771] Trial 1 finished with value: 0.040906281617730404 and parameters: {'learning_rate ': 0.17791309213758708, 'boosting_type': 'dart', 'n_estimators ': 60}. Best is trial 1 with value: 0.040906281617730404.\n"
          ]
        },
        {
          "output_type": "stream",
          "name": "stdout",
          "text": [
            "[0.04424643 0.04500966 0.04510455 0.04288198 0.0272888 ]\n"
          ]
        },
        {
          "output_type": "stream",
          "name": "stderr",
          "text": [
            "[I 2023-07-13 10:41:36,845] Trial 2 finished with value: 0.18808152728187627 and parameters: {'learning_rate ': 0.015224034192197283, 'boosting_type': 'gbdt', 'n_estimators ': 274}. Best is trial 1 with value: 0.040906281617730404.\n"
          ]
        },
        {
          "output_type": "stream",
          "name": "stdout",
          "text": [
            "[0.18924198 0.19397874 0.19389032 0.18943285 0.17386373]\n"
          ]
        },
        {
          "output_type": "stream",
          "name": "stderr",
          "text": [
            "[I 2023-07-13 10:41:39,458] Trial 3 finished with value: 0.08130649853778674 and parameters: {'learning_rate ': 0.09173752733153691, 'boosting_type': 'dart', 'n_estimators ': 67}. Best is trial 1 with value: 0.040906281617730404.\n"
          ]
        },
        {
          "output_type": "stream",
          "name": "stdout",
          "text": [
            "[0.0866564  0.08523525 0.08201878 0.08409792 0.06852415]\n"
          ]
        },
        {
          "output_type": "stream",
          "name": "stderr",
          "text": [
            "[I 2023-07-13 10:41:43,608] Trial 4 finished with value: 0.5231839901685452 and parameters: {'learning_rate ': 0.00617821345372743, 'boosting_type': 'dart', 'n_estimators ': 295}. Best is trial 1 with value: 0.040906281617730404.\n"
          ]
        },
        {
          "output_type": "stream",
          "name": "stdout",
          "text": [
            "[0.52327821 0.52464884 0.53082988 0.52308899 0.51407403]\n"
          ]
        },
        {
          "output_type": "stream",
          "name": "stderr",
          "text": [
            "[I 2023-07-13 10:41:45,502] Trial 5 finished with value: 0.415102505308012 and parameters: {'learning_rate ': 1.0218868279170686e-05, 'boosting_type': 'gbdt', 'n_estimators ': 202}. Best is trial 1 with value: 0.040906281617730404.\n"
          ]
        },
        {
          "output_type": "stream",
          "name": "stdout",
          "text": [
            "[0.3458474  0.34581924 0.34580447 0.34582129 0.69222013]\n"
          ]
        },
        {
          "output_type": "stream",
          "name": "stderr",
          "text": [
            "[I 2023-07-13 10:41:47,413] Trial 6 finished with value: 0.6645490599506721 and parameters: {'learning_rate ': 0.0008396936107382704, 'boosting_type': 'dart', 'n_estimators ': 139}. Best is trial 1 with value: 0.040906281617730404.\n"
          ]
        },
        {
          "output_type": "stream",
          "name": "stdout",
          "text": [
            "[0.66475548 0.66469293 0.6652861  0.66499854 0.66301225]\n"
          ]
        },
        {
          "output_type": "stream",
          "name": "stderr",
          "text": [
            "[I 2023-07-13 10:41:49,253] Trial 7 finished with value: 0.692227532451408 and parameters: {'learning_rate ': 2.6121992591751403e-05, 'boosting_type': 'dart', 'n_estimators ': 214}. Best is trial 1 with value: 0.040906281617730404.\n"
          ]
        },
        {
          "output_type": "stream",
          "name": "stdout",
          "text": [
            "[0.69224946 0.69223554 0.69225    0.69222621 0.69217645]\n"
          ]
        },
        {
          "output_type": "stream",
          "name": "stderr",
          "text": [
            "[I 2023-07-13 10:41:51,081] Trial 8 finished with value: 0.6921130539744567 and parameters: {'learning_rate ': 2.9365691038374432e-05, 'boosting_type': 'dart', 'n_estimators ': 226}. Best is trial 1 with value: 0.040906281617730404.\n"
          ]
        },
        {
          "output_type": "stream",
          "name": "stdout",
          "text": [
            "[0.69213603 0.69212251 0.69213878 0.6921119  0.69205606]\n"
          ]
        },
        {
          "output_type": "stream",
          "name": "stderr",
          "text": [
            "[I 2023-07-13 10:41:54,880] Trial 9 finished with value: 0.6287235379265737 and parameters: {'learning_rate ': 0.0008079419840667353, 'boosting_type': 'gbdt', 'n_estimators ': 57}. Best is trial 1 with value: 0.040906281617730404.\n"
          ]
        },
        {
          "output_type": "stream",
          "name": "stdout",
          "text": [
            "[0.62900043 0.62917363 0.63094242 0.62937825 0.62512296]\n"
          ]
        },
        {
          "output_type": "stream",
          "name": "stderr",
          "text": [
            "[I 2023-07-13 10:42:00,477] Trial 10 finished with value: 0.018505412290022734 and parameters: {'learning_rate ': 0.9146373441845456, 'boosting_type': 'dart', 'n_estimators ': 84}. Best is trial 10 with value: 0.018505412290022734.\n"
          ]
        },
        {
          "output_type": "stream",
          "name": "stdout",
          "text": [
            "[0.01914555 0.01897337 0.02893112 0.01738785 0.00808918]\n"
          ]
        },
        {
          "output_type": "stream",
          "name": "stderr",
          "text": [
            "[I 2023-07-13 10:42:03,128] Trial 11 finished with value: 0.016306163561827163 and parameters: {'learning_rate ': 0.9851147366366829, 'boosting_type': 'dart', 'n_estimators ': 78}. Best is trial 11 with value: 0.016306163561827163.\n"
          ]
        },
        {
          "output_type": "stream",
          "name": "stdout",
          "text": [
            "[0.01051997 0.01243921 0.02981952 0.02141331 0.00733881]\n"
          ]
        },
        {
          "output_type": "stream",
          "name": "stderr",
          "text": [
            "[I 2023-07-13 10:42:05,081] Trial 12 finished with value: 0.01510993296042706 and parameters: {'learning_rate ': 0.9363946020133173, 'boosting_type': 'dart', 'n_estimators ': 89}. Best is trial 12 with value: 0.01510993296042706.\n"
          ]
        },
        {
          "output_type": "stream",
          "name": "stdout",
          "text": [
            "[0.01552433 0.01900393 0.01779802 0.01551691 0.00770648]\n"
          ]
        },
        {
          "output_type": "stream",
          "name": "stderr",
          "text": [
            "[I 2023-07-13 10:42:07,104] Trial 13 finished with value: 0.01848613503639016 and parameters: {'learning_rate ': 0.8921439379924141, 'boosting_type': 'dart', 'n_estimators ': 90}. Best is trial 12 with value: 0.01510993296042706.\n"
          ]
        },
        {
          "output_type": "stream",
          "name": "stdout",
          "text": [
            "[0.01989304 0.02088559 0.02063256 0.02083818 0.0101813 ]\n"
          ]
        },
        {
          "output_type": "stream",
          "name": "stderr",
          "text": [
            "[I 2023-07-13 10:42:10,717] Trial 14 finished with value: 0.06412354477006617 and parameters: {'learning_rate ': 0.11742636574442475, 'boosting_type': 'dart', 'n_estimators ': 95}. Best is trial 12 with value: 0.01510993296042706.\n"
          ]
        },
        {
          "output_type": "stream",
          "name": "stdout",
          "text": [
            "[0.07164875 0.06509957 0.06394086 0.07285662 0.04707193]\n"
          ]
        },
        {
          "output_type": "stream",
          "name": "stderr",
          "text": [
            "[I 2023-07-13 10:42:15,567] Trial 15 finished with value: 0.209121161275643 and parameters: {'learning_rate ': 0.03515423534226485, 'boosting_type': 'dart', 'n_estimators ': 50}. Best is trial 12 with value: 0.01510993296042706.\n"
          ]
        },
        {
          "output_type": "stream",
          "name": "stdout",
          "text": [
            "[0.21096564 0.21590311 0.2142139  0.20889295 0.1956302 ]\n"
          ]
        },
        {
          "output_type": "stream",
          "name": "stderr",
          "text": [
            "[I 2023-07-13 10:42:17,774] Trial 16 finished with value: 0.020823849680184716 and parameters: {'learning_rate ': 0.41755075282982057, 'boosting_type': 'dart', 'n_estimators ': 111}. Best is trial 12 with value: 0.01510993296042706.\n"
          ]
        },
        {
          "output_type": "stream",
          "name": "stdout",
          "text": [
            "[0.0201782  0.01958393 0.03271416 0.01928045 0.0123625 ]\n"
          ]
        },
        {
          "output_type": "stream",
          "name": "stderr",
          "text": [
            "[I 2023-07-13 10:42:19,816] Trial 17 finished with value: 0.030808407960021 and parameters: {'learning_rate ': 0.2631162193674698, 'boosting_type': 'dart', 'n_estimators ': 78}. Best is trial 12 with value: 0.01510993296042706.\n"
          ]
        },
        {
          "output_type": "stream",
          "name": "stdout",
          "text": [
            "[0.03765094 0.03582132 0.03292241 0.02674269 0.02090469]\n"
          ]
        },
        {
          "output_type": "stream",
          "name": "stderr",
          "text": [
            "[I 2023-07-13 10:42:21,870] Trial 18 finished with value: 0.06329394073580803 and parameters: {'learning_rate ': 0.04536500272120806, 'boosting_type': 'gbdt', 'n_estimators ': 73}. Best is trial 12 with value: 0.01510993296042706.\n"
          ]
        },
        {
          "output_type": "stream",
          "name": "stdout",
          "text": [
            "[0.07417491 0.06696491 0.06524688 0.06543597 0.04464703]\n"
          ]
        },
        {
          "output_type": "stream",
          "name": "stderr",
          "text": [
            "[I 2023-07-13 10:42:23,292] Trial 19 finished with value: 0.014459702864375468 and parameters: {'learning_rate ': 0.9225183886746946, 'boosting_type': 'dart', 'n_estimators ': 107}. Best is trial 19 with value: 0.014459702864375468.\n"
          ]
        },
        {
          "output_type": "stream",
          "name": "stdout",
          "text": [
            "[0.01334918 0.0134382  0.02047082 0.01366501 0.0113753 ]\n"
          ]
        },
        {
          "output_type": "stream",
          "name": "stderr",
          "text": [
            "[I 2023-07-13 10:42:25,515] Trial 20 finished with value: 0.02776604083829034 and parameters: {'learning_rate ': 0.30876841427560925, 'boosting_type': 'dart', 'n_estimators ': 109}. Best is trial 19 with value: 0.014459702864375468.\n"
          ]
        },
        {
          "output_type": "stream",
          "name": "stdout",
          "text": [
            "[0.03057386 0.02806427 0.04147586 0.02039869 0.01831752]\n"
          ]
        },
        {
          "output_type": "stream",
          "name": "stderr",
          "text": [
            "[I 2023-07-13 10:42:27,905] Trial 21 finished with value: 0.019361601215531453 and parameters: {'learning_rate ': 0.8526539234548445, 'boosting_type': 'dart', 'n_estimators ': 97}. Best is trial 19 with value: 0.014459702864375468.\n"
          ]
        },
        {
          "output_type": "stream",
          "name": "stdout",
          "text": [
            "[0.02354814 0.01751457 0.02894732 0.01548054 0.01131744]\n"
          ]
        },
        {
          "output_type": "stream",
          "name": "stderr",
          "text": [
            "[I 2023-07-13 10:42:31,338] Trial 22 finished with value: 0.020624401628458394 and parameters: {'learning_rate ': 0.3860545722441545, 'boosting_type': 'dart', 'n_estimators ': 76}. Best is trial 19 with value: 0.014459702864375468.\n"
          ]
        },
        {
          "output_type": "stream",
          "name": "stdout",
          "text": [
            "[0.02617792 0.02376194 0.01667983 0.01959629 0.01690603]\n"
          ]
        },
        {
          "output_type": "stream",
          "name": "stderr",
          "text": [
            "[I 2023-07-13 10:42:33,499] Trial 23 finished with value: 0.07852514057981681 and parameters: {'learning_rate ': 0.0960737205082059, 'boosting_type': 'dart', 'n_estimators ': 123}. Best is trial 19 with value: 0.014459702864375468.\n",
            "[I 2023-07-13 10:42:34,799] Trial 24 finished with value: 0.01966939041565536 and parameters: {'learning_rate ': 0.9007218879617952, 'boosting_type': 'dart', 'n_estimators ': 68}. Best is trial 19 with value: 0.014459702864375468.\n"
          ]
        },
        {
          "output_type": "stream",
          "name": "stdout",
          "text": [
            "[0.01726068 0.02319056 0.03056328 0.02213741 0.00519503]\n"
          ]
        },
        {
          "output_type": "stream",
          "name": "stderr",
          "text": [
            "[I 2023-07-13 10:42:36,833] Trial 25 finished with value: 0.03184713816572412 and parameters: {'learning_rate ': 0.2330909873980859, 'boosting_type': 'dart', 'n_estimators ': 81}. Best is trial 19 with value: 0.014459702864375468.\n"
          ]
        },
        {
          "output_type": "stream",
          "name": "stdout",
          "text": [
            "[0.03728164 0.03346065 0.03322018 0.03439598 0.02087725]\n"
          ]
        },
        {
          "output_type": "stream",
          "name": "stderr",
          "text": [
            "[I 2023-07-13 10:42:38,796] Trial 26 finished with value: 0.04516079406782905 and parameters: {'learning_rate ': 0.0660565268142016, 'boosting_type': 'gbdt', 'n_estimators ': 100}. Best is trial 19 with value: 0.014459702864375468.\n"
          ]
        },
        {
          "output_type": "stream",
          "name": "stdout",
          "text": [
            "[0.05154799 0.04598444 0.05242487 0.04797512 0.02787155]\n"
          ]
        },
        {
          "output_type": "stream",
          "name": "stderr",
          "text": [
            "[I 2023-07-13 10:42:41,150] Trial 27 finished with value: 0.2672840438612914 and parameters: {'learning_rate ': 0.025971191964710056, 'boosting_type': 'dart', 'n_estimators ': 83}. Best is trial 19 with value: 0.014459702864375468.\n"
          ]
        },
        {
          "output_type": "stream",
          "name": "stdout",
          "text": [
            "[0.27476728 0.27269568 0.2718446  0.26653323 0.25057943]\n"
          ]
        },
        {
          "output_type": "stream",
          "name": "stderr",
          "text": [
            "[I 2023-07-13 10:42:44,714] Trial 28 finished with value: 0.04733034712115815 and parameters: {'learning_rate ': 0.15642915794050663, 'boosting_type': 'dart', 'n_estimators ': 108}. Best is trial 19 with value: 0.014459702864375468.\n"
          ]
        },
        {
          "output_type": "stream",
          "name": "stdout",
          "text": [
            "[0.05834895 0.04689007 0.04706497 0.04957653 0.03477122]\n"
          ]
        },
        {
          "output_type": "stream",
          "name": "stderr",
          "text": [
            "[I 2023-07-13 10:42:46,127] Trial 29 finished with value: 0.0123400087870957 and parameters: {'learning_rate ': 0.3827481365859512, 'boosting_type': 'gbdt', 'n_estimators ': 144}. Best is trial 29 with value: 0.0123400087870957.\n"
          ]
        },
        {
          "output_type": "stream",
          "name": "stdout",
          "text": [
            "[0.01382209 0.01176218 0.01451117 0.01232448 0.00928012]\n"
          ]
        },
        {
          "output_type": "stream",
          "name": "stderr",
          "text": [
            "[I 2023-07-13 10:42:47,042] Trial 30 finished with value: 0.015653808648945146 and parameters: {'learning_rate ': 0.46938955672631016, 'boosting_type': 'gbdt', 'n_estimators ': 134}. Best is trial 29 with value: 0.0123400087870957.\n"
          ]
        },
        {
          "output_type": "stream",
          "name": "stdout",
          "text": [
            "[0.01730803 0.01774282 0.01679018 0.01714263 0.00928538]\n"
          ]
        },
        {
          "output_type": "stream",
          "name": "stderr",
          "text": [
            "[I 2023-07-13 10:42:48,100] Trial 31 finished with value: 0.014670954732449119 and parameters: {'learning_rate ': 0.45902586527127104, 'boosting_type': 'gbdt', 'n_estimators ': 149}. Best is trial 29 with value: 0.0123400087870957.\n"
          ]
        },
        {
          "output_type": "stream",
          "name": "stdout",
          "text": [
            "[0.01718308 0.01763722 0.01342721 0.01724252 0.00786475]\n"
          ]
        },
        {
          "output_type": "stream",
          "name": "stderr",
          "text": [
            "[I 2023-07-13 10:42:49,993] Trial 32 finished with value: 0.017791201008922886 and parameters: {'learning_rate ': 0.18631349765576474, 'boosting_type': 'gbdt', 'n_estimators ': 164}. Best is trial 29 with value: 0.0123400087870957.\n"
          ]
        },
        {
          "output_type": "stream",
          "name": "stdout",
          "text": [
            "[0.01784576 0.02186975 0.0178332  0.02192113 0.00948617]\n"
          ]
        },
        {
          "output_type": "stream",
          "name": "stderr",
          "text": [
            "[I 2023-07-13 10:42:51,010] Trial 33 finished with value: 0.015938607457917683 and parameters: {'learning_rate ': 0.4242723571564469, 'boosting_type': 'gbdt', 'n_estimators ': 149}. Best is trial 29 with value: 0.0123400087870957.\n"
          ]
        },
        {
          "output_type": "stream",
          "name": "stdout",
          "text": [
            "[0.02188211 0.01345742 0.02485079 0.0131192  0.00638352]\n"
          ]
        },
        {
          "output_type": "stream",
          "name": "stderr",
          "text": [
            "[I 2023-07-13 10:42:52,950] Trial 34 finished with value: 0.020665438062539777 and parameters: {'learning_rate ': 0.15010575510888166, 'boosting_type': 'gbdt', 'n_estimators ': 120}. Best is trial 29 with value: 0.0123400087870957.\n"
          ]
        },
        {
          "output_type": "stream",
          "name": "stdout",
          "text": [
            "[0.02390497 0.0262236  0.02054974 0.0176597  0.01498917]\n"
          ]
        },
        {
          "output_type": "stream",
          "name": "stderr",
          "text": [
            "[I 2023-07-13 10:42:55,151] Trial 35 finished with value: 0.045202382534573135 and parameters: {'learning_rate ': 0.06436087896126894, 'boosting_type': 'gbdt', 'n_estimators ': 170}. Best is trial 29 with value: 0.0123400087870957.\n"
          ]
        },
        {
          "output_type": "stream",
          "name": "stdout",
          "text": [
            "[0.05515694 0.0483205  0.04853631 0.04531542 0.02868274]\n"
          ]
        },
        {
          "output_type": "stream",
          "name": "stderr",
          "text": [
            "[I 2023-07-13 10:42:56,299] Trial 36 finished with value: 0.013751755352879036 and parameters: {'learning_rate ': 0.5191410946719331, 'boosting_type': 'gbdt', 'n_estimators ': 124}. Best is trial 29 with value: 0.0123400087870957.\n"
          ]
        },
        {
          "output_type": "stream",
          "name": "stdout",
          "text": [
            "[0.01449221 0.01001709 0.0216065  0.00987707 0.01276591]\n"
          ]
        },
        {
          "output_type": "stream",
          "name": "stderr",
          "text": [
            "[I 2023-07-13 10:42:59,963] Trial 37 finished with value: 0.15338546311253573 and parameters: {'learning_rate ': 0.018894614092143294, 'boosting_type': 'gbdt', 'n_estimators ': 129}. Best is trial 29 with value: 0.0123400087870957.\n"
          ]
        },
        {
          "output_type": "stream",
          "name": "stdout",
          "text": [
            "[0.15297743 0.16046002 0.15813435 0.15623493 0.13912058]\n"
          ]
        },
        {
          "output_type": "stream",
          "name": "stderr",
          "text": [
            "[I 2023-07-13 10:43:02,375] Trial 38 finished with value: 0.02705252824840088 and parameters: {'learning_rate ': 0.10887761556305235, 'boosting_type': 'gbdt', 'n_estimators ': 147}. Best is trial 29 with value: 0.0123400087870957.\n"
          ]
        },
        {
          "output_type": "stream",
          "name": "stdout",
          "text": [
            "[0.02678791 0.03216243 0.03258886 0.02709967 0.01662376]\n"
          ]
        },
        {
          "output_type": "stream",
          "name": "stderr",
          "text": [
            "[I 2023-07-13 10:43:04,545] Trial 39 finished with value: 0.26403718089042655 and parameters: {'learning_rate ': 0.010240427099526436, 'boosting_type': 'gbdt', 'n_estimators ': 116}. Best is trial 29 with value: 0.0123400087870957.\n"
          ]
        },
        {
          "output_type": "stream",
          "name": "stdout",
          "text": [
            "[0.27078246 0.26932411 0.26895239 0.26423315 0.24689378]\n"
          ]
        },
        {
          "output_type": "stream",
          "name": "stderr",
          "text": [
            "[I 2023-07-13 10:43:05,473] Trial 40 finished with value: 0.013258406424539052 and parameters: {'learning_rate ': 0.48192391787339955, 'boosting_type': 'gbdt', 'n_estimators ': 130}. Best is trial 29 with value: 0.0123400087870957.\n"
          ]
        },
        {
          "output_type": "stream",
          "name": "stdout",
          "text": [
            "[0.00994108 0.01533203 0.01515991 0.01586521 0.0099938 ]\n"
          ]
        },
        {
          "output_type": "stream",
          "name": "stderr",
          "text": [
            "[I 2023-07-13 10:43:06,449] Trial 41 finished with value: 0.0166510025463859 and parameters: {'learning_rate ': 0.4481318088606495, 'boosting_type': 'gbdt', 'n_estimators ': 129}. Best is trial 29 with value: 0.0123400087870957.\n"
          ]
        },
        {
          "output_type": "stream",
          "name": "stdout",
          "text": [
            "[0.01641234 0.01235868 0.02423693 0.01632725 0.01391982]\n"
          ]
        },
        {
          "output_type": "stream",
          "name": "stderr",
          "text": [
            "[I 2023-07-13 10:43:08,013] Trial 42 finished with value: 0.015828746244558 and parameters: {'learning_rate ': 0.2278231265847933, 'boosting_type': 'gbdt', 'n_estimators ': 143}. Best is trial 29 with value: 0.0123400087870957.\n"
          ]
        },
        {
          "output_type": "stream",
          "name": "stdout",
          "text": [
            "[0.01406931 0.01699559 0.02399485 0.01298769 0.0110963 ]\n"
          ]
        },
        {
          "output_type": "stream",
          "name": "stderr",
          "text": [
            "[I 2023-07-13 10:43:08,891] Trial 43 finished with value: 0.015029546552880357 and parameters: {'learning_rate ': 0.6259680438133036, 'boosting_type': 'gbdt', 'n_estimators ': 160}. Best is trial 29 with value: 0.0123400087870957.\n"
          ]
        },
        {
          "output_type": "stream",
          "name": "stdout",
          "text": [
            "[0.011818   0.01461848 0.01734208 0.01673036 0.01463881]\n"
          ]
        },
        {
          "output_type": "stream",
          "name": "stderr",
          "text": [
            "[I 2023-07-13 10:43:10,331] Trial 44 finished with value: 0.015285482294146899 and parameters: {'learning_rate ': 0.24949829950656136, 'boosting_type': 'gbdt', 'n_estimators ': 185}. Best is trial 29 with value: 0.0123400087870957.\n"
          ]
        },
        {
          "output_type": "stream",
          "name": "stdout",
          "text": [
            "[0.01723379 0.01257727 0.02079489 0.01528987 0.01053158]\n"
          ]
        },
        {
          "output_type": "stream",
          "name": "stderr",
          "text": [
            "[I 2023-07-13 10:43:11,321] Trial 45 finished with value: 0.015404805266284512 and parameters: {'learning_rate ': 0.5848935897721191, 'boosting_type': 'gbdt', 'n_estimators ': 136}. Best is trial 29 with value: 0.0123400087870957.\n"
          ]
        },
        {
          "output_type": "stream",
          "name": "stdout",
          "text": [
            "[0.01542033 0.01451    0.02078614 0.01117026 0.0151373 ]\n"
          ]
        },
        {
          "output_type": "stream",
          "name": "stderr",
          "text": [
            "[I 2023-07-13 10:43:14,780] Trial 46 finished with value: 0.023263949778679262 and parameters: {'learning_rate ': 0.1500224049640479, 'boosting_type': 'gbdt', 'n_estimators ': 124}. Best is trial 29 with value: 0.0123400087870957.\n"
          ]
        },
        {
          "output_type": "stream",
          "name": "stdout",
          "text": [
            "[0.02582934 0.02414949 0.03014658 0.02367023 0.01252411]\n"
          ]
        },
        {
          "output_type": "stream",
          "name": "stderr",
          "text": [
            "[I 2023-07-13 10:43:16,193] Trial 47 finished with value: 0.013555421347433184 and parameters: {'learning_rate ': 0.5631799329883438, 'boosting_type': 'gbdt', 'n_estimators ': 148}. Best is trial 29 with value: 0.0123400087870957.\n"
          ]
        },
        {
          "output_type": "stream",
          "name": "stdout",
          "text": [
            "[0.01352167 0.01730469 0.01566014 0.0125474  0.0087432 ]\n"
          ]
        },
        {
          "output_type": "stream",
          "name": "stderr",
          "text": [
            "[I 2023-07-13 10:43:17,555] Trial 48 finished with value: 0.017023429289657367 and parameters: {'learning_rate ': 0.2798114992664813, 'boosting_type': 'gbdt', 'n_estimators ': 104}. Best is trial 29 with value: 0.0123400087870957.\n"
          ]
        },
        {
          "output_type": "stream",
          "name": "stdout",
          "text": [
            "[0.01488905 0.01665524 0.02466785 0.01952975 0.00937525]\n"
          ]
        },
        {
          "output_type": "stream",
          "name": "stderr",
          "text": [
            "[I 2023-07-13 10:43:18,340] Trial 49 finished with value: 0.01675247065937236 and parameters: {'learning_rate ': 0.6534168325263283, 'boosting_type': 'gbdt', 'n_estimators ': 112}. Best is trial 29 with value: 0.0123400087870957.\n"
          ]
        },
        {
          "output_type": "stream",
          "name": "stdout",
          "text": [
            "[0.01522748 0.01646469 0.02364179 0.02021916 0.00820923]\n",
            "\n",
            "\n",
            "BEST PARAMETERS : \n",
            " {'learning_rate ': 0.3827481365859512, 'boosting_type': 'gbdt', 'n_estimators ': 144}\n",
            "\n",
            "\n",
            "BEST VALUES : \n",
            " 0.0123400087870957\n",
            "\n",
            "\n",
            "BEST TRIAL : \n",
            " FrozenTrial(number=29, state=TrialState.COMPLETE, values=[0.0123400087870957], datetime_start=datetime.datetime(2023, 7, 13, 10, 42, 44, 718607), datetime_complete=datetime.datetime(2023, 7, 13, 10, 42, 46, 127146), params={'learning_rate ': 0.3827481365859512, 'boosting_type': 'gbdt', 'n_estimators ': 144}, user_attrs={}, system_attrs={}, intermediate_values={}, distributions={'learning_rate ': FloatDistribution(high=1.0, log=True, low=1e-05, step=None), 'boosting_type': CategoricalDistribution(choices=('gbdt', 'dart')), 'n_estimators ': IntDistribution(high=300, log=True, low=50, step=1)}, trial_id=29, value=None)\n"
          ]
        }
      ]
    },
    {
      "cell_type": "markdown",
      "source": [
        "# **TO SUBMIT**"
      ],
      "metadata": {
        "id": "LbvbkDhrlxPc"
      }
    },
    {
      "cell_type": "code",
      "source": [
        "# lightgbm показал хорошие результаты, теперь обучим модель на всех данных\n",
        "# и сделаем прогнозы для забмита\n",
        "\n",
        "lgbm_final = LGBMClassifier(boosting_type='gbdt',\n",
        "                            num_leaves=31,\n",
        "                            max_depth=-1,\n",
        "                            learning_rate=0.3827481365859512,\n",
        "                            n_estimators=144,\n",
        "                            class_weight=None,\n",
        "                            n_jobs=-1,\n",
        "                            random_state=1\n",
        "                            )\n",
        "\n",
        "lgbm_final.fit(X_res, y_res)\n",
        "prob_preds = lgbm_final.predict_proba(df_test)"
      ],
      "metadata": {
        "id": "BTnvVpdCEvdB"
      },
      "execution_count": 49,
      "outputs": []
    },
    {
      "cell_type": "code",
      "source": [
        "  # make sub\n",
        "\n",
        "ss = pd.read_csv(\"/content/drive/MyDrive/ICR - Identifying Age-Related Conditions/sample_submission.csv\")\n",
        "ss"
      ],
      "metadata": {
        "colab": {
          "base_uri": "https://localhost:8080/",
          "height": 206
        },
        "id": "SjfjcIv88OLp",
        "outputId": "43605412-1d4e-4d0b-988b-806c64aa812c"
      },
      "execution_count": 45,
      "outputs": [
        {
          "output_type": "execute_result",
          "data": {
            "text/plain": [
              "             Id  class_0  class_1\n",
              "0  00eed32682bb      0.5      0.5\n",
              "1  010ebe33f668      0.5      0.5\n",
              "2  02fa521e1838      0.5      0.5\n",
              "3  040e15f562a2      0.5      0.5\n",
              "4  046e85c7cc7f      0.5      0.5"
            ],
            "text/html": [
              "\n",
              "\n",
              "  <div id=\"df-f651f9da-3365-419c-a51b-86fb086611e1\">\n",
              "    <div class=\"colab-df-container\">\n",
              "      <div>\n",
              "<style scoped>\n",
              "    .dataframe tbody tr th:only-of-type {\n",
              "        vertical-align: middle;\n",
              "    }\n",
              "\n",
              "    .dataframe tbody tr th {\n",
              "        vertical-align: top;\n",
              "    }\n",
              "\n",
              "    .dataframe thead th {\n",
              "        text-align: right;\n",
              "    }\n",
              "</style>\n",
              "<table border=\"1\" class=\"dataframe\">\n",
              "  <thead>\n",
              "    <tr style=\"text-align: right;\">\n",
              "      <th></th>\n",
              "      <th>Id</th>\n",
              "      <th>class_0</th>\n",
              "      <th>class_1</th>\n",
              "    </tr>\n",
              "  </thead>\n",
              "  <tbody>\n",
              "    <tr>\n",
              "      <th>0</th>\n",
              "      <td>00eed32682bb</td>\n",
              "      <td>0.5</td>\n",
              "      <td>0.5</td>\n",
              "    </tr>\n",
              "    <tr>\n",
              "      <th>1</th>\n",
              "      <td>010ebe33f668</td>\n",
              "      <td>0.5</td>\n",
              "      <td>0.5</td>\n",
              "    </tr>\n",
              "    <tr>\n",
              "      <th>2</th>\n",
              "      <td>02fa521e1838</td>\n",
              "      <td>0.5</td>\n",
              "      <td>0.5</td>\n",
              "    </tr>\n",
              "    <tr>\n",
              "      <th>3</th>\n",
              "      <td>040e15f562a2</td>\n",
              "      <td>0.5</td>\n",
              "      <td>0.5</td>\n",
              "    </tr>\n",
              "    <tr>\n",
              "      <th>4</th>\n",
              "      <td>046e85c7cc7f</td>\n",
              "      <td>0.5</td>\n",
              "      <td>0.5</td>\n",
              "    </tr>\n",
              "  </tbody>\n",
              "</table>\n",
              "</div>\n",
              "      <button class=\"colab-df-convert\" onclick=\"convertToInteractive('df-f651f9da-3365-419c-a51b-86fb086611e1')\"\n",
              "              title=\"Convert this dataframe to an interactive table.\"\n",
              "              style=\"display:none;\">\n",
              "\n",
              "  <svg xmlns=\"http://www.w3.org/2000/svg\" height=\"24px\"viewBox=\"0 0 24 24\"\n",
              "       width=\"24px\">\n",
              "    <path d=\"M0 0h24v24H0V0z\" fill=\"none\"/>\n",
              "    <path d=\"M18.56 5.44l.94 2.06.94-2.06 2.06-.94-2.06-.94-.94-2.06-.94 2.06-2.06.94zm-11 1L8.5 8.5l.94-2.06 2.06-.94-2.06-.94L8.5 2.5l-.94 2.06-2.06.94zm10 10l.94 2.06.94-2.06 2.06-.94-2.06-.94-.94-2.06-.94 2.06-2.06.94z\"/><path d=\"M17.41 7.96l-1.37-1.37c-.4-.4-.92-.59-1.43-.59-.52 0-1.04.2-1.43.59L10.3 9.45l-7.72 7.72c-.78.78-.78 2.05 0 2.83L4 21.41c.39.39.9.59 1.41.59.51 0 1.02-.2 1.41-.59l7.78-7.78 2.81-2.81c.8-.78.8-2.07 0-2.86zM5.41 20L4 18.59l7.72-7.72 1.47 1.35L5.41 20z\"/>\n",
              "  </svg>\n",
              "      </button>\n",
              "\n",
              "\n",
              "\n",
              "    <div id=\"df-9729c912-03ad-4c0f-b1c7-372c5718aa6a\">\n",
              "      <button class=\"colab-df-quickchart\" onclick=\"quickchart('df-9729c912-03ad-4c0f-b1c7-372c5718aa6a')\"\n",
              "              title=\"Suggest charts.\"\n",
              "              style=\"display:none;\">\n",
              "\n",
              "<svg xmlns=\"http://www.w3.org/2000/svg\" height=\"24px\"viewBox=\"0 0 24 24\"\n",
              "     width=\"24px\">\n",
              "    <g>\n",
              "        <path d=\"M19 3H5c-1.1 0-2 .9-2 2v14c0 1.1.9 2 2 2h14c1.1 0 2-.9 2-2V5c0-1.1-.9-2-2-2zM9 17H7v-7h2v7zm4 0h-2V7h2v10zm4 0h-2v-4h2v4z\"/>\n",
              "    </g>\n",
              "</svg>\n",
              "      </button>\n",
              "    </div>\n",
              "\n",
              "<style>\n",
              "  .colab-df-quickchart {\n",
              "    background-color: #E8F0FE;\n",
              "    border: none;\n",
              "    border-radius: 50%;\n",
              "    cursor: pointer;\n",
              "    display: none;\n",
              "    fill: #1967D2;\n",
              "    height: 32px;\n",
              "    padding: 0 0 0 0;\n",
              "    width: 32px;\n",
              "  }\n",
              "\n",
              "  .colab-df-quickchart:hover {\n",
              "    background-color: #E2EBFA;\n",
              "    box-shadow: 0px 1px 2px rgba(60, 64, 67, 0.3), 0px 1px 3px 1px rgba(60, 64, 67, 0.15);\n",
              "    fill: #174EA6;\n",
              "  }\n",
              "\n",
              "  [theme=dark] .colab-df-quickchart {\n",
              "    background-color: #3B4455;\n",
              "    fill: #D2E3FC;\n",
              "  }\n",
              "\n",
              "  [theme=dark] .colab-df-quickchart:hover {\n",
              "    background-color: #434B5C;\n",
              "    box-shadow: 0px 1px 3px 1px rgba(0, 0, 0, 0.15);\n",
              "    filter: drop-shadow(0px 1px 2px rgba(0, 0, 0, 0.3));\n",
              "    fill: #FFFFFF;\n",
              "  }\n",
              "</style>\n",
              "\n",
              "    <script>\n",
              "      async function quickchart(key) {\n",
              "        const containerElement = document.querySelector('#' + key);\n",
              "        const charts = await google.colab.kernel.invokeFunction(\n",
              "            'suggestCharts', [key], {});\n",
              "      }\n",
              "    </script>\n",
              "\n",
              "      <script>\n",
              "\n",
              "function displayQuickchartButton(domScope) {\n",
              "  let quickchartButtonEl =\n",
              "    domScope.querySelector('#df-9729c912-03ad-4c0f-b1c7-372c5718aa6a button.colab-df-quickchart');\n",
              "  quickchartButtonEl.style.display =\n",
              "    google.colab.kernel.accessAllowed ? 'block' : 'none';\n",
              "}\n",
              "\n",
              "        displayQuickchartButton(document);\n",
              "      </script>\n",
              "      <style>\n",
              "    .colab-df-container {\n",
              "      display:flex;\n",
              "      flex-wrap:wrap;\n",
              "      gap: 12px;\n",
              "    }\n",
              "\n",
              "    .colab-df-convert {\n",
              "      background-color: #E8F0FE;\n",
              "      border: none;\n",
              "      border-radius: 50%;\n",
              "      cursor: pointer;\n",
              "      display: none;\n",
              "      fill: #1967D2;\n",
              "      height: 32px;\n",
              "      padding: 0 0 0 0;\n",
              "      width: 32px;\n",
              "    }\n",
              "\n",
              "    .colab-df-convert:hover {\n",
              "      background-color: #E2EBFA;\n",
              "      box-shadow: 0px 1px 2px rgba(60, 64, 67, 0.3), 0px 1px 3px 1px rgba(60, 64, 67, 0.15);\n",
              "      fill: #174EA6;\n",
              "    }\n",
              "\n",
              "    [theme=dark] .colab-df-convert {\n",
              "      background-color: #3B4455;\n",
              "      fill: #D2E3FC;\n",
              "    }\n",
              "\n",
              "    [theme=dark] .colab-df-convert:hover {\n",
              "      background-color: #434B5C;\n",
              "      box-shadow: 0px 1px 3px 1px rgba(0, 0, 0, 0.15);\n",
              "      filter: drop-shadow(0px 1px 2px rgba(0, 0, 0, 0.3));\n",
              "      fill: #FFFFFF;\n",
              "    }\n",
              "  </style>\n",
              "\n",
              "      <script>\n",
              "        const buttonEl =\n",
              "          document.querySelector('#df-f651f9da-3365-419c-a51b-86fb086611e1 button.colab-df-convert');\n",
              "        buttonEl.style.display =\n",
              "          google.colab.kernel.accessAllowed ? 'block' : 'none';\n",
              "\n",
              "        async function convertToInteractive(key) {\n",
              "          const element = document.querySelector('#df-f651f9da-3365-419c-a51b-86fb086611e1');\n",
              "          const dataTable =\n",
              "            await google.colab.kernel.invokeFunction('convertToInteractive',\n",
              "                                                     [key], {});\n",
              "          if (!dataTable) return;\n",
              "\n",
              "          const docLinkHtml = 'Like what you see? Visit the ' +\n",
              "            '<a target=\"_blank\" href=https://colab.research.google.com/notebooks/data_table.ipynb>data table notebook</a>'\n",
              "            + ' to learn more about interactive tables.';\n",
              "          element.innerHTML = '';\n",
              "          dataTable['output_type'] = 'display_data';\n",
              "          await google.colab.output.renderOutput(dataTable, element);\n",
              "          const docLink = document.createElement('div');\n",
              "          docLink.innerHTML = docLinkHtml;\n",
              "          element.appendChild(docLink);\n",
              "        }\n",
              "      </script>\n",
              "    </div>\n",
              "  </div>\n"
            ]
          },
          "metadata": {},
          "execution_count": 45
        }
      ]
    },
    {
      "cell_type": "code",
      "source": [
        "p1 = prob_preds[:, 1]\n",
        "p0 = prob_preds[:, 0]\n",
        "\n",
        "ss.class_0 = p0\n",
        "ss.class_1 = p1\n",
        "# ss.to_csv('/kaggle/working/submission.csv', index=False)\n",
        "\n",
        "# rezults on public\n",
        "\n",
        "# 0.38"
      ],
      "metadata": {
        "id": "Y-x_D2FLEgPj"
      },
      "execution_count": 46,
      "outputs": []
    },
    {
      "cell_type": "code",
      "source": [
        "ox_gn_df = pd.DataFrame(columns=['text', 'title', 'author'], )"
      ],
      "metadata": {
        "id": "SYU5hlBU0s7W"
      },
      "execution_count": 47,
      "outputs": []
    }
  ]
}